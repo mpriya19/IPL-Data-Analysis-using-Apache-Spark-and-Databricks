{
 "cells": [
  {
   "cell_type": "code",
   "execution_count": 0,
   "metadata": {
    "application/vnd.databricks.v1+cell": {
     "cellMetadata": {
      "byteLimit": 2048000,
      "rowLimit": 10000
     },
     "inputWidgets": {},
     "nuid": "1cf22362-08ab-4559-97d8-39174dc30ce5",
     "showTitle": false,
     "title": ""
    }
   },
   "outputs": [
    {
     "output_type": "display_data",
     "data": {
      "text/html": [
       "\n",
       "            <div>\n",
       "                <p><b>SparkSession - hive</b></p>\n",
       "                \n",
       "        <div>\n",
       "            <p><b>SparkContext</b></p>\n",
       "\n",
       "            <p><a href=\"/?o=368174992908734#setting/sparkui/0519-183156-1d62wqk5/driver-7198997284177359539\">Spark UI</a></p>\n",
       "\n",
       "            <dl>\n",
       "              <dt>Version</dt>\n",
       "                <dd><code>v3.3.2</code></dd>\n",
       "              <dt>Master</dt>\n",
       "                <dd><code>local[8]</code></dd>\n",
       "              <dt>AppName</dt>\n",
       "                <dd><code>Databricks Shell</code></dd>\n",
       "            </dl>\n",
       "        </div>\n",
       "        \n",
       "            </div>\n",
       "        "
      ]
     },
     "metadata": {
      "application/vnd.databricks.v1+output": {
       "addedWidgets": {},
       "arguments": {},
       "data": "\n            <div>\n                <p><b>SparkSession - hive</b></p>\n                \n        <div>\n            <p><b>SparkContext</b></p>\n\n            <p><a href=\"/?o=368174992908734#setting/sparkui/0519-183156-1d62wqk5/driver-7198997284177359539\">Spark UI</a></p>\n\n            <dl>\n              <dt>Version</dt>\n                <dd><code>v3.3.2</code></dd>\n              <dt>Master</dt>\n                <dd><code>local[8]</code></dd>\n              <dt>AppName</dt>\n                <dd><code>Databricks Shell</code></dd>\n            </dl>\n        </div>\n        \n            </div>\n        ",
       "datasetInfos": [],
       "metadata": {},
       "removedWidgets": [],
       "textData": null,
       "type": "htmlSandbox"
      }
     },
     "output_type": "display_data"
    }
   ],
   "source": [
    "spark"
   ]
  },
  {
   "cell_type": "code",
   "execution_count": 0,
   "metadata": {
    "application/vnd.databricks.v1+cell": {
     "cellMetadata": {
      "byteLimit": 2048000,
      "rowLimit": 10000
     },
     "inputWidgets": {},
     "nuid": "d83dcdda-e325-44e8-a2e4-0d6d5367b72c",
     "showTitle": false,
     "title": ""
    }
   },
   "outputs": [],
   "source": [
    "from pyspark.sql.types import *\n",
    "from pyspark.sql.functions import *\n",
    "from pyspark.sql.window import Window\n",
    "\n",
    "\n",
    "from pyspark.sql import SparkSession \n",
    "#create session\n",
    "spark= SparkSession.builder.appName(\"IPL DATA ANALYSIS\").getOrCreate()"
   ]
  },
  {
   "cell_type": "code",
   "execution_count": 0,
   "metadata": {
    "application/vnd.databricks.v1+cell": {
     "cellMetadata": {
      "byteLimit": 2048000,
      "rowLimit": 10000
     },
     "inputWidgets": {},
     "nuid": "b229951c-9dac-473d-9cbc-56e65aa2e733",
     "showTitle": false,
     "title": ""
    }
   },
   "outputs": [],
   "source": [
    "ball_by_ball_df = spark.read.format(\"csv\").option(\"header\",\"true\").option(\"inferSchema\",\"true\").load(\"s3://ipl-dataanalaysis-databricks/ball_by_ball.csv\")"
   ]
  },
  {
   "cell_type": "code",
   "execution_count": 0,
   "metadata": {
    "application/vnd.databricks.v1+cell": {
     "cellMetadata": {
      "byteLimit": 2048000,
      "rowLimit": 10000
     },
     "inputWidgets": {},
     "nuid": "96234101-4632-4141-a796-b1db11e15658",
     "showTitle": false,
     "title": ""
    }
   },
   "outputs": [
    {
     "output_type": "stream",
     "name": "stdout",
     "output_type": "stream",
     "text": [
      "+--------+-------+-------+----------+------------+------------+------------------------+----------+-----------+----------+-----+-------+----+-------+-------+-------------+--------------+------+------+-------+-----+------------+-------+-----------------+----------+----------------+-------------+----------+------+-------+-----------+------+----------+--------+----------------+---------+-------------------+-------------+----------------+----------+---------------+---------+------------------+--------------+--------------+------------+-------------+-----------+\n|match_id|over_id|ball_id|innings_no|team_batting|team_bowling|striker_batting_position|extra_type|runs_scored|extra_runs|wides|legbyes|byes|noballs|penalty|bowler_extras|      out_type|caught|bowled|run_out|  lbw|retired_hurt|stumped|caught_and_bowled|hit_wicket|obstructingfeild|bowler_wicket|match_date|season|striker|non_striker|bowler|player_out|fielders|striker_match_sk|strikersk|nonstriker_match_sk|nonstriker_sk|fielder_match_sk|fielder_sk|bowler_match_sk|bowler_sk|playerout_match_sk|battingteam_sk|bowlingteam_sk|keeper_catch|player_out_sk|matchdatesk|\n+--------+-------+-------+----------+------------+------------+------------------------+----------+-----------+----------+-----+-------+----+-------+-------+-------------+--------------+------+------+-------+-----+------------+-------+-----------------+----------+----------------+-------------+----------+------+-------+-----------+------+----------+--------+----------------+---------+-------------------+-------------+----------------+----------+---------------+---------+------------------+--------------+--------------+------------+-------------+-----------+\n|  598028|     15|      6|         1|           5|           2|                       6| No Extras|          4|         0|    0|      0|   0|      0|      0|            0|Not Applicable| false| false|  false|false|       false|  false|            false|     false|           false|        false|2013-04-20|  2013|    277|        104|    83|      null|    null|           20336|      276|              20333|          103|              -1|        -1|          20343|       82|                -1|             4|             1|       false|            0| 2013-04-20|\n|  598028|     14|      1|         1|           5|           2|                       5| No Extras|          1|         0|    0|      0|   0|      0|      0|            0|Not Applicable| false| false|  false|false|       false|  false|            false|     false|           false|        false|2013-04-20|  2013|    104|          6|   346|      null|    null|           20333|      103|              20328|            5|              -1|        -1|          20348|      345|                -1|             4|             1|       false|            0| 2013-04-20|\n|  598028|     14|      2|         1|           5|           2|                       3| No Extras|          1|         0|    0|      0|   0|      0|      0|            0|Not Applicable| false| false|  false|false|       false|  false|            false|     false|           false|        false|2013-04-20|  2013|      6|        104|   346|      null|    null|           20328|        5|              20333|          103|              -1|        -1|          20348|      345|                -1|             4|             1|       false|            0| 2013-04-20|\n|  598028|     14|      3|         1|           5|           2|                       5| No Extras|          1|         0|    0|      0|   0|      0|      0|            0|Not Applicable| false| false|  false|false|       false|  false|            false|     false|           false|        false|2013-04-20|  2013|    104|          6|   346|      null|    null|           20333|      103|              20328|            5|              -1|        -1|          20348|      345|                -1|             4|             1|       false|            0| 2013-04-20|\n|  598028|     14|      4|         1|           5|           2|                       3| No Extras|          0|         0|    0|      0|   0|      0|      0|            0|Not Applicable| false| false|  false|false|       false|  false|            false|     false|           false|        false|2013-04-20|  2013|      6|        104|   346|      null|    null|           20328|        5|              20333|          103|              -1|        -1|          20348|      345|                -1|             4|             1|       false|            0| 2013-04-20|\n+--------+-------+-------+----------+------------+------------+------------------------+----------+-----------+----------+-----+-------+----+-------+-------+-------------+--------------+------+------+-------+-----+------------+-------+-----------------+----------+----------------+-------------+----------+------+-------+-----------+------+----------+--------+----------------+---------+-------------------+-------------+----------------+----------+---------------+---------+------------------+--------------+--------------+------------+-------------+-----------+\nonly showing top 5 rows\n\n"
     ]
    }
   ],
   "source": [
    "ball_by_ball_df.show(5)"
   ]
  },
  {
   "cell_type": "code",
   "execution_count": 0,
   "metadata": {
    "application/vnd.databricks.v1+cell": {
     "cellMetadata": {
      "byteLimit": 2048000,
      "rowLimit": 10000
     },
     "inputWidgets": {},
     "nuid": "12048485-fcde-4508-a0d2-611689fe9353",
     "showTitle": false,
     "title": ""
    }
   },
   "outputs": [],
   "source": [
    "from pyspark.sql.types import *\n",
    "from pyspark.sql.functions import *\n"
   ]
  },
  {
   "cell_type": "code",
   "execution_count": 0,
   "metadata": {
    "application/vnd.databricks.v1+cell": {
     "cellMetadata": {
      "byteLimit": 2048000,
      "rowLimit": 10000
     },
     "inputWidgets": {},
     "nuid": "7fd62864-259b-48f1-b3db-5bac6ef6741f",
     "showTitle": false,
     "title": ""
    }
   },
   "outputs": [],
   "source": [
    "ball_by_ball_schema = StructType([\n",
    "    StructField(\"match_id\", IntegerType(), nullable=True),\n",
    "    StructField(\"over_id\", IntegerType(), nullable=True),\n",
    "    StructField(\"ball_id\", IntegerType(), nullable=True),\n",
    "    StructField(\"innings_no\", IntegerType(), nullable=True),\n",
    "    StructField(\"team_batting\", StringType(), nullable=True),\n",
    "    StructField(\"team_bowling\", StringType(), nullable=True),\n",
    "    StructField(\"striker_batting_position\", IntegerType(), nullable=True),\n",
    "    StructField(\"extra_type\", StringType(), nullable=True),\n",
    "    StructField(\"runs_scored\", IntegerType(), nullable=True),\n",
    "    StructField(\"extra_runs\", IntegerType(), nullable=True),\n",
    "    StructField(\"wides\", IntegerType(), nullable=True),\n",
    "    StructField(\"legbyes\", IntegerType(), nullable=True),\n",
    "    StructField(\"byes\", IntegerType(), nullable=True),\n",
    "    StructField(\"noballs\", IntegerType(), nullable=True),\n",
    "    StructField(\"penalty\", IntegerType(), nullable=True),\n",
    "    StructField(\"bowler_extras\", IntegerType(), nullable=True),\n",
    "    StructField(\"out_type\", StringType(), nullable=True),\n",
    "    StructField(\"caught\", BooleanType(), nullable=True),\n",
    "    StructField(\"bowled\", BooleanType(), nullable=True),\n",
    "    StructField(\"run_out\", BooleanType(), nullable=True),\n",
    "    StructField(\"lbw\", BooleanType(), nullable=True),\n",
    "    StructField(\"retired_hurt\", BooleanType(), nullable=True),\n",
    "    StructField(\"stumped\", BooleanType(), nullable=True),\n",
    "    StructField(\"caught_and_bowled\", BooleanType(), nullable=True),\n",
    "    StructField(\"hit_wicket\", BooleanType(), nullable=True),\n",
    "    StructField(\"obstructingfeild\", BooleanType(), nullable=True),\n",
    "    StructField(\"bowler_wicket\", BooleanType(), nullable=True),\n",
    "    StructField(\"match_date\", DateType(), nullable=True),\n",
    "    StructField(\"season\", IntegerType(), nullable=True),\n",
    "    StructField(\"striker\", IntegerType(), nullable=True),\n",
    "    StructField(\"non_striker\", IntegerType(), nullable=True),\n",
    "    StructField(\"bowler\", IntegerType(), nullable=True),\n",
    "    StructField(\"player_out\", IntegerType(), nullable=True),\n",
    "    StructField(\"fielders\", IntegerType(), nullable=True),\n",
    "    StructField(\"striker_match_sk\", IntegerType(), nullable=True),\n",
    "    StructField(\"strikersk\", IntegerType(), nullable=True),\n",
    "    StructField(\"nonstriker_match_sk\", IntegerType(), nullable=True),\n",
    "    StructField(\"nonstriker_sk\", IntegerType(), nullable=True),\n",
    "    StructField(\"fielder_match_sk\", IntegerType(), nullable=True),\n",
    "    StructField(\"fielder_sk\", IntegerType(), nullable=True),\n",
    "    StructField(\"bowler_match_sk\", IntegerType(), nullable=True),\n",
    "    StructField(\"bowler_sk\", IntegerType(), nullable=True),\n",
    "    StructField(\"playerout_match_sk\", IntegerType(), nullable=True),\n",
    "    StructField(\"battingteam_sk\", IntegerType(), nullable=True),\n",
    "    StructField(\"bowlingteam_sk\", IntegerType(), nullable=True),\n",
    "    StructField(\"keeper_catch\", BooleanType(), nullable=True),\n",
    "    StructField(\"player_out_sk\", IntegerType(), nullable=True),\n",
    "    StructField(\"matchdatesk\", DateType(), nullable=True)\n",
    "])"
   ]
  },
  {
   "cell_type": "code",
   "execution_count": 0,
   "metadata": {
    "application/vnd.databricks.v1+cell": {
     "cellMetadata": {
      "byteLimit": 2048000,
      "rowLimit": 10000
     },
     "inputWidgets": {},
     "nuid": "b322fb7a-7094-442b-93e8-958ca7ccef93",
     "showTitle": false,
     "title": ""
    }
   },
   "outputs": [],
   "source": [
    "ball_by_ball_df = spark.read.format(\"csv\").schema(ball_by_ball_schema).option(\"header\",\"true\").load(\"s3://ipl-dataanalaysis-databricks/ball_by_ball.csv\")"
   ]
  },
  {
   "cell_type": "code",
   "execution_count": 0,
   "metadata": {
    "application/vnd.databricks.v1+cell": {
     "cellMetadata": {
      "byteLimit": 2048000,
      "rowLimit": 10000
     },
     "inputWidgets": {},
     "nuid": "d6de2aa3-33b0-4253-8fe8-75a68b6ea806",
     "showTitle": false,
     "title": ""
    }
   },
   "outputs": [],
   "source": [
    "team_schema = StructType([\n",
    "    StructField(\"team_sk\", IntegerType(), nullable=True),\n",
    "    StructField(\"team_id\", IntegerType(), nullable=True),\n",
    "    StructField(\"team_name\", StringType(), nullable=True)\n",
    "])\n",
    "\n",
    "team_df = spark.read.format(\"csv\").schema(team_schema).option(\"header\",\"true\").load(\"s3://ipl-dataanalaysis-databricks/team.csv\")"
   ]
  },
  {
   "cell_type": "code",
   "execution_count": 0,
   "metadata": {
    "application/vnd.databricks.v1+cell": {
     "cellMetadata": {
      "byteLimit": 2048000,
      "rowLimit": 10000
     },
     "inputWidgets": {},
     "nuid": "c1aa7864-3b9c-4eff-b0ff-c32b03b2cd64",
     "showTitle": false,
     "title": ""
    }
   },
   "outputs": [],
   "source": [
    "player_match_schema = StructType([\n",
    "    StructField(\"player_match_sk\", IntegerType(), nullable=True),\n",
    "    StructField(\"playermatch_key\", DecimalType(10, 0), nullable=True),\n",
    "    StructField(\"match_id\", IntegerType(), nullable=True),\n",
    "    StructField(\"player_id\", IntegerType(), nullable=True),\n",
    "    StructField(\"player_name\", StringType(), nullable=True),\n",
    "    StructField(\"dob\", DateType(), nullable=True),\n",
    "    StructField(\"batting_hand\", StringType(), nullable=True),\n",
    "    StructField(\"bowling_skill\", StringType(), nullable=True),\n",
    "    StructField(\"country_name\", StringType(), nullable=True),\n",
    "    StructField(\"role_desc\", StringType(), nullable=True),\n",
    "    StructField(\"player_team\", StringType(), nullable=True),\n",
    "    StructField(\"opposit_team\", StringType(), nullable=True),\n",
    "    StructField(\"season_year\", IntegerType(), nullable=True),\n",
    "    StructField(\"is_manofthematch\", BooleanType(), nullable=True),\n",
    "    StructField(\"age_as_on_match\", IntegerType(), nullable=True),\n",
    "    StructField(\"isplayers_team_won\", BooleanType(), nullable=True),\n",
    "    StructField(\"batting_status\", StringType(), nullable=True),\n",
    "    StructField(\"bowling_status\", StringType(), nullable=True),\n",
    "    StructField(\"player_captain\", StringType(), nullable=True),\n",
    "    StructField(\"opposit_captain\", StringType(), nullable=True),\n",
    "    StructField(\"player_keeper\", StringType(), nullable=True),\n",
    "    StructField(\"opposit_keeper\", StringType(), nullable=True)\n",
    "])\n",
    "\n",
    "player_match_df= spark.read.format(\"csv\").schema(player_match_schema).option(\"header\",\"true\").load(\"s3://ipl-dataanalaysis-databricks/player_match.csv\")"
   ]
  },
  {
   "cell_type": "code",
   "execution_count": 0,
   "metadata": {
    "application/vnd.databricks.v1+cell": {
     "cellMetadata": {
      "byteLimit": 2048000,
      "rowLimit": 10000
     },
     "inputWidgets": {},
     "nuid": "f7787595-8110-482e-a58e-5c5fa0307df4",
     "showTitle": false,
     "title": ""
    }
   },
   "outputs": [
    {
     "output_type": "stream",
     "name": "stderr",
     "output_type": "stream",
     "text": [
      "/databricks/spark/python/pyspark/sql/pandas/utils.py:124: UserWarning: The conversion of DecimalType columns is inefficient and may take a long time. Column names: [playermatch_key] If those columns are not necessary, you may consider dropping them or converting to primitive types before the conversion.\n  warnings.warn(\n"
     ]
    },
    {
     "output_type": "display_data",
     "data": {
      "text/html": [
       "<div>\n",
       "<style scoped>\n",
       "    .dataframe tbody tr th:only-of-type {\n",
       "        vertical-align: middle;\n",
       "    }\n",
       "\n",
       "    .dataframe tbody tr th {\n",
       "        vertical-align: top;\n",
       "    }\n",
       "\n",
       "    .dataframe thead th {\n",
       "        text-align: right;\n",
       "    }\n",
       "</style>\n",
       "<table border=\"1\" class=\"dataframe\">\n",
       "  <thead>\n",
       "    <tr style=\"text-align: right;\">\n",
       "      <th></th>\n",
       "      <th>player_match_sk</th>\n",
       "      <th>playermatch_key</th>\n",
       "      <th>match_id</th>\n",
       "      <th>player_id</th>\n",
       "      <th>player_name</th>\n",
       "      <th>dob</th>\n",
       "      <th>batting_hand</th>\n",
       "      <th>bowling_skill</th>\n",
       "      <th>country_name</th>\n",
       "      <th>role_desc</th>\n",
       "      <th>...</th>\n",
       "      <th>season_year</th>\n",
       "      <th>is_manofthematch</th>\n",
       "      <th>age_as_on_match</th>\n",
       "      <th>isplayers_team_won</th>\n",
       "      <th>batting_status</th>\n",
       "      <th>bowling_status</th>\n",
       "      <th>player_captain</th>\n",
       "      <th>opposit_captain</th>\n",
       "      <th>player_keeper</th>\n",
       "      <th>opposit_keeper</th>\n",
       "    </tr>\n",
       "  </thead>\n",
       "  <tbody>\n",
       "    <tr>\n",
       "      <th>0</th>\n",
       "      <td>-1</td>\n",
       "      <td>-1</td>\n",
       "      <td>-1</td>\n",
       "      <td>-1</td>\n",
       "      <td>N/A</td>\n",
       "      <td>None</td>\n",
       "      <td>None</td>\n",
       "      <td>None</td>\n",
       "      <td>None</td>\n",
       "      <td>None</td>\n",
       "      <td>...</td>\n",
       "      <td>NaN</td>\n",
       "      <td>None</td>\n",
       "      <td>NaN</td>\n",
       "      <td>None</td>\n",
       "      <td>None</td>\n",
       "      <td>None</td>\n",
       "      <td>None</td>\n",
       "      <td>None</td>\n",
       "      <td>None</td>\n",
       "      <td>None</td>\n",
       "    </tr>\n",
       "    <tr>\n",
       "      <th>1</th>\n",
       "      <td>12694</td>\n",
       "      <td>None</td>\n",
       "      <td>335987</td>\n",
       "      <td>6</td>\n",
       "      <td>R Dravid</td>\n",
       "      <td>1973-01-11</td>\n",
       "      <td>Right-hand bat</td>\n",
       "      <td>Right-arm offbreak</td>\n",
       "      <td>India</td>\n",
       "      <td>Captain</td>\n",
       "      <td>...</td>\n",
       "      <td>2008.0</td>\n",
       "      <td>False</td>\n",
       "      <td>35.0</td>\n",
       "      <td>False</td>\n",
       "      <td>None</td>\n",
       "      <td>None</td>\n",
       "      <td>R Dravid</td>\n",
       "      <td>SC Ganguly</td>\n",
       "      <td>MV Boucher</td>\n",
       "      <td>WP Saha</td>\n",
       "    </tr>\n",
       "    <tr>\n",
       "      <th>2</th>\n",
       "      <td>12695</td>\n",
       "      <td>None</td>\n",
       "      <td>335987</td>\n",
       "      <td>7</td>\n",
       "      <td>W Jaffer</td>\n",
       "      <td>1978-02-16</td>\n",
       "      <td>Right-hand bat</td>\n",
       "      <td>Right-arm offbreak</td>\n",
       "      <td>India</td>\n",
       "      <td>Player</td>\n",
       "      <td>...</td>\n",
       "      <td>2008.0</td>\n",
       "      <td>False</td>\n",
       "      <td>30.0</td>\n",
       "      <td>False</td>\n",
       "      <td>None</td>\n",
       "      <td>None</td>\n",
       "      <td>R Dravid</td>\n",
       "      <td>SC Ganguly</td>\n",
       "      <td>MV Boucher</td>\n",
       "      <td>WP Saha</td>\n",
       "    </tr>\n",
       "    <tr>\n",
       "      <th>3</th>\n",
       "      <td>12696</td>\n",
       "      <td>None</td>\n",
       "      <td>335987</td>\n",
       "      <td>8</td>\n",
       "      <td>V Kohli</td>\n",
       "      <td>1988-11-05</td>\n",
       "      <td>Right-hand bat</td>\n",
       "      <td>Right-arm medium</td>\n",
       "      <td>India</td>\n",
       "      <td>Player</td>\n",
       "      <td>...</td>\n",
       "      <td>2008.0</td>\n",
       "      <td>False</td>\n",
       "      <td>20.0</td>\n",
       "      <td>False</td>\n",
       "      <td>None</td>\n",
       "      <td>None</td>\n",
       "      <td>R Dravid</td>\n",
       "      <td>SC Ganguly</td>\n",
       "      <td>MV Boucher</td>\n",
       "      <td>WP Saha</td>\n",
       "    </tr>\n",
       "    <tr>\n",
       "      <th>4</th>\n",
       "      <td>12697</td>\n",
       "      <td>None</td>\n",
       "      <td>335987</td>\n",
       "      <td>9</td>\n",
       "      <td>JH Kallis</td>\n",
       "      <td>1975-10-16</td>\n",
       "      <td>Right-hand bat</td>\n",
       "      <td>Right-arm fast-medium</td>\n",
       "      <td>South Africa</td>\n",
       "      <td>Player</td>\n",
       "      <td>...</td>\n",
       "      <td>2008.0</td>\n",
       "      <td>False</td>\n",
       "      <td>33.0</td>\n",
       "      <td>False</td>\n",
       "      <td>None</td>\n",
       "      <td>None</td>\n",
       "      <td>R Dravid</td>\n",
       "      <td>SC Ganguly</td>\n",
       "      <td>MV Boucher</td>\n",
       "      <td>WP Saha</td>\n",
       "    </tr>\n",
       "  </tbody>\n",
       "</table>\n",
       "<p>5 rows × 22 columns</p>\n",
       "</div>"
      ]
     },
     "metadata": {
      "application/vnd.databricks.v1+output": {
       "addedWidgets": {},
       "arguments": {},
       "data": "<div>\n<style scoped>\n    .dataframe tbody tr th:only-of-type {\n        vertical-align: middle;\n    }\n\n    .dataframe tbody tr th {\n        vertical-align: top;\n    }\n\n    .dataframe thead th {\n        text-align: right;\n    }\n</style>\n<table border=\"1\" class=\"dataframe\">\n  <thead>\n    <tr style=\"text-align: right;\">\n      <th></th>\n      <th>player_match_sk</th>\n      <th>playermatch_key</th>\n      <th>match_id</th>\n      <th>player_id</th>\n      <th>player_name</th>\n      <th>dob</th>\n      <th>batting_hand</th>\n      <th>bowling_skill</th>\n      <th>country_name</th>\n      <th>role_desc</th>\n      <th>...</th>\n      <th>season_year</th>\n      <th>is_manofthematch</th>\n      <th>age_as_on_match</th>\n      <th>isplayers_team_won</th>\n      <th>batting_status</th>\n      <th>bowling_status</th>\n      <th>player_captain</th>\n      <th>opposit_captain</th>\n      <th>player_keeper</th>\n      <th>opposit_keeper</th>\n    </tr>\n  </thead>\n  <tbody>\n    <tr>\n      <th>0</th>\n      <td>-1</td>\n      <td>-1</td>\n      <td>-1</td>\n      <td>-1</td>\n      <td>N/A</td>\n      <td>None</td>\n      <td>None</td>\n      <td>None</td>\n      <td>None</td>\n      <td>None</td>\n      <td>...</td>\n      <td>NaN</td>\n      <td>None</td>\n      <td>NaN</td>\n      <td>None</td>\n      <td>None</td>\n      <td>None</td>\n      <td>None</td>\n      <td>None</td>\n      <td>None</td>\n      <td>None</td>\n    </tr>\n    <tr>\n      <th>1</th>\n      <td>12694</td>\n      <td>None</td>\n      <td>335987</td>\n      <td>6</td>\n      <td>R Dravid</td>\n      <td>1973-01-11</td>\n      <td>Right-hand bat</td>\n      <td>Right-arm offbreak</td>\n      <td>India</td>\n      <td>Captain</td>\n      <td>...</td>\n      <td>2008.0</td>\n      <td>False</td>\n      <td>35.0</td>\n      <td>False</td>\n      <td>None</td>\n      <td>None</td>\n      <td>R Dravid</td>\n      <td>SC Ganguly</td>\n      <td>MV Boucher</td>\n      <td>WP Saha</td>\n    </tr>\n    <tr>\n      <th>2</th>\n      <td>12695</td>\n      <td>None</td>\n      <td>335987</td>\n      <td>7</td>\n      <td>W Jaffer</td>\n      <td>1978-02-16</td>\n      <td>Right-hand bat</td>\n      <td>Right-arm offbreak</td>\n      <td>India</td>\n      <td>Player</td>\n      <td>...</td>\n      <td>2008.0</td>\n      <td>False</td>\n      <td>30.0</td>\n      <td>False</td>\n      <td>None</td>\n      <td>None</td>\n      <td>R Dravid</td>\n      <td>SC Ganguly</td>\n      <td>MV Boucher</td>\n      <td>WP Saha</td>\n    </tr>\n    <tr>\n      <th>3</th>\n      <td>12696</td>\n      <td>None</td>\n      <td>335987</td>\n      <td>8</td>\n      <td>V Kohli</td>\n      <td>1988-11-05</td>\n      <td>Right-hand bat</td>\n      <td>Right-arm medium</td>\n      <td>India</td>\n      <td>Player</td>\n      <td>...</td>\n      <td>2008.0</td>\n      <td>False</td>\n      <td>20.0</td>\n      <td>False</td>\n      <td>None</td>\n      <td>None</td>\n      <td>R Dravid</td>\n      <td>SC Ganguly</td>\n      <td>MV Boucher</td>\n      <td>WP Saha</td>\n    </tr>\n    <tr>\n      <th>4</th>\n      <td>12697</td>\n      <td>None</td>\n      <td>335987</td>\n      <td>9</td>\n      <td>JH Kallis</td>\n      <td>1975-10-16</td>\n      <td>Right-hand bat</td>\n      <td>Right-arm fast-medium</td>\n      <td>South Africa</td>\n      <td>Player</td>\n      <td>...</td>\n      <td>2008.0</td>\n      <td>False</td>\n      <td>33.0</td>\n      <td>False</td>\n      <td>None</td>\n      <td>None</td>\n      <td>R Dravid</td>\n      <td>SC Ganguly</td>\n      <td>MV Boucher</td>\n      <td>WP Saha</td>\n    </tr>\n  </tbody>\n</table>\n<p>5 rows × 22 columns</p>\n</div>",
       "datasetInfos": [],
       "metadata": {},
       "removedWidgets": [],
       "textData": null,
       "type": "htmlSandbox"
      }
     },
     "output_type": "display_data"
    }
   ],
   "source": [
    "player_match_df.toPandas().head()"
   ]
  },
  {
   "cell_type": "code",
   "execution_count": 0,
   "metadata": {
    "application/vnd.databricks.v1+cell": {
     "cellMetadata": {
      "byteLimit": 2048000,
      "rowLimit": 10000
     },
     "inputWidgets": {},
     "nuid": "5b9bbf0e-c405-418b-b430-e86baf6e7942",
     "showTitle": false,
     "title": ""
    }
   },
   "outputs": [],
   "source": [
    "player_schema = StructType([\n",
    "    StructField(\"player_sk\", IntegerType(), nullable=True),\n",
    "    StructField(\"player_id\", IntegerType(), nullable=True),\n",
    "    StructField(\"player_name\", StringType(), nullable=True),\n",
    "    StructField(\"dob\", DateType(), nullable=True),\n",
    "    StructField(\"batting_hand\", StringType(), nullable=True),\n",
    "    StructField(\"bowling_skill\", StringType(), nullable=True),\n",
    "    StructField(\"country_name\", StringType(), nullable=True)\n",
    "])\n",
    "player_df =spark.read.format(\"csv\").schema(player_schema).option(\"header\",\"true\").load(\"s3://ipl-dataanalaysis-databricks/player.csv\")"
   ]
  },
  {
   "cell_type": "code",
   "execution_count": 0,
   "metadata": {
    "application/vnd.databricks.v1+cell": {
     "cellMetadata": {
      "byteLimit": 2048000,
      "rowLimit": 10000
     },
     "inputWidgets": {},
     "nuid": "6c87dbe6-669e-46ee-b483-dc839b7d7d62",
     "showTitle": false,
     "title": ""
    }
   },
   "outputs": [],
   "source": [
    "match_schema = StructType([\n",
    "    StructField(\"match_sk\", IntegerType(), nullable=True),\n",
    "    StructField(\"match_id\", IntegerType(), nullable=True),\n",
    "    StructField(\"team1\", StringType(), nullable=True),\n",
    "    StructField(\"team2\", StringType(), nullable=True),\n",
    "    StructField(\"match_date\", DateType(), nullable=True),\n",
    "    StructField(\"season_year\", IntegerType(), nullable=True),\n",
    "    StructField(\"venue_name\", StringType(), nullable=True),\n",
    "    StructField(\"city_name\", StringType(), nullable=True),\n",
    "    StructField(\"country_name\", StringType(), nullable=True),\n",
    "    StructField(\"toss_winner\", StringType(), nullable=True),\n",
    "    StructField(\"match_winner\", StringType(), nullable=True),\n",
    "    StructField(\"toss_name\", StringType(), nullable=True),\n",
    "    StructField(\"win_type\", StringType(), nullable=True),\n",
    "    StructField(\"outcome_type\", StringType(), nullable=True),\n",
    "    StructField(\"manofmach\", StringType(), nullable=True),\n",
    "    StructField(\"win_margin\", IntegerType(), nullable=True),\n",
    "    StructField(\"country_id\", IntegerType(), nullable=True)\n",
    "])\n",
    "\n",
    "match_df = spark.read.format(\"csv\").schema(match_schema).option(\"header\",\"true\").load(\"s3://ipl-dataanalaysis-databricks/match.csv\")"
   ]
  },
  {
   "cell_type": "code",
   "execution_count": 0,
   "metadata": {
    "application/vnd.databricks.v1+cell": {
     "cellMetadata": {
      "byteLimit": 2048000,
      "rowLimit": 10000
     },
     "inputWidgets": {},
     "nuid": "67e3156e-3aca-46c0-8759-d7b047386662",
     "showTitle": false,
     "title": ""
    }
   },
   "outputs": [],
   "source": [
    "#filtering to include only valid deliveries(excluding the noballs and wides)\n",
    "ball_by_ball_df = ball_by_ball_df.filter((col('wides')==0) & (col('noballs')==0))"
   ]
  },
  {
   "cell_type": "code",
   "execution_count": 0,
   "metadata": {
    "application/vnd.databricks.v1+cell": {
     "cellMetadata": {
      "byteLimit": 2048000,
      "rowLimit": 10000
     },
     "inputWidgets": {},
     "nuid": "0fb3ee10-c37c-4ee3-8d7b-499d9a98f01c",
     "showTitle": false,
     "title": ""
    }
   },
   "outputs": [
    {
     "output_type": "stream",
     "name": "stdout",
     "output_type": "stream",
     "text": [
      "Out[14]: <bound method Series.unique of 0         0\n1         0\n2         0\n3         0\n4         0\n         ..\n145253    0\n145254    0\n145255    0\n145256    0\n145257    0\nName: wides, Length: 145258, dtype: int32>"
     ]
    }
   ],
   "source": [
    "ball_by_ball_df.toPandas()['wides'].unique"
   ]
  },
  {
   "cell_type": "code",
   "execution_count": 0,
   "metadata": {
    "application/vnd.databricks.v1+cell": {
     "cellMetadata": {
      "byteLimit": 2048000,
      "rowLimit": 10000
     },
     "inputWidgets": {},
     "nuid": "44373f58-252d-4f89-ac89-723dcb04032c",
     "showTitle": false,
     "title": ""
    }
   },
   "outputs": [
    {
     "output_type": "stream",
     "name": "stdout",
     "output_type": "stream",
     "text": [
      "Out[15]: ['match_id',\n 'over_id',\n 'ball_id',\n 'innings_no',\n 'team_batting',\n 'team_bowling',\n 'striker_batting_position',\n 'extra_type',\n 'runs_scored',\n 'extra_runs',\n 'wides',\n 'legbyes',\n 'byes',\n 'noballs',\n 'penalty',\n 'bowler_extras',\n 'out_type',\n 'caught',\n 'bowled',\n 'run_out',\n 'lbw',\n 'retired_hurt',\n 'stumped',\n 'caught_and_bowled',\n 'hit_wicket',\n 'obstructingfeild',\n 'bowler_wicket',\n 'match_date',\n 'season',\n 'striker',\n 'non_striker',\n 'bowler',\n 'player_out',\n 'fielders',\n 'striker_match_sk',\n 'strikersk',\n 'nonstriker_match_sk',\n 'nonstriker_sk',\n 'fielder_match_sk',\n 'fielder_sk',\n 'bowler_match_sk',\n 'bowler_sk',\n 'playerout_match_sk',\n 'battingteam_sk',\n 'bowlingteam_sk',\n 'keeper_catch',\n 'player_out_sk',\n 'matchdatesk']"
     ]
    }
   ],
   "source": [
    "ball_by_ball_df.columns"
   ]
  },
  {
   "cell_type": "code",
   "execution_count": 0,
   "metadata": {
    "application/vnd.databricks.v1+cell": {
     "cellMetadata": {
      "byteLimit": 2048000,
      "rowLimit": 10000
     },
     "inputWidgets": {},
     "nuid": "c9556508-c771-4590-a1b2-e9a0e9878527",
     "showTitle": false,
     "title": ""
    }
   },
   "outputs": [
    {
     "output_type": "display_data",
     "data": {
      "text/html": [
       "<div>\n",
       "<style scoped>\n",
       "    .dataframe tbody tr th:only-of-type {\n",
       "        vertical-align: middle;\n",
       "    }\n",
       "\n",
       "    .dataframe tbody tr th {\n",
       "        vertical-align: top;\n",
       "    }\n",
       "\n",
       "    .dataframe thead th {\n",
       "        text-align: right;\n",
       "    }\n",
       "</style>\n",
       "<table border=\"1\" class=\"dataframe\">\n",
       "  <thead>\n",
       "    <tr style=\"text-align: right;\">\n",
       "      <th></th>\n",
       "      <th>match_id</th>\n",
       "      <th>over_id</th>\n",
       "      <th>ball_id</th>\n",
       "      <th>innings_no</th>\n",
       "      <th>team_batting</th>\n",
       "      <th>team_bowling</th>\n",
       "      <th>striker_batting_position</th>\n",
       "      <th>extra_type</th>\n",
       "      <th>runs_scored</th>\n",
       "      <th>extra_runs</th>\n",
       "      <th>...</th>\n",
       "      <th>fielder_match_sk</th>\n",
       "      <th>fielder_sk</th>\n",
       "      <th>bowler_match_sk</th>\n",
       "      <th>bowler_sk</th>\n",
       "      <th>playerout_match_sk</th>\n",
       "      <th>battingteam_sk</th>\n",
       "      <th>bowlingteam_sk</th>\n",
       "      <th>keeper_catch</th>\n",
       "      <th>player_out_sk</th>\n",
       "      <th>matchdatesk</th>\n",
       "    </tr>\n",
       "  </thead>\n",
       "  <tbody>\n",
       "    <tr>\n",
       "      <th>0</th>\n",
       "      <td>598028</td>\n",
       "      <td>15</td>\n",
       "      <td>6</td>\n",
       "      <td>1</td>\n",
       "      <td>5</td>\n",
       "      <td>2</td>\n",
       "      <td>6.0</td>\n",
       "      <td>No Extras</td>\n",
       "      <td>4</td>\n",
       "      <td>0</td>\n",
       "      <td>...</td>\n",
       "      <td>-1</td>\n",
       "      <td>-1</td>\n",
       "      <td>20343</td>\n",
       "      <td>82</td>\n",
       "      <td>-1</td>\n",
       "      <td>4</td>\n",
       "      <td>1</td>\n",
       "      <td>False</td>\n",
       "      <td>0</td>\n",
       "      <td>2013-04-20</td>\n",
       "    </tr>\n",
       "    <tr>\n",
       "      <th>1</th>\n",
       "      <td>598028</td>\n",
       "      <td>14</td>\n",
       "      <td>1</td>\n",
       "      <td>1</td>\n",
       "      <td>5</td>\n",
       "      <td>2</td>\n",
       "      <td>5.0</td>\n",
       "      <td>No Extras</td>\n",
       "      <td>1</td>\n",
       "      <td>0</td>\n",
       "      <td>...</td>\n",
       "      <td>-1</td>\n",
       "      <td>-1</td>\n",
       "      <td>20348</td>\n",
       "      <td>345</td>\n",
       "      <td>-1</td>\n",
       "      <td>4</td>\n",
       "      <td>1</td>\n",
       "      <td>False</td>\n",
       "      <td>0</td>\n",
       "      <td>2013-04-20</td>\n",
       "    </tr>\n",
       "    <tr>\n",
       "      <th>2</th>\n",
       "      <td>598028</td>\n",
       "      <td>14</td>\n",
       "      <td>2</td>\n",
       "      <td>1</td>\n",
       "      <td>5</td>\n",
       "      <td>2</td>\n",
       "      <td>3.0</td>\n",
       "      <td>No Extras</td>\n",
       "      <td>1</td>\n",
       "      <td>0</td>\n",
       "      <td>...</td>\n",
       "      <td>-1</td>\n",
       "      <td>-1</td>\n",
       "      <td>20348</td>\n",
       "      <td>345</td>\n",
       "      <td>-1</td>\n",
       "      <td>4</td>\n",
       "      <td>1</td>\n",
       "      <td>False</td>\n",
       "      <td>0</td>\n",
       "      <td>2013-04-20</td>\n",
       "    </tr>\n",
       "    <tr>\n",
       "      <th>3</th>\n",
       "      <td>598028</td>\n",
       "      <td>14</td>\n",
       "      <td>3</td>\n",
       "      <td>1</td>\n",
       "      <td>5</td>\n",
       "      <td>2</td>\n",
       "      <td>5.0</td>\n",
       "      <td>No Extras</td>\n",
       "      <td>1</td>\n",
       "      <td>0</td>\n",
       "      <td>...</td>\n",
       "      <td>-1</td>\n",
       "      <td>-1</td>\n",
       "      <td>20348</td>\n",
       "      <td>345</td>\n",
       "      <td>-1</td>\n",
       "      <td>4</td>\n",
       "      <td>1</td>\n",
       "      <td>False</td>\n",
       "      <td>0</td>\n",
       "      <td>2013-04-20</td>\n",
       "    </tr>\n",
       "    <tr>\n",
       "      <th>4</th>\n",
       "      <td>598028</td>\n",
       "      <td>14</td>\n",
       "      <td>4</td>\n",
       "      <td>1</td>\n",
       "      <td>5</td>\n",
       "      <td>2</td>\n",
       "      <td>3.0</td>\n",
       "      <td>No Extras</td>\n",
       "      <td>0</td>\n",
       "      <td>0</td>\n",
       "      <td>...</td>\n",
       "      <td>-1</td>\n",
       "      <td>-1</td>\n",
       "      <td>20348</td>\n",
       "      <td>345</td>\n",
       "      <td>-1</td>\n",
       "      <td>4</td>\n",
       "      <td>1</td>\n",
       "      <td>False</td>\n",
       "      <td>0</td>\n",
       "      <td>2013-04-20</td>\n",
       "    </tr>\n",
       "    <tr>\n",
       "      <th>...</th>\n",
       "      <td>...</td>\n",
       "      <td>...</td>\n",
       "      <td>...</td>\n",
       "      <td>...</td>\n",
       "      <td>...</td>\n",
       "      <td>...</td>\n",
       "      <td>...</td>\n",
       "      <td>...</td>\n",
       "      <td>...</td>\n",
       "      <td>...</td>\n",
       "      <td>...</td>\n",
       "      <td>...</td>\n",
       "      <td>...</td>\n",
       "      <td>...</td>\n",
       "      <td>...</td>\n",
       "      <td>...</td>\n",
       "      <td>...</td>\n",
       "      <td>...</td>\n",
       "      <td>...</td>\n",
       "      <td>...</td>\n",
       "      <td>...</td>\n",
       "    </tr>\n",
       "    <tr>\n",
       "      <th>145253</th>\n",
       "      <td>598028</td>\n",
       "      <td>15</td>\n",
       "      <td>1</td>\n",
       "      <td>1</td>\n",
       "      <td>5</td>\n",
       "      <td>2</td>\n",
       "      <td>5.0</td>\n",
       "      <td>No Extras</td>\n",
       "      <td>1</td>\n",
       "      <td>0</td>\n",
       "      <td>...</td>\n",
       "      <td>-1</td>\n",
       "      <td>-1</td>\n",
       "      <td>20343</td>\n",
       "      <td>82</td>\n",
       "      <td>-1</td>\n",
       "      <td>4</td>\n",
       "      <td>1</td>\n",
       "      <td>False</td>\n",
       "      <td>0</td>\n",
       "      <td>2013-04-20</td>\n",
       "    </tr>\n",
       "    <tr>\n",
       "      <th>145254</th>\n",
       "      <td>598028</td>\n",
       "      <td>15</td>\n",
       "      <td>2</td>\n",
       "      <td>1</td>\n",
       "      <td>5</td>\n",
       "      <td>2</td>\n",
       "      <td>3.0</td>\n",
       "      <td>No Extras</td>\n",
       "      <td>2</td>\n",
       "      <td>0</td>\n",
       "      <td>...</td>\n",
       "      <td>-1</td>\n",
       "      <td>-1</td>\n",
       "      <td>20343</td>\n",
       "      <td>82</td>\n",
       "      <td>-1</td>\n",
       "      <td>4</td>\n",
       "      <td>1</td>\n",
       "      <td>False</td>\n",
       "      <td>0</td>\n",
       "      <td>2013-04-20</td>\n",
       "    </tr>\n",
       "    <tr>\n",
       "      <th>145255</th>\n",
       "      <td>598028</td>\n",
       "      <td>15</td>\n",
       "      <td>3</td>\n",
       "      <td>1</td>\n",
       "      <td>5</td>\n",
       "      <td>2</td>\n",
       "      <td>3.0</td>\n",
       "      <td>No Extras</td>\n",
       "      <td>4</td>\n",
       "      <td>0</td>\n",
       "      <td>...</td>\n",
       "      <td>-1</td>\n",
       "      <td>-1</td>\n",
       "      <td>20343</td>\n",
       "      <td>82</td>\n",
       "      <td>-1</td>\n",
       "      <td>4</td>\n",
       "      <td>1</td>\n",
       "      <td>False</td>\n",
       "      <td>0</td>\n",
       "      <td>2013-04-20</td>\n",
       "    </tr>\n",
       "    <tr>\n",
       "      <th>145256</th>\n",
       "      <td>598028</td>\n",
       "      <td>15</td>\n",
       "      <td>4</td>\n",
       "      <td>1</td>\n",
       "      <td>5</td>\n",
       "      <td>2</td>\n",
       "      <td>3.0</td>\n",
       "      <td>No Extras</td>\n",
       "      <td>0</td>\n",
       "      <td>0</td>\n",
       "      <td>...</td>\n",
       "      <td>20349</td>\n",
       "      <td>348</td>\n",
       "      <td>20343</td>\n",
       "      <td>82</td>\n",
       "      <td>20328</td>\n",
       "      <td>4</td>\n",
       "      <td>1</td>\n",
       "      <td>False</td>\n",
       "      <td>0</td>\n",
       "      <td>2013-04-20</td>\n",
       "    </tr>\n",
       "    <tr>\n",
       "      <th>145257</th>\n",
       "      <td>598028</td>\n",
       "      <td>15</td>\n",
       "      <td>5</td>\n",
       "      <td>1</td>\n",
       "      <td>5</td>\n",
       "      <td>2</td>\n",
       "      <td>6.0</td>\n",
       "      <td>No Extras</td>\n",
       "      <td>0</td>\n",
       "      <td>0</td>\n",
       "      <td>...</td>\n",
       "      <td>-1</td>\n",
       "      <td>-1</td>\n",
       "      <td>20343</td>\n",
       "      <td>82</td>\n",
       "      <td>-1</td>\n",
       "      <td>4</td>\n",
       "      <td>1</td>\n",
       "      <td>False</td>\n",
       "      <td>0</td>\n",
       "      <td>2013-04-20</td>\n",
       "    </tr>\n",
       "  </tbody>\n",
       "</table>\n",
       "<p>145258 rows × 48 columns</p>\n",
       "</div>"
      ]
     },
     "metadata": {
      "application/vnd.databricks.v1+output": {
       "addedWidgets": {},
       "arguments": {},
       "data": "<div>\n<style scoped>\n    .dataframe tbody tr th:only-of-type {\n        vertical-align: middle;\n    }\n\n    .dataframe tbody tr th {\n        vertical-align: top;\n    }\n\n    .dataframe thead th {\n        text-align: right;\n    }\n</style>\n<table border=\"1\" class=\"dataframe\">\n  <thead>\n    <tr style=\"text-align: right;\">\n      <th></th>\n      <th>match_id</th>\n      <th>over_id</th>\n      <th>ball_id</th>\n      <th>innings_no</th>\n      <th>team_batting</th>\n      <th>team_bowling</th>\n      <th>striker_batting_position</th>\n      <th>extra_type</th>\n      <th>runs_scored</th>\n      <th>extra_runs</th>\n      <th>...</th>\n      <th>fielder_match_sk</th>\n      <th>fielder_sk</th>\n      <th>bowler_match_sk</th>\n      <th>bowler_sk</th>\n      <th>playerout_match_sk</th>\n      <th>battingteam_sk</th>\n      <th>bowlingteam_sk</th>\n      <th>keeper_catch</th>\n      <th>player_out_sk</th>\n      <th>matchdatesk</th>\n    </tr>\n  </thead>\n  <tbody>\n    <tr>\n      <th>0</th>\n      <td>598028</td>\n      <td>15</td>\n      <td>6</td>\n      <td>1</td>\n      <td>5</td>\n      <td>2</td>\n      <td>6.0</td>\n      <td>No Extras</td>\n      <td>4</td>\n      <td>0</td>\n      <td>...</td>\n      <td>-1</td>\n      <td>-1</td>\n      <td>20343</td>\n      <td>82</td>\n      <td>-1</td>\n      <td>4</td>\n      <td>1</td>\n      <td>False</td>\n      <td>0</td>\n      <td>2013-04-20</td>\n    </tr>\n    <tr>\n      <th>1</th>\n      <td>598028</td>\n      <td>14</td>\n      <td>1</td>\n      <td>1</td>\n      <td>5</td>\n      <td>2</td>\n      <td>5.0</td>\n      <td>No Extras</td>\n      <td>1</td>\n      <td>0</td>\n      <td>...</td>\n      <td>-1</td>\n      <td>-1</td>\n      <td>20348</td>\n      <td>345</td>\n      <td>-1</td>\n      <td>4</td>\n      <td>1</td>\n      <td>False</td>\n      <td>0</td>\n      <td>2013-04-20</td>\n    </tr>\n    <tr>\n      <th>2</th>\n      <td>598028</td>\n      <td>14</td>\n      <td>2</td>\n      <td>1</td>\n      <td>5</td>\n      <td>2</td>\n      <td>3.0</td>\n      <td>No Extras</td>\n      <td>1</td>\n      <td>0</td>\n      <td>...</td>\n      <td>-1</td>\n      <td>-1</td>\n      <td>20348</td>\n      <td>345</td>\n      <td>-1</td>\n      <td>4</td>\n      <td>1</td>\n      <td>False</td>\n      <td>0</td>\n      <td>2013-04-20</td>\n    </tr>\n    <tr>\n      <th>3</th>\n      <td>598028</td>\n      <td>14</td>\n      <td>3</td>\n      <td>1</td>\n      <td>5</td>\n      <td>2</td>\n      <td>5.0</td>\n      <td>No Extras</td>\n      <td>1</td>\n      <td>0</td>\n      <td>...</td>\n      <td>-1</td>\n      <td>-1</td>\n      <td>20348</td>\n      <td>345</td>\n      <td>-1</td>\n      <td>4</td>\n      <td>1</td>\n      <td>False</td>\n      <td>0</td>\n      <td>2013-04-20</td>\n    </tr>\n    <tr>\n      <th>4</th>\n      <td>598028</td>\n      <td>14</td>\n      <td>4</td>\n      <td>1</td>\n      <td>5</td>\n      <td>2</td>\n      <td>3.0</td>\n      <td>No Extras</td>\n      <td>0</td>\n      <td>0</td>\n      <td>...</td>\n      <td>-1</td>\n      <td>-1</td>\n      <td>20348</td>\n      <td>345</td>\n      <td>-1</td>\n      <td>4</td>\n      <td>1</td>\n      <td>False</td>\n      <td>0</td>\n      <td>2013-04-20</td>\n    </tr>\n    <tr>\n      <th>...</th>\n      <td>...</td>\n      <td>...</td>\n      <td>...</td>\n      <td>...</td>\n      <td>...</td>\n      <td>...</td>\n      <td>...</td>\n      <td>...</td>\n      <td>...</td>\n      <td>...</td>\n      <td>...</td>\n      <td>...</td>\n      <td>...</td>\n      <td>...</td>\n      <td>...</td>\n      <td>...</td>\n      <td>...</td>\n      <td>...</td>\n      <td>...</td>\n      <td>...</td>\n      <td>...</td>\n    </tr>\n    <tr>\n      <th>145253</th>\n      <td>598028</td>\n      <td>15</td>\n      <td>1</td>\n      <td>1</td>\n      <td>5</td>\n      <td>2</td>\n      <td>5.0</td>\n      <td>No Extras</td>\n      <td>1</td>\n      <td>0</td>\n      <td>...</td>\n      <td>-1</td>\n      <td>-1</td>\n      <td>20343</td>\n      <td>82</td>\n      <td>-1</td>\n      <td>4</td>\n      <td>1</td>\n      <td>False</td>\n      <td>0</td>\n      <td>2013-04-20</td>\n    </tr>\n    <tr>\n      <th>145254</th>\n      <td>598028</td>\n      <td>15</td>\n      <td>2</td>\n      <td>1</td>\n      <td>5</td>\n      <td>2</td>\n      <td>3.0</td>\n      <td>No Extras</td>\n      <td>2</td>\n      <td>0</td>\n      <td>...</td>\n      <td>-1</td>\n      <td>-1</td>\n      <td>20343</td>\n      <td>82</td>\n      <td>-1</td>\n      <td>4</td>\n      <td>1</td>\n      <td>False</td>\n      <td>0</td>\n      <td>2013-04-20</td>\n    </tr>\n    <tr>\n      <th>145255</th>\n      <td>598028</td>\n      <td>15</td>\n      <td>3</td>\n      <td>1</td>\n      <td>5</td>\n      <td>2</td>\n      <td>3.0</td>\n      <td>No Extras</td>\n      <td>4</td>\n      <td>0</td>\n      <td>...</td>\n      <td>-1</td>\n      <td>-1</td>\n      <td>20343</td>\n      <td>82</td>\n      <td>-1</td>\n      <td>4</td>\n      <td>1</td>\n      <td>False</td>\n      <td>0</td>\n      <td>2013-04-20</td>\n    </tr>\n    <tr>\n      <th>145256</th>\n      <td>598028</td>\n      <td>15</td>\n      <td>4</td>\n      <td>1</td>\n      <td>5</td>\n      <td>2</td>\n      <td>3.0</td>\n      <td>No Extras</td>\n      <td>0</td>\n      <td>0</td>\n      <td>...</td>\n      <td>20349</td>\n      <td>348</td>\n      <td>20343</td>\n      <td>82</td>\n      <td>20328</td>\n      <td>4</td>\n      <td>1</td>\n      <td>False</td>\n      <td>0</td>\n      <td>2013-04-20</td>\n    </tr>\n    <tr>\n      <th>145257</th>\n      <td>598028</td>\n      <td>15</td>\n      <td>5</td>\n      <td>1</td>\n      <td>5</td>\n      <td>2</td>\n      <td>6.0</td>\n      <td>No Extras</td>\n      <td>0</td>\n      <td>0</td>\n      <td>...</td>\n      <td>-1</td>\n      <td>-1</td>\n      <td>20343</td>\n      <td>82</td>\n      <td>-1</td>\n      <td>4</td>\n      <td>1</td>\n      <td>False</td>\n      <td>0</td>\n      <td>2013-04-20</td>\n    </tr>\n  </tbody>\n</table>\n<p>145258 rows × 48 columns</p>\n</div>",
       "datasetInfos": [],
       "metadata": {},
       "removedWidgets": [],
       "textData": null,
       "type": "htmlSandbox"
      }
     },
     "output_type": "display_data"
    }
   ],
   "source": [
    "ball_by_ball_df.toPandas()"
   ]
  },
  {
   "cell_type": "code",
   "execution_count": 0,
   "metadata": {
    "application/vnd.databricks.v1+cell": {
     "cellMetadata": {
      "byteLimit": 2048000,
      "rowLimit": 10000
     },
     "inputWidgets": {},
     "nuid": "849496f0-4d6c-4ebc-9513-f79bae7a9e9d",
     "showTitle": false,
     "title": ""
    }
   },
   "outputs": [],
   "source": [
    "#aggregation: calculate the total and average runs scored in each match and innings\n",
    "\n",
    "match_totl_avg = ball_by_ball_df.groupBy('match_id','innings_no').agg(\n",
    "    sum('runs_scored').alias('Total_runs'), \n",
    "    avg('runs_scored').alias('average_runs'),\n",
    "    countDistinct('over_id').alias('overs_played')\n",
    "    ).orderBy('match_id','innings_no')"
   ]
  },
  {
   "cell_type": "code",
   "execution_count": 0,
   "metadata": {
    "application/vnd.databricks.v1+cell": {
     "cellMetadata": {
      "byteLimit": 2048000,
      "rowLimit": 10000
     },
     "inputWidgets": {},
     "nuid": "c9f2429a-22e2-4ccb-9912-c3767376582e",
     "showTitle": false,
     "title": ""
    }
   },
   "outputs": [
    {
     "output_type": "display_data",
     "data": {
      "text/html": [
       "<div>\n",
       "<style scoped>\n",
       "    .dataframe tbody tr th:only-of-type {\n",
       "        vertical-align: middle;\n",
       "    }\n",
       "\n",
       "    .dataframe tbody tr th {\n",
       "        vertical-align: top;\n",
       "    }\n",
       "\n",
       "    .dataframe thead th {\n",
       "        text-align: right;\n",
       "    }\n",
       "</style>\n",
       "<table border=\"1\" class=\"dataframe\">\n",
       "  <thead>\n",
       "    <tr style=\"text-align: right;\">\n",
       "      <th></th>\n",
       "      <th>match_id</th>\n",
       "      <th>innings_no</th>\n",
       "      <th>Total_runs</th>\n",
       "      <th>average_runs</th>\n",
       "      <th>overs_played</th>\n",
       "    </tr>\n",
       "  </thead>\n",
       "  <tbody>\n",
       "    <tr>\n",
       "      <th>0</th>\n",
       "      <td>335987</td>\n",
       "      <td>1</td>\n",
       "      <td>205</td>\n",
       "      <td>1.708333</td>\n",
       "      <td>20</td>\n",
       "    </tr>\n",
       "    <tr>\n",
       "      <th>1</th>\n",
       "      <td>335987</td>\n",
       "      <td>2</td>\n",
       "      <td>63</td>\n",
       "      <td>0.692308</td>\n",
       "      <td>16</td>\n",
       "    </tr>\n",
       "    <tr>\n",
       "      <th>2</th>\n",
       "      <td>335988</td>\n",
       "      <td>1</td>\n",
       "      <td>230</td>\n",
       "      <td>1.916667</td>\n",
       "      <td>20</td>\n",
       "    </tr>\n",
       "    <tr>\n",
       "      <th>3</th>\n",
       "      <td>335988</td>\n",
       "      <td>2</td>\n",
       "      <td>196</td>\n",
       "      <td>1.633333</td>\n",
       "      <td>20</td>\n",
       "    </tr>\n",
       "    <tr>\n",
       "      <th>4</th>\n",
       "      <td>335989</td>\n",
       "      <td>1</td>\n",
       "      <td>118</td>\n",
       "      <td>0.983333</td>\n",
       "      <td>20</td>\n",
       "    </tr>\n",
       "    <tr>\n",
       "      <th>...</th>\n",
       "      <td>...</td>\n",
       "      <td>...</td>\n",
       "      <td>...</td>\n",
       "      <td>...</td>\n",
       "      <td>...</td>\n",
       "    </tr>\n",
       "    <tr>\n",
       "      <th>1279</th>\n",
       "      <td>1082648</td>\n",
       "      <td>2</td>\n",
       "      <td>44</td>\n",
       "      <td>1.375000</td>\n",
       "      <td>6</td>\n",
       "    </tr>\n",
       "    <tr>\n",
       "      <th>1280</th>\n",
       "      <td>1082649</td>\n",
       "      <td>1</td>\n",
       "      <td>100</td>\n",
       "      <td>0.884956</td>\n",
       "      <td>19</td>\n",
       "    </tr>\n",
       "    <tr>\n",
       "      <th>1281</th>\n",
       "      <td>1082649</td>\n",
       "      <td>2</td>\n",
       "      <td>103</td>\n",
       "      <td>1.183908</td>\n",
       "      <td>15</td>\n",
       "    </tr>\n",
       "    <tr>\n",
       "      <th>1282</th>\n",
       "      <td>1082650</td>\n",
       "      <td>1</td>\n",
       "      <td>121</td>\n",
       "      <td>1.008333</td>\n",
       "      <td>20</td>\n",
       "    </tr>\n",
       "    <tr>\n",
       "      <th>1283</th>\n",
       "      <td>1082650</td>\n",
       "      <td>2</td>\n",
       "      <td>119</td>\n",
       "      <td>0.991667</td>\n",
       "      <td>20</td>\n",
       "    </tr>\n",
       "  </tbody>\n",
       "</table>\n",
       "<p>1284 rows × 5 columns</p>\n",
       "</div>"
      ]
     },
     "metadata": {
      "application/vnd.databricks.v1+output": {
       "addedWidgets": {},
       "arguments": {},
       "data": "<div>\n<style scoped>\n    .dataframe tbody tr th:only-of-type {\n        vertical-align: middle;\n    }\n\n    .dataframe tbody tr th {\n        vertical-align: top;\n    }\n\n    .dataframe thead th {\n        text-align: right;\n    }\n</style>\n<table border=\"1\" class=\"dataframe\">\n  <thead>\n    <tr style=\"text-align: right;\">\n      <th></th>\n      <th>match_id</th>\n      <th>innings_no</th>\n      <th>Total_runs</th>\n      <th>average_runs</th>\n      <th>overs_played</th>\n    </tr>\n  </thead>\n  <tbody>\n    <tr>\n      <th>0</th>\n      <td>335987</td>\n      <td>1</td>\n      <td>205</td>\n      <td>1.708333</td>\n      <td>20</td>\n    </tr>\n    <tr>\n      <th>1</th>\n      <td>335987</td>\n      <td>2</td>\n      <td>63</td>\n      <td>0.692308</td>\n      <td>16</td>\n    </tr>\n    <tr>\n      <th>2</th>\n      <td>335988</td>\n      <td>1</td>\n      <td>230</td>\n      <td>1.916667</td>\n      <td>20</td>\n    </tr>\n    <tr>\n      <th>3</th>\n      <td>335988</td>\n      <td>2</td>\n      <td>196</td>\n      <td>1.633333</td>\n      <td>20</td>\n    </tr>\n    <tr>\n      <th>4</th>\n      <td>335989</td>\n      <td>1</td>\n      <td>118</td>\n      <td>0.983333</td>\n      <td>20</td>\n    </tr>\n    <tr>\n      <th>...</th>\n      <td>...</td>\n      <td>...</td>\n      <td>...</td>\n      <td>...</td>\n      <td>...</td>\n    </tr>\n    <tr>\n      <th>1279</th>\n      <td>1082648</td>\n      <td>2</td>\n      <td>44</td>\n      <td>1.375000</td>\n      <td>6</td>\n    </tr>\n    <tr>\n      <th>1280</th>\n      <td>1082649</td>\n      <td>1</td>\n      <td>100</td>\n      <td>0.884956</td>\n      <td>19</td>\n    </tr>\n    <tr>\n      <th>1281</th>\n      <td>1082649</td>\n      <td>2</td>\n      <td>103</td>\n      <td>1.183908</td>\n      <td>15</td>\n    </tr>\n    <tr>\n      <th>1282</th>\n      <td>1082650</td>\n      <td>1</td>\n      <td>121</td>\n      <td>1.008333</td>\n      <td>20</td>\n    </tr>\n    <tr>\n      <th>1283</th>\n      <td>1082650</td>\n      <td>2</td>\n      <td>119</td>\n      <td>0.991667</td>\n      <td>20</td>\n    </tr>\n  </tbody>\n</table>\n<p>1284 rows × 5 columns</p>\n</div>",
       "datasetInfos": [],
       "metadata": {},
       "removedWidgets": [],
       "textData": null,
       "type": "htmlSandbox"
      }
     },
     "output_type": "display_data"
    }
   ],
   "source": [
    "match_totl_avg.toPandas()"
   ]
  },
  {
   "cell_type": "code",
   "execution_count": 0,
   "metadata": {
    "application/vnd.databricks.v1+cell": {
     "cellMetadata": {
      "byteLimit": 2048000,
      "rowLimit": 10000
     },
     "inputWidgets": {},
     "nuid": "0f95370c-1bbc-4fcd-a28a-449e4910110e",
     "showTitle": false,
     "title": ""
    }
   },
   "outputs": [],
   "source": [
    "#window function: calculate total of runs in each match for each over\n",
    "# Define WindowSpec partitioned by over_id and ordered by match\n",
    "windowSpec = Window.partitionBy(\"match_id\",\"innings_no\").orderBy(col(\"over_id\").desc())\n",
    "\n",
    "Runs_in_over = ball_by_ball_df.withColumn('total_runs_in _over', sum('runs_scored').over(windowSpec))\n",
    "\n",
    "\n"
   ]
  },
  {
   "cell_type": "code",
   "execution_count": 0,
   "metadata": {
    "application/vnd.databricks.v1+cell": {
     "cellMetadata": {
      "byteLimit": 2048000,
      "rowLimit": 10000
     },
     "inputWidgets": {},
     "nuid": "2db0fe3d-8432-4844-a05f-b03db2e3e3e0",
     "showTitle": false,
     "title": ""
    }
   },
   "outputs": [
    {
     "output_type": "display_data",
     "data": {
      "text/html": [
       "<div>\n",
       "<style scoped>\n",
       "    .dataframe tbody tr th:only-of-type {\n",
       "        vertical-align: middle;\n",
       "    }\n",
       "\n",
       "    .dataframe tbody tr th {\n",
       "        vertical-align: top;\n",
       "    }\n",
       "\n",
       "    .dataframe thead th {\n",
       "        text-align: right;\n",
       "    }\n",
       "</style>\n",
       "<table border=\"1\" class=\"dataframe\">\n",
       "  <thead>\n",
       "    <tr style=\"text-align: right;\">\n",
       "      <th></th>\n",
       "      <th>match_id</th>\n",
       "      <th>over_id</th>\n",
       "      <th>ball_id</th>\n",
       "      <th>innings_no</th>\n",
       "      <th>team_batting</th>\n",
       "      <th>team_bowling</th>\n",
       "      <th>striker_batting_position</th>\n",
       "      <th>extra_type</th>\n",
       "      <th>runs_scored</th>\n",
       "      <th>extra_runs</th>\n",
       "      <th>...</th>\n",
       "      <th>fielder_sk</th>\n",
       "      <th>bowler_match_sk</th>\n",
       "      <th>bowler_sk</th>\n",
       "      <th>playerout_match_sk</th>\n",
       "      <th>battingteam_sk</th>\n",
       "      <th>bowlingteam_sk</th>\n",
       "      <th>keeper_catch</th>\n",
       "      <th>player_out_sk</th>\n",
       "      <th>matchdatesk</th>\n",
       "      <th>total_runs_in _over</th>\n",
       "    </tr>\n",
       "  </thead>\n",
       "  <tbody>\n",
       "    <tr>\n",
       "      <th>0</th>\n",
       "      <td>335990</td>\n",
       "      <td>20</td>\n",
       "      <td>1</td>\n",
       "      <td>2</td>\n",
       "      <td>2</td>\n",
       "      <td>7</td>\n",
       "      <td>6.0</td>\n",
       "      <td>No Extras</td>\n",
       "      <td>1</td>\n",
       "      <td>0</td>\n",
       "      <td>...</td>\n",
       "      <td>-1</td>\n",
       "      <td>12770</td>\n",
       "      <td>79</td>\n",
       "      <td>-1</td>\n",
       "      <td>1</td>\n",
       "      <td>6</td>\n",
       "      <td>False</td>\n",
       "      <td>0</td>\n",
       "      <td>2008-04-20</td>\n",
       "      <td>2</td>\n",
       "    </tr>\n",
       "    <tr>\n",
       "      <th>1</th>\n",
       "      <td>335990</td>\n",
       "      <td>20</td>\n",
       "      <td>3</td>\n",
       "      <td>2</td>\n",
       "      <td>2</td>\n",
       "      <td>7</td>\n",
       "      <td>7.0</td>\n",
       "      <td>No Extras</td>\n",
       "      <td>0</td>\n",
       "      <td>0</td>\n",
       "      <td>...</td>\n",
       "      <td>-1</td>\n",
       "      <td>12770</td>\n",
       "      <td>79</td>\n",
       "      <td>-1</td>\n",
       "      <td>1</td>\n",
       "      <td>6</td>\n",
       "      <td>False</td>\n",
       "      <td>0</td>\n",
       "      <td>2008-04-20</td>\n",
       "      <td>2</td>\n",
       "    </tr>\n",
       "    <tr>\n",
       "      <th>2</th>\n",
       "      <td>335990</td>\n",
       "      <td>20</td>\n",
       "      <td>4</td>\n",
       "      <td>2</td>\n",
       "      <td>2</td>\n",
       "      <td>7</td>\n",
       "      <td>7.0</td>\n",
       "      <td>No Extras</td>\n",
       "      <td>0</td>\n",
       "      <td>0</td>\n",
       "      <td>...</td>\n",
       "      <td>-1</td>\n",
       "      <td>12770</td>\n",
       "      <td>79</td>\n",
       "      <td>-1</td>\n",
       "      <td>1</td>\n",
       "      <td>6</td>\n",
       "      <td>False</td>\n",
       "      <td>0</td>\n",
       "      <td>2008-04-20</td>\n",
       "      <td>2</td>\n",
       "    </tr>\n",
       "    <tr>\n",
       "      <th>3</th>\n",
       "      <td>335990</td>\n",
       "      <td>20</td>\n",
       "      <td>5</td>\n",
       "      <td>2</td>\n",
       "      <td>2</td>\n",
       "      <td>7</td>\n",
       "      <td>7.0</td>\n",
       "      <td>No Extras</td>\n",
       "      <td>1</td>\n",
       "      <td>0</td>\n",
       "      <td>...</td>\n",
       "      <td>-1</td>\n",
       "      <td>12770</td>\n",
       "      <td>79</td>\n",
       "      <td>-1</td>\n",
       "      <td>1</td>\n",
       "      <td>6</td>\n",
       "      <td>False</td>\n",
       "      <td>0</td>\n",
       "      <td>2008-04-20</td>\n",
       "      <td>2</td>\n",
       "    </tr>\n",
       "    <tr>\n",
       "      <th>4</th>\n",
       "      <td>335990</td>\n",
       "      <td>19</td>\n",
       "      <td>1</td>\n",
       "      <td>2</td>\n",
       "      <td>2</td>\n",
       "      <td>7</td>\n",
       "      <td>4.0</td>\n",
       "      <td>No Extras</td>\n",
       "      <td>1</td>\n",
       "      <td>0</td>\n",
       "      <td>...</td>\n",
       "      <td>-1</td>\n",
       "      <td>12767</td>\n",
       "      <td>49</td>\n",
       "      <td>-1</td>\n",
       "      <td>1</td>\n",
       "      <td>6</td>\n",
       "      <td>False</td>\n",
       "      <td>0</td>\n",
       "      <td>2008-04-20</td>\n",
       "      <td>10</td>\n",
       "    </tr>\n",
       "    <tr>\n",
       "      <th>...</th>\n",
       "      <td>...</td>\n",
       "      <td>...</td>\n",
       "      <td>...</td>\n",
       "      <td>...</td>\n",
       "      <td>...</td>\n",
       "      <td>...</td>\n",
       "      <td>...</td>\n",
       "      <td>...</td>\n",
       "      <td>...</td>\n",
       "      <td>...</td>\n",
       "      <td>...</td>\n",
       "      <td>...</td>\n",
       "      <td>...</td>\n",
       "      <td>...</td>\n",
       "      <td>...</td>\n",
       "      <td>...</td>\n",
       "      <td>...</td>\n",
       "      <td>...</td>\n",
       "      <td>...</td>\n",
       "      <td>...</td>\n",
       "      <td>...</td>\n",
       "    </tr>\n",
       "    <tr>\n",
       "      <th>145253</th>\n",
       "      <td>1082649</td>\n",
       "      <td>1</td>\n",
       "      <td>2</td>\n",
       "      <td>2</td>\n",
       "      <td>Mumbai Indians</td>\n",
       "      <td>Kolkata Knight Riders</td>\n",
       "      <td>NaN</td>\n",
       "      <td>No Extras</td>\n",
       "      <td>2</td>\n",
       "      <td>0</td>\n",
       "      <td>...</td>\n",
       "      <td>-1</td>\n",
       "      <td>26651</td>\n",
       "      <td>231</td>\n",
       "      <td>-1</td>\n",
       "      <td>6</td>\n",
       "      <td>0</td>\n",
       "      <td>False</td>\n",
       "      <td>-1</td>\n",
       "      <td>2017-05-19</td>\n",
       "      <td>103</td>\n",
       "    </tr>\n",
       "    <tr>\n",
       "      <th>145254</th>\n",
       "      <td>1082649</td>\n",
       "      <td>1</td>\n",
       "      <td>3</td>\n",
       "      <td>2</td>\n",
       "      <td>Mumbai Indians</td>\n",
       "      <td>Kolkata Knight Riders</td>\n",
       "      <td>NaN</td>\n",
       "      <td>No Extras</td>\n",
       "      <td>1</td>\n",
       "      <td>0</td>\n",
       "      <td>...</td>\n",
       "      <td>-1</td>\n",
       "      <td>26651</td>\n",
       "      <td>231</td>\n",
       "      <td>-1</td>\n",
       "      <td>6</td>\n",
       "      <td>0</td>\n",
       "      <td>False</td>\n",
       "      <td>-1</td>\n",
       "      <td>2017-05-19</td>\n",
       "      <td>103</td>\n",
       "    </tr>\n",
       "    <tr>\n",
       "      <th>145255</th>\n",
       "      <td>1082649</td>\n",
       "      <td>1</td>\n",
       "      <td>4</td>\n",
       "      <td>2</td>\n",
       "      <td>Mumbai Indians</td>\n",
       "      <td>Kolkata Knight Riders</td>\n",
       "      <td>NaN</td>\n",
       "      <td>No Extras</td>\n",
       "      <td>0</td>\n",
       "      <td>0</td>\n",
       "      <td>...</td>\n",
       "      <td>-1</td>\n",
       "      <td>26651</td>\n",
       "      <td>231</td>\n",
       "      <td>-1</td>\n",
       "      <td>6</td>\n",
       "      <td>0</td>\n",
       "      <td>False</td>\n",
       "      <td>-1</td>\n",
       "      <td>2017-05-19</td>\n",
       "      <td>103</td>\n",
       "    </tr>\n",
       "    <tr>\n",
       "      <th>145256</th>\n",
       "      <td>1082649</td>\n",
       "      <td>1</td>\n",
       "      <td>5</td>\n",
       "      <td>2</td>\n",
       "      <td>Mumbai Indians</td>\n",
       "      <td>Kolkata Knight Riders</td>\n",
       "      <td>NaN</td>\n",
       "      <td>Legbyes</td>\n",
       "      <td>0</td>\n",
       "      <td>4</td>\n",
       "      <td>...</td>\n",
       "      <td>-1</td>\n",
       "      <td>26651</td>\n",
       "      <td>231</td>\n",
       "      <td>-1</td>\n",
       "      <td>6</td>\n",
       "      <td>0</td>\n",
       "      <td>False</td>\n",
       "      <td>-1</td>\n",
       "      <td>2017-05-19</td>\n",
       "      <td>103</td>\n",
       "    </tr>\n",
       "    <tr>\n",
       "      <th>145257</th>\n",
       "      <td>1082649</td>\n",
       "      <td>1</td>\n",
       "      <td>6</td>\n",
       "      <td>2</td>\n",
       "      <td>Mumbai Indians</td>\n",
       "      <td>Kolkata Knight Riders</td>\n",
       "      <td>NaN</td>\n",
       "      <td>No Extras</td>\n",
       "      <td>4</td>\n",
       "      <td>0</td>\n",
       "      <td>...</td>\n",
       "      <td>-1</td>\n",
       "      <td>26651</td>\n",
       "      <td>231</td>\n",
       "      <td>-1</td>\n",
       "      <td>6</td>\n",
       "      <td>0</td>\n",
       "      <td>False</td>\n",
       "      <td>-1</td>\n",
       "      <td>2017-05-19</td>\n",
       "      <td>103</td>\n",
       "    </tr>\n",
       "  </tbody>\n",
       "</table>\n",
       "<p>145258 rows × 49 columns</p>\n",
       "</div>"
      ]
     },
     "metadata": {
      "application/vnd.databricks.v1+output": {
       "addedWidgets": {},
       "arguments": {},
       "data": "<div>\n<style scoped>\n    .dataframe tbody tr th:only-of-type {\n        vertical-align: middle;\n    }\n\n    .dataframe tbody tr th {\n        vertical-align: top;\n    }\n\n    .dataframe thead th {\n        text-align: right;\n    }\n</style>\n<table border=\"1\" class=\"dataframe\">\n  <thead>\n    <tr style=\"text-align: right;\">\n      <th></th>\n      <th>match_id</th>\n      <th>over_id</th>\n      <th>ball_id</th>\n      <th>innings_no</th>\n      <th>team_batting</th>\n      <th>team_bowling</th>\n      <th>striker_batting_position</th>\n      <th>extra_type</th>\n      <th>runs_scored</th>\n      <th>extra_runs</th>\n      <th>...</th>\n      <th>fielder_sk</th>\n      <th>bowler_match_sk</th>\n      <th>bowler_sk</th>\n      <th>playerout_match_sk</th>\n      <th>battingteam_sk</th>\n      <th>bowlingteam_sk</th>\n      <th>keeper_catch</th>\n      <th>player_out_sk</th>\n      <th>matchdatesk</th>\n      <th>total_runs_in _over</th>\n    </tr>\n  </thead>\n  <tbody>\n    <tr>\n      <th>0</th>\n      <td>335990</td>\n      <td>20</td>\n      <td>1</td>\n      <td>2</td>\n      <td>2</td>\n      <td>7</td>\n      <td>6.0</td>\n      <td>No Extras</td>\n      <td>1</td>\n      <td>0</td>\n      <td>...</td>\n      <td>-1</td>\n      <td>12770</td>\n      <td>79</td>\n      <td>-1</td>\n      <td>1</td>\n      <td>6</td>\n      <td>False</td>\n      <td>0</td>\n      <td>2008-04-20</td>\n      <td>2</td>\n    </tr>\n    <tr>\n      <th>1</th>\n      <td>335990</td>\n      <td>20</td>\n      <td>3</td>\n      <td>2</td>\n      <td>2</td>\n      <td>7</td>\n      <td>7.0</td>\n      <td>No Extras</td>\n      <td>0</td>\n      <td>0</td>\n      <td>...</td>\n      <td>-1</td>\n      <td>12770</td>\n      <td>79</td>\n      <td>-1</td>\n      <td>1</td>\n      <td>6</td>\n      <td>False</td>\n      <td>0</td>\n      <td>2008-04-20</td>\n      <td>2</td>\n    </tr>\n    <tr>\n      <th>2</th>\n      <td>335990</td>\n      <td>20</td>\n      <td>4</td>\n      <td>2</td>\n      <td>2</td>\n      <td>7</td>\n      <td>7.0</td>\n      <td>No Extras</td>\n      <td>0</td>\n      <td>0</td>\n      <td>...</td>\n      <td>-1</td>\n      <td>12770</td>\n      <td>79</td>\n      <td>-1</td>\n      <td>1</td>\n      <td>6</td>\n      <td>False</td>\n      <td>0</td>\n      <td>2008-04-20</td>\n      <td>2</td>\n    </tr>\n    <tr>\n      <th>3</th>\n      <td>335990</td>\n      <td>20</td>\n      <td>5</td>\n      <td>2</td>\n      <td>2</td>\n      <td>7</td>\n      <td>7.0</td>\n      <td>No Extras</td>\n      <td>1</td>\n      <td>0</td>\n      <td>...</td>\n      <td>-1</td>\n      <td>12770</td>\n      <td>79</td>\n      <td>-1</td>\n      <td>1</td>\n      <td>6</td>\n      <td>False</td>\n      <td>0</td>\n      <td>2008-04-20</td>\n      <td>2</td>\n    </tr>\n    <tr>\n      <th>4</th>\n      <td>335990</td>\n      <td>19</td>\n      <td>1</td>\n      <td>2</td>\n      <td>2</td>\n      <td>7</td>\n      <td>4.0</td>\n      <td>No Extras</td>\n      <td>1</td>\n      <td>0</td>\n      <td>...</td>\n      <td>-1</td>\n      <td>12767</td>\n      <td>49</td>\n      <td>-1</td>\n      <td>1</td>\n      <td>6</td>\n      <td>False</td>\n      <td>0</td>\n      <td>2008-04-20</td>\n      <td>10</td>\n    </tr>\n    <tr>\n      <th>...</th>\n      <td>...</td>\n      <td>...</td>\n      <td>...</td>\n      <td>...</td>\n      <td>...</td>\n      <td>...</td>\n      <td>...</td>\n      <td>...</td>\n      <td>...</td>\n      <td>...</td>\n      <td>...</td>\n      <td>...</td>\n      <td>...</td>\n      <td>...</td>\n      <td>...</td>\n      <td>...</td>\n      <td>...</td>\n      <td>...</td>\n      <td>...</td>\n      <td>...</td>\n      <td>...</td>\n    </tr>\n    <tr>\n      <th>145253</th>\n      <td>1082649</td>\n      <td>1</td>\n      <td>2</td>\n      <td>2</td>\n      <td>Mumbai Indians</td>\n      <td>Kolkata Knight Riders</td>\n      <td>NaN</td>\n      <td>No Extras</td>\n      <td>2</td>\n      <td>0</td>\n      <td>...</td>\n      <td>-1</td>\n      <td>26651</td>\n      <td>231</td>\n      <td>-1</td>\n      <td>6</td>\n      <td>0</td>\n      <td>False</td>\n      <td>-1</td>\n      <td>2017-05-19</td>\n      <td>103</td>\n    </tr>\n    <tr>\n      <th>145254</th>\n      <td>1082649</td>\n      <td>1</td>\n      <td>3</td>\n      <td>2</td>\n      <td>Mumbai Indians</td>\n      <td>Kolkata Knight Riders</td>\n      <td>NaN</td>\n      <td>No Extras</td>\n      <td>1</td>\n      <td>0</td>\n      <td>...</td>\n      <td>-1</td>\n      <td>26651</td>\n      <td>231</td>\n      <td>-1</td>\n      <td>6</td>\n      <td>0</td>\n      <td>False</td>\n      <td>-1</td>\n      <td>2017-05-19</td>\n      <td>103</td>\n    </tr>\n    <tr>\n      <th>145255</th>\n      <td>1082649</td>\n      <td>1</td>\n      <td>4</td>\n      <td>2</td>\n      <td>Mumbai Indians</td>\n      <td>Kolkata Knight Riders</td>\n      <td>NaN</td>\n      <td>No Extras</td>\n      <td>0</td>\n      <td>0</td>\n      <td>...</td>\n      <td>-1</td>\n      <td>26651</td>\n      <td>231</td>\n      <td>-1</td>\n      <td>6</td>\n      <td>0</td>\n      <td>False</td>\n      <td>-1</td>\n      <td>2017-05-19</td>\n      <td>103</td>\n    </tr>\n    <tr>\n      <th>145256</th>\n      <td>1082649</td>\n      <td>1</td>\n      <td>5</td>\n      <td>2</td>\n      <td>Mumbai Indians</td>\n      <td>Kolkata Knight Riders</td>\n      <td>NaN</td>\n      <td>Legbyes</td>\n      <td>0</td>\n      <td>4</td>\n      <td>...</td>\n      <td>-1</td>\n      <td>26651</td>\n      <td>231</td>\n      <td>-1</td>\n      <td>6</td>\n      <td>0</td>\n      <td>False</td>\n      <td>-1</td>\n      <td>2017-05-19</td>\n      <td>103</td>\n    </tr>\n    <tr>\n      <th>145257</th>\n      <td>1082649</td>\n      <td>1</td>\n      <td>6</td>\n      <td>2</td>\n      <td>Mumbai Indians</td>\n      <td>Kolkata Knight Riders</td>\n      <td>NaN</td>\n      <td>No Extras</td>\n      <td>4</td>\n      <td>0</td>\n      <td>...</td>\n      <td>-1</td>\n      <td>26651</td>\n      <td>231</td>\n      <td>-1</td>\n      <td>6</td>\n      <td>0</td>\n      <td>False</td>\n      <td>-1</td>\n      <td>2017-05-19</td>\n      <td>103</td>\n    </tr>\n  </tbody>\n</table>\n<p>145258 rows × 49 columns</p>\n</div>",
       "datasetInfos": [],
       "metadata": {},
       "removedWidgets": [],
       "textData": null,
       "type": "htmlSandbox"
      }
     },
     "output_type": "display_data"
    }
   ],
   "source": [
    "Runs_in_over.toPandas()"
   ]
  },
  {
   "cell_type": "code",
   "execution_count": 0,
   "metadata": {
    "application/vnd.databricks.v1+cell": {
     "cellMetadata": {
      "byteLimit": 2048000,
      "rowLimit": 10000
     },
     "inputWidgets": {},
     "nuid": "5838cf12-8888-4d25-8b83-c3e04b8e9ef6",
     "showTitle": false,
     "title": ""
    }
   },
   "outputs": [],
   "source": [
    "#window function: calculate total of runs in each match for each over\n",
    "# Define WindowSpec partitioned by over_id and ordered by match\n",
    "windowSpec = Window.partitionBy(\"match_id\",\"innings_no\").orderBy(col(\"over_id\").desc())\n",
    "\n",
    "Runs_in_over = ball_by_ball_df.withColumn('total_runs_in _over', sum('runs_scored').over(windowSpec))"
   ]
  },
  {
   "cell_type": "code",
   "execution_count": 0,
   "metadata": {
    "application/vnd.databricks.v1+cell": {
     "cellMetadata": {
      "byteLimit": 2048000,
      "rowLimit": 10000
     },
     "inputWidgets": {},
     "nuid": "a760a176-f138-4348-b21c-1cf0deb5c98f",
     "showTitle": false,
     "title": ""
    }
   },
   "outputs": [
    {
     "output_type": "display_data",
     "data": {
      "text/html": [
       "<div>\n",
       "<style scoped>\n",
       "    .dataframe tbody tr th:only-of-type {\n",
       "        vertical-align: middle;\n",
       "    }\n",
       "\n",
       "    .dataframe tbody tr th {\n",
       "        vertical-align: top;\n",
       "    }\n",
       "\n",
       "    .dataframe thead th {\n",
       "        text-align: right;\n",
       "    }\n",
       "</style>\n",
       "<table border=\"1\" class=\"dataframe\">\n",
       "  <thead>\n",
       "    <tr style=\"text-align: right;\">\n",
       "      <th></th>\n",
       "      <th>match_id</th>\n",
       "      <th>over_id</th>\n",
       "      <th>ball_id</th>\n",
       "      <th>innings_no</th>\n",
       "      <th>team_batting</th>\n",
       "      <th>team_bowling</th>\n",
       "      <th>striker_batting_position</th>\n",
       "      <th>extra_type</th>\n",
       "      <th>runs_scored</th>\n",
       "      <th>extra_runs</th>\n",
       "      <th>...</th>\n",
       "      <th>fielder_sk</th>\n",
       "      <th>bowler_match_sk</th>\n",
       "      <th>bowler_sk</th>\n",
       "      <th>playerout_match_sk</th>\n",
       "      <th>battingteam_sk</th>\n",
       "      <th>bowlingteam_sk</th>\n",
       "      <th>keeper_catch</th>\n",
       "      <th>player_out_sk</th>\n",
       "      <th>matchdatesk</th>\n",
       "      <th>total_runs_in _over</th>\n",
       "    </tr>\n",
       "  </thead>\n",
       "  <tbody>\n",
       "    <tr>\n",
       "      <th>0</th>\n",
       "      <td>335990</td>\n",
       "      <td>20</td>\n",
       "      <td>1</td>\n",
       "      <td>2</td>\n",
       "      <td>2</td>\n",
       "      <td>7</td>\n",
       "      <td>6.0</td>\n",
       "      <td>No Extras</td>\n",
       "      <td>1</td>\n",
       "      <td>0</td>\n",
       "      <td>...</td>\n",
       "      <td>-1</td>\n",
       "      <td>12770</td>\n",
       "      <td>79</td>\n",
       "      <td>-1</td>\n",
       "      <td>1</td>\n",
       "      <td>6</td>\n",
       "      <td>False</td>\n",
       "      <td>0</td>\n",
       "      <td>2008-04-20</td>\n",
       "      <td>2</td>\n",
       "    </tr>\n",
       "    <tr>\n",
       "      <th>1</th>\n",
       "      <td>335990</td>\n",
       "      <td>20</td>\n",
       "      <td>3</td>\n",
       "      <td>2</td>\n",
       "      <td>2</td>\n",
       "      <td>7</td>\n",
       "      <td>7.0</td>\n",
       "      <td>No Extras</td>\n",
       "      <td>0</td>\n",
       "      <td>0</td>\n",
       "      <td>...</td>\n",
       "      <td>-1</td>\n",
       "      <td>12770</td>\n",
       "      <td>79</td>\n",
       "      <td>-1</td>\n",
       "      <td>1</td>\n",
       "      <td>6</td>\n",
       "      <td>False</td>\n",
       "      <td>0</td>\n",
       "      <td>2008-04-20</td>\n",
       "      <td>2</td>\n",
       "    </tr>\n",
       "    <tr>\n",
       "      <th>2</th>\n",
       "      <td>335990</td>\n",
       "      <td>20</td>\n",
       "      <td>4</td>\n",
       "      <td>2</td>\n",
       "      <td>2</td>\n",
       "      <td>7</td>\n",
       "      <td>7.0</td>\n",
       "      <td>No Extras</td>\n",
       "      <td>0</td>\n",
       "      <td>0</td>\n",
       "      <td>...</td>\n",
       "      <td>-1</td>\n",
       "      <td>12770</td>\n",
       "      <td>79</td>\n",
       "      <td>-1</td>\n",
       "      <td>1</td>\n",
       "      <td>6</td>\n",
       "      <td>False</td>\n",
       "      <td>0</td>\n",
       "      <td>2008-04-20</td>\n",
       "      <td>2</td>\n",
       "    </tr>\n",
       "    <tr>\n",
       "      <th>3</th>\n",
       "      <td>335990</td>\n",
       "      <td>20</td>\n",
       "      <td>5</td>\n",
       "      <td>2</td>\n",
       "      <td>2</td>\n",
       "      <td>7</td>\n",
       "      <td>7.0</td>\n",
       "      <td>No Extras</td>\n",
       "      <td>1</td>\n",
       "      <td>0</td>\n",
       "      <td>...</td>\n",
       "      <td>-1</td>\n",
       "      <td>12770</td>\n",
       "      <td>79</td>\n",
       "      <td>-1</td>\n",
       "      <td>1</td>\n",
       "      <td>6</td>\n",
       "      <td>False</td>\n",
       "      <td>0</td>\n",
       "      <td>2008-04-20</td>\n",
       "      <td>2</td>\n",
       "    </tr>\n",
       "    <tr>\n",
       "      <th>4</th>\n",
       "      <td>335990</td>\n",
       "      <td>19</td>\n",
       "      <td>1</td>\n",
       "      <td>2</td>\n",
       "      <td>2</td>\n",
       "      <td>7</td>\n",
       "      <td>4.0</td>\n",
       "      <td>No Extras</td>\n",
       "      <td>1</td>\n",
       "      <td>0</td>\n",
       "      <td>...</td>\n",
       "      <td>-1</td>\n",
       "      <td>12767</td>\n",
       "      <td>49</td>\n",
       "      <td>-1</td>\n",
       "      <td>1</td>\n",
       "      <td>6</td>\n",
       "      <td>False</td>\n",
       "      <td>0</td>\n",
       "      <td>2008-04-20</td>\n",
       "      <td>10</td>\n",
       "    </tr>\n",
       "    <tr>\n",
       "      <th>...</th>\n",
       "      <td>...</td>\n",
       "      <td>...</td>\n",
       "      <td>...</td>\n",
       "      <td>...</td>\n",
       "      <td>...</td>\n",
       "      <td>...</td>\n",
       "      <td>...</td>\n",
       "      <td>...</td>\n",
       "      <td>...</td>\n",
       "      <td>...</td>\n",
       "      <td>...</td>\n",
       "      <td>...</td>\n",
       "      <td>...</td>\n",
       "      <td>...</td>\n",
       "      <td>...</td>\n",
       "      <td>...</td>\n",
       "      <td>...</td>\n",
       "      <td>...</td>\n",
       "      <td>...</td>\n",
       "      <td>...</td>\n",
       "      <td>...</td>\n",
       "    </tr>\n",
       "    <tr>\n",
       "      <th>145253</th>\n",
       "      <td>1082649</td>\n",
       "      <td>1</td>\n",
       "      <td>2</td>\n",
       "      <td>2</td>\n",
       "      <td>Mumbai Indians</td>\n",
       "      <td>Kolkata Knight Riders</td>\n",
       "      <td>NaN</td>\n",
       "      <td>No Extras</td>\n",
       "      <td>2</td>\n",
       "      <td>0</td>\n",
       "      <td>...</td>\n",
       "      <td>-1</td>\n",
       "      <td>26651</td>\n",
       "      <td>231</td>\n",
       "      <td>-1</td>\n",
       "      <td>6</td>\n",
       "      <td>0</td>\n",
       "      <td>False</td>\n",
       "      <td>-1</td>\n",
       "      <td>2017-05-19</td>\n",
       "      <td>103</td>\n",
       "    </tr>\n",
       "    <tr>\n",
       "      <th>145254</th>\n",
       "      <td>1082649</td>\n",
       "      <td>1</td>\n",
       "      <td>3</td>\n",
       "      <td>2</td>\n",
       "      <td>Mumbai Indians</td>\n",
       "      <td>Kolkata Knight Riders</td>\n",
       "      <td>NaN</td>\n",
       "      <td>No Extras</td>\n",
       "      <td>1</td>\n",
       "      <td>0</td>\n",
       "      <td>...</td>\n",
       "      <td>-1</td>\n",
       "      <td>26651</td>\n",
       "      <td>231</td>\n",
       "      <td>-1</td>\n",
       "      <td>6</td>\n",
       "      <td>0</td>\n",
       "      <td>False</td>\n",
       "      <td>-1</td>\n",
       "      <td>2017-05-19</td>\n",
       "      <td>103</td>\n",
       "    </tr>\n",
       "    <tr>\n",
       "      <th>145255</th>\n",
       "      <td>1082649</td>\n",
       "      <td>1</td>\n",
       "      <td>4</td>\n",
       "      <td>2</td>\n",
       "      <td>Mumbai Indians</td>\n",
       "      <td>Kolkata Knight Riders</td>\n",
       "      <td>NaN</td>\n",
       "      <td>No Extras</td>\n",
       "      <td>0</td>\n",
       "      <td>0</td>\n",
       "      <td>...</td>\n",
       "      <td>-1</td>\n",
       "      <td>26651</td>\n",
       "      <td>231</td>\n",
       "      <td>-1</td>\n",
       "      <td>6</td>\n",
       "      <td>0</td>\n",
       "      <td>False</td>\n",
       "      <td>-1</td>\n",
       "      <td>2017-05-19</td>\n",
       "      <td>103</td>\n",
       "    </tr>\n",
       "    <tr>\n",
       "      <th>145256</th>\n",
       "      <td>1082649</td>\n",
       "      <td>1</td>\n",
       "      <td>5</td>\n",
       "      <td>2</td>\n",
       "      <td>Mumbai Indians</td>\n",
       "      <td>Kolkata Knight Riders</td>\n",
       "      <td>NaN</td>\n",
       "      <td>Legbyes</td>\n",
       "      <td>0</td>\n",
       "      <td>4</td>\n",
       "      <td>...</td>\n",
       "      <td>-1</td>\n",
       "      <td>26651</td>\n",
       "      <td>231</td>\n",
       "      <td>-1</td>\n",
       "      <td>6</td>\n",
       "      <td>0</td>\n",
       "      <td>False</td>\n",
       "      <td>-1</td>\n",
       "      <td>2017-05-19</td>\n",
       "      <td>103</td>\n",
       "    </tr>\n",
       "    <tr>\n",
       "      <th>145257</th>\n",
       "      <td>1082649</td>\n",
       "      <td>1</td>\n",
       "      <td>6</td>\n",
       "      <td>2</td>\n",
       "      <td>Mumbai Indians</td>\n",
       "      <td>Kolkata Knight Riders</td>\n",
       "      <td>NaN</td>\n",
       "      <td>No Extras</td>\n",
       "      <td>4</td>\n",
       "      <td>0</td>\n",
       "      <td>...</td>\n",
       "      <td>-1</td>\n",
       "      <td>26651</td>\n",
       "      <td>231</td>\n",
       "      <td>-1</td>\n",
       "      <td>6</td>\n",
       "      <td>0</td>\n",
       "      <td>False</td>\n",
       "      <td>-1</td>\n",
       "      <td>2017-05-19</td>\n",
       "      <td>103</td>\n",
       "    </tr>\n",
       "  </tbody>\n",
       "</table>\n",
       "<p>145258 rows × 49 columns</p>\n",
       "</div>"
      ]
     },
     "metadata": {
      "application/vnd.databricks.v1+output": {
       "addedWidgets": {},
       "arguments": {},
       "data": "<div>\n<style scoped>\n    .dataframe tbody tr th:only-of-type {\n        vertical-align: middle;\n    }\n\n    .dataframe tbody tr th {\n        vertical-align: top;\n    }\n\n    .dataframe thead th {\n        text-align: right;\n    }\n</style>\n<table border=\"1\" class=\"dataframe\">\n  <thead>\n    <tr style=\"text-align: right;\">\n      <th></th>\n      <th>match_id</th>\n      <th>over_id</th>\n      <th>ball_id</th>\n      <th>innings_no</th>\n      <th>team_batting</th>\n      <th>team_bowling</th>\n      <th>striker_batting_position</th>\n      <th>extra_type</th>\n      <th>runs_scored</th>\n      <th>extra_runs</th>\n      <th>...</th>\n      <th>fielder_sk</th>\n      <th>bowler_match_sk</th>\n      <th>bowler_sk</th>\n      <th>playerout_match_sk</th>\n      <th>battingteam_sk</th>\n      <th>bowlingteam_sk</th>\n      <th>keeper_catch</th>\n      <th>player_out_sk</th>\n      <th>matchdatesk</th>\n      <th>total_runs_in _over</th>\n    </tr>\n  </thead>\n  <tbody>\n    <tr>\n      <th>0</th>\n      <td>335990</td>\n      <td>20</td>\n      <td>1</td>\n      <td>2</td>\n      <td>2</td>\n      <td>7</td>\n      <td>6.0</td>\n      <td>No Extras</td>\n      <td>1</td>\n      <td>0</td>\n      <td>...</td>\n      <td>-1</td>\n      <td>12770</td>\n      <td>79</td>\n      <td>-1</td>\n      <td>1</td>\n      <td>6</td>\n      <td>False</td>\n      <td>0</td>\n      <td>2008-04-20</td>\n      <td>2</td>\n    </tr>\n    <tr>\n      <th>1</th>\n      <td>335990</td>\n      <td>20</td>\n      <td>3</td>\n      <td>2</td>\n      <td>2</td>\n      <td>7</td>\n      <td>7.0</td>\n      <td>No Extras</td>\n      <td>0</td>\n      <td>0</td>\n      <td>...</td>\n      <td>-1</td>\n      <td>12770</td>\n      <td>79</td>\n      <td>-1</td>\n      <td>1</td>\n      <td>6</td>\n      <td>False</td>\n      <td>0</td>\n      <td>2008-04-20</td>\n      <td>2</td>\n    </tr>\n    <tr>\n      <th>2</th>\n      <td>335990</td>\n      <td>20</td>\n      <td>4</td>\n      <td>2</td>\n      <td>2</td>\n      <td>7</td>\n      <td>7.0</td>\n      <td>No Extras</td>\n      <td>0</td>\n      <td>0</td>\n      <td>...</td>\n      <td>-1</td>\n      <td>12770</td>\n      <td>79</td>\n      <td>-1</td>\n      <td>1</td>\n      <td>6</td>\n      <td>False</td>\n      <td>0</td>\n      <td>2008-04-20</td>\n      <td>2</td>\n    </tr>\n    <tr>\n      <th>3</th>\n      <td>335990</td>\n      <td>20</td>\n      <td>5</td>\n      <td>2</td>\n      <td>2</td>\n      <td>7</td>\n      <td>7.0</td>\n      <td>No Extras</td>\n      <td>1</td>\n      <td>0</td>\n      <td>...</td>\n      <td>-1</td>\n      <td>12770</td>\n      <td>79</td>\n      <td>-1</td>\n      <td>1</td>\n      <td>6</td>\n      <td>False</td>\n      <td>0</td>\n      <td>2008-04-20</td>\n      <td>2</td>\n    </tr>\n    <tr>\n      <th>4</th>\n      <td>335990</td>\n      <td>19</td>\n      <td>1</td>\n      <td>2</td>\n      <td>2</td>\n      <td>7</td>\n      <td>4.0</td>\n      <td>No Extras</td>\n      <td>1</td>\n      <td>0</td>\n      <td>...</td>\n      <td>-1</td>\n      <td>12767</td>\n      <td>49</td>\n      <td>-1</td>\n      <td>1</td>\n      <td>6</td>\n      <td>False</td>\n      <td>0</td>\n      <td>2008-04-20</td>\n      <td>10</td>\n    </tr>\n    <tr>\n      <th>...</th>\n      <td>...</td>\n      <td>...</td>\n      <td>...</td>\n      <td>...</td>\n      <td>...</td>\n      <td>...</td>\n      <td>...</td>\n      <td>...</td>\n      <td>...</td>\n      <td>...</td>\n      <td>...</td>\n      <td>...</td>\n      <td>...</td>\n      <td>...</td>\n      <td>...</td>\n      <td>...</td>\n      <td>...</td>\n      <td>...</td>\n      <td>...</td>\n      <td>...</td>\n      <td>...</td>\n    </tr>\n    <tr>\n      <th>145253</th>\n      <td>1082649</td>\n      <td>1</td>\n      <td>2</td>\n      <td>2</td>\n      <td>Mumbai Indians</td>\n      <td>Kolkata Knight Riders</td>\n      <td>NaN</td>\n      <td>No Extras</td>\n      <td>2</td>\n      <td>0</td>\n      <td>...</td>\n      <td>-1</td>\n      <td>26651</td>\n      <td>231</td>\n      <td>-1</td>\n      <td>6</td>\n      <td>0</td>\n      <td>False</td>\n      <td>-1</td>\n      <td>2017-05-19</td>\n      <td>103</td>\n    </tr>\n    <tr>\n      <th>145254</th>\n      <td>1082649</td>\n      <td>1</td>\n      <td>3</td>\n      <td>2</td>\n      <td>Mumbai Indians</td>\n      <td>Kolkata Knight Riders</td>\n      <td>NaN</td>\n      <td>No Extras</td>\n      <td>1</td>\n      <td>0</td>\n      <td>...</td>\n      <td>-1</td>\n      <td>26651</td>\n      <td>231</td>\n      <td>-1</td>\n      <td>6</td>\n      <td>0</td>\n      <td>False</td>\n      <td>-1</td>\n      <td>2017-05-19</td>\n      <td>103</td>\n    </tr>\n    <tr>\n      <th>145255</th>\n      <td>1082649</td>\n      <td>1</td>\n      <td>4</td>\n      <td>2</td>\n      <td>Mumbai Indians</td>\n      <td>Kolkata Knight Riders</td>\n      <td>NaN</td>\n      <td>No Extras</td>\n      <td>0</td>\n      <td>0</td>\n      <td>...</td>\n      <td>-1</td>\n      <td>26651</td>\n      <td>231</td>\n      <td>-1</td>\n      <td>6</td>\n      <td>0</td>\n      <td>False</td>\n      <td>-1</td>\n      <td>2017-05-19</td>\n      <td>103</td>\n    </tr>\n    <tr>\n      <th>145256</th>\n      <td>1082649</td>\n      <td>1</td>\n      <td>5</td>\n      <td>2</td>\n      <td>Mumbai Indians</td>\n      <td>Kolkata Knight Riders</td>\n      <td>NaN</td>\n      <td>Legbyes</td>\n      <td>0</td>\n      <td>4</td>\n      <td>...</td>\n      <td>-1</td>\n      <td>26651</td>\n      <td>231</td>\n      <td>-1</td>\n      <td>6</td>\n      <td>0</td>\n      <td>False</td>\n      <td>-1</td>\n      <td>2017-05-19</td>\n      <td>103</td>\n    </tr>\n    <tr>\n      <th>145257</th>\n      <td>1082649</td>\n      <td>1</td>\n      <td>6</td>\n      <td>2</td>\n      <td>Mumbai Indians</td>\n      <td>Kolkata Knight Riders</td>\n      <td>NaN</td>\n      <td>No Extras</td>\n      <td>4</td>\n      <td>0</td>\n      <td>...</td>\n      <td>-1</td>\n      <td>26651</td>\n      <td>231</td>\n      <td>-1</td>\n      <td>6</td>\n      <td>0</td>\n      <td>False</td>\n      <td>-1</td>\n      <td>2017-05-19</td>\n      <td>103</td>\n    </tr>\n  </tbody>\n</table>\n<p>145258 rows × 49 columns</p>\n</div>",
       "datasetInfos": [],
       "metadata": {},
       "removedWidgets": [],
       "textData": null,
       "type": "htmlSandbox"
      }
     },
     "output_type": "display_data"
    }
   ],
   "source": [
    "Runs_in_over.toPandas()"
   ]
  },
  {
   "cell_type": "code",
   "execution_count": 0,
   "metadata": {
    "application/vnd.databricks.v1+cell": {
     "cellMetadata": {
      "byteLimit": 2048000,
      "rowLimit": 10000
     },
     "inputWidgets": {},
     "nuid": "323bb8d8-f7a1-4a9e-a7bd-0df190ef67a7",
     "showTitle": false,
     "title": ""
    }
   },
   "outputs": [
    {
     "output_type": "display_data",
     "data": {
      "text/html": [
       "<div>\n",
       "<style scoped>\n",
       "    .dataframe tbody tr th:only-of-type {\n",
       "        vertical-align: middle;\n",
       "    }\n",
       "\n",
       "    .dataframe tbody tr th {\n",
       "        vertical-align: top;\n",
       "    }\n",
       "\n",
       "    .dataframe thead th {\n",
       "        text-align: right;\n",
       "    }\n",
       "</style>\n",
       "<table border=\"1\" class=\"dataframe\">\n",
       "  <thead>\n",
       "    <tr style=\"text-align: right;\">\n",
       "      <th></th>\n",
       "      <th>match_id</th>\n",
       "      <th>over_id</th>\n",
       "      <th>ball_id</th>\n",
       "      <th>innings_no</th>\n",
       "      <th>team_batting</th>\n",
       "      <th>team_bowling</th>\n",
       "      <th>striker_batting_position</th>\n",
       "      <th>extra_type</th>\n",
       "      <th>runs_scored</th>\n",
       "      <th>extra_runs</th>\n",
       "      <th>...</th>\n",
       "      <th>fielder_sk</th>\n",
       "      <th>bowler_match_sk</th>\n",
       "      <th>bowler_sk</th>\n",
       "      <th>playerout_match_sk</th>\n",
       "      <th>battingteam_sk</th>\n",
       "      <th>bowlingteam_sk</th>\n",
       "      <th>keeper_catch</th>\n",
       "      <th>player_out_sk</th>\n",
       "      <th>matchdatesk</th>\n",
       "      <th>High_impact_balls</th>\n",
       "    </tr>\n",
       "  </thead>\n",
       "  <tbody>\n",
       "    <tr>\n",
       "      <th>0</th>\n",
       "      <td>598028</td>\n",
       "      <td>15</td>\n",
       "      <td>6</td>\n",
       "      <td>1</td>\n",
       "      <td>5</td>\n",
       "      <td>2</td>\n",
       "      <td>6.0</td>\n",
       "      <td>No Extras</td>\n",
       "      <td>4</td>\n",
       "      <td>0</td>\n",
       "      <td>...</td>\n",
       "      <td>-1</td>\n",
       "      <td>20343</td>\n",
       "      <td>82</td>\n",
       "      <td>-1</td>\n",
       "      <td>4</td>\n",
       "      <td>1</td>\n",
       "      <td>False</td>\n",
       "      <td>0</td>\n",
       "      <td>2013-04-20</td>\n",
       "      <td>False</td>\n",
       "    </tr>\n",
       "    <tr>\n",
       "      <th>1</th>\n",
       "      <td>598028</td>\n",
       "      <td>14</td>\n",
       "      <td>1</td>\n",
       "      <td>1</td>\n",
       "      <td>5</td>\n",
       "      <td>2</td>\n",
       "      <td>5.0</td>\n",
       "      <td>No Extras</td>\n",
       "      <td>1</td>\n",
       "      <td>0</td>\n",
       "      <td>...</td>\n",
       "      <td>-1</td>\n",
       "      <td>20348</td>\n",
       "      <td>345</td>\n",
       "      <td>-1</td>\n",
       "      <td>4</td>\n",
       "      <td>1</td>\n",
       "      <td>False</td>\n",
       "      <td>0</td>\n",
       "      <td>2013-04-20</td>\n",
       "      <td>False</td>\n",
       "    </tr>\n",
       "    <tr>\n",
       "      <th>2</th>\n",
       "      <td>598028</td>\n",
       "      <td>14</td>\n",
       "      <td>2</td>\n",
       "      <td>1</td>\n",
       "      <td>5</td>\n",
       "      <td>2</td>\n",
       "      <td>3.0</td>\n",
       "      <td>No Extras</td>\n",
       "      <td>1</td>\n",
       "      <td>0</td>\n",
       "      <td>...</td>\n",
       "      <td>-1</td>\n",
       "      <td>20348</td>\n",
       "      <td>345</td>\n",
       "      <td>-1</td>\n",
       "      <td>4</td>\n",
       "      <td>1</td>\n",
       "      <td>False</td>\n",
       "      <td>0</td>\n",
       "      <td>2013-04-20</td>\n",
       "      <td>False</td>\n",
       "    </tr>\n",
       "    <tr>\n",
       "      <th>3</th>\n",
       "      <td>598028</td>\n",
       "      <td>14</td>\n",
       "      <td>3</td>\n",
       "      <td>1</td>\n",
       "      <td>5</td>\n",
       "      <td>2</td>\n",
       "      <td>5.0</td>\n",
       "      <td>No Extras</td>\n",
       "      <td>1</td>\n",
       "      <td>0</td>\n",
       "      <td>...</td>\n",
       "      <td>-1</td>\n",
       "      <td>20348</td>\n",
       "      <td>345</td>\n",
       "      <td>-1</td>\n",
       "      <td>4</td>\n",
       "      <td>1</td>\n",
       "      <td>False</td>\n",
       "      <td>0</td>\n",
       "      <td>2013-04-20</td>\n",
       "      <td>False</td>\n",
       "    </tr>\n",
       "    <tr>\n",
       "      <th>4</th>\n",
       "      <td>598028</td>\n",
       "      <td>14</td>\n",
       "      <td>4</td>\n",
       "      <td>1</td>\n",
       "      <td>5</td>\n",
       "      <td>2</td>\n",
       "      <td>3.0</td>\n",
       "      <td>No Extras</td>\n",
       "      <td>0</td>\n",
       "      <td>0</td>\n",
       "      <td>...</td>\n",
       "      <td>-1</td>\n",
       "      <td>20348</td>\n",
       "      <td>345</td>\n",
       "      <td>-1</td>\n",
       "      <td>4</td>\n",
       "      <td>1</td>\n",
       "      <td>False</td>\n",
       "      <td>0</td>\n",
       "      <td>2013-04-20</td>\n",
       "      <td>False</td>\n",
       "    </tr>\n",
       "    <tr>\n",
       "      <th>...</th>\n",
       "      <td>...</td>\n",
       "      <td>...</td>\n",
       "      <td>...</td>\n",
       "      <td>...</td>\n",
       "      <td>...</td>\n",
       "      <td>...</td>\n",
       "      <td>...</td>\n",
       "      <td>...</td>\n",
       "      <td>...</td>\n",
       "      <td>...</td>\n",
       "      <td>...</td>\n",
       "      <td>...</td>\n",
       "      <td>...</td>\n",
       "      <td>...</td>\n",
       "      <td>...</td>\n",
       "      <td>...</td>\n",
       "      <td>...</td>\n",
       "      <td>...</td>\n",
       "      <td>...</td>\n",
       "      <td>...</td>\n",
       "      <td>...</td>\n",
       "    </tr>\n",
       "    <tr>\n",
       "      <th>145253</th>\n",
       "      <td>598028</td>\n",
       "      <td>15</td>\n",
       "      <td>1</td>\n",
       "      <td>1</td>\n",
       "      <td>5</td>\n",
       "      <td>2</td>\n",
       "      <td>5.0</td>\n",
       "      <td>No Extras</td>\n",
       "      <td>1</td>\n",
       "      <td>0</td>\n",
       "      <td>...</td>\n",
       "      <td>-1</td>\n",
       "      <td>20343</td>\n",
       "      <td>82</td>\n",
       "      <td>-1</td>\n",
       "      <td>4</td>\n",
       "      <td>1</td>\n",
       "      <td>False</td>\n",
       "      <td>0</td>\n",
       "      <td>2013-04-20</td>\n",
       "      <td>False</td>\n",
       "    </tr>\n",
       "    <tr>\n",
       "      <th>145254</th>\n",
       "      <td>598028</td>\n",
       "      <td>15</td>\n",
       "      <td>2</td>\n",
       "      <td>1</td>\n",
       "      <td>5</td>\n",
       "      <td>2</td>\n",
       "      <td>3.0</td>\n",
       "      <td>No Extras</td>\n",
       "      <td>2</td>\n",
       "      <td>0</td>\n",
       "      <td>...</td>\n",
       "      <td>-1</td>\n",
       "      <td>20343</td>\n",
       "      <td>82</td>\n",
       "      <td>-1</td>\n",
       "      <td>4</td>\n",
       "      <td>1</td>\n",
       "      <td>False</td>\n",
       "      <td>0</td>\n",
       "      <td>2013-04-20</td>\n",
       "      <td>False</td>\n",
       "    </tr>\n",
       "    <tr>\n",
       "      <th>145255</th>\n",
       "      <td>598028</td>\n",
       "      <td>15</td>\n",
       "      <td>3</td>\n",
       "      <td>1</td>\n",
       "      <td>5</td>\n",
       "      <td>2</td>\n",
       "      <td>3.0</td>\n",
       "      <td>No Extras</td>\n",
       "      <td>4</td>\n",
       "      <td>0</td>\n",
       "      <td>...</td>\n",
       "      <td>-1</td>\n",
       "      <td>20343</td>\n",
       "      <td>82</td>\n",
       "      <td>-1</td>\n",
       "      <td>4</td>\n",
       "      <td>1</td>\n",
       "      <td>False</td>\n",
       "      <td>0</td>\n",
       "      <td>2013-04-20</td>\n",
       "      <td>False</td>\n",
       "    </tr>\n",
       "    <tr>\n",
       "      <th>145256</th>\n",
       "      <td>598028</td>\n",
       "      <td>15</td>\n",
       "      <td>4</td>\n",
       "      <td>1</td>\n",
       "      <td>5</td>\n",
       "      <td>2</td>\n",
       "      <td>3.0</td>\n",
       "      <td>No Extras</td>\n",
       "      <td>0</td>\n",
       "      <td>0</td>\n",
       "      <td>...</td>\n",
       "      <td>348</td>\n",
       "      <td>20343</td>\n",
       "      <td>82</td>\n",
       "      <td>20328</td>\n",
       "      <td>4</td>\n",
       "      <td>1</td>\n",
       "      <td>False</td>\n",
       "      <td>0</td>\n",
       "      <td>2013-04-20</td>\n",
       "      <td>True</td>\n",
       "    </tr>\n",
       "    <tr>\n",
       "      <th>145257</th>\n",
       "      <td>598028</td>\n",
       "      <td>15</td>\n",
       "      <td>5</td>\n",
       "      <td>1</td>\n",
       "      <td>5</td>\n",
       "      <td>2</td>\n",
       "      <td>6.0</td>\n",
       "      <td>No Extras</td>\n",
       "      <td>0</td>\n",
       "      <td>0</td>\n",
       "      <td>...</td>\n",
       "      <td>-1</td>\n",
       "      <td>20343</td>\n",
       "      <td>82</td>\n",
       "      <td>-1</td>\n",
       "      <td>4</td>\n",
       "      <td>1</td>\n",
       "      <td>False</td>\n",
       "      <td>0</td>\n",
       "      <td>2013-04-20</td>\n",
       "      <td>False</td>\n",
       "    </tr>\n",
       "  </tbody>\n",
       "</table>\n",
       "<p>145258 rows × 49 columns</p>\n",
       "</div>"
      ]
     },
     "metadata": {
      "application/vnd.databricks.v1+output": {
       "addedWidgets": {},
       "arguments": {},
       "data": "<div>\n<style scoped>\n    .dataframe tbody tr th:only-of-type {\n        vertical-align: middle;\n    }\n\n    .dataframe tbody tr th {\n        vertical-align: top;\n    }\n\n    .dataframe thead th {\n        text-align: right;\n    }\n</style>\n<table border=\"1\" class=\"dataframe\">\n  <thead>\n    <tr style=\"text-align: right;\">\n      <th></th>\n      <th>match_id</th>\n      <th>over_id</th>\n      <th>ball_id</th>\n      <th>innings_no</th>\n      <th>team_batting</th>\n      <th>team_bowling</th>\n      <th>striker_batting_position</th>\n      <th>extra_type</th>\n      <th>runs_scored</th>\n      <th>extra_runs</th>\n      <th>...</th>\n      <th>fielder_sk</th>\n      <th>bowler_match_sk</th>\n      <th>bowler_sk</th>\n      <th>playerout_match_sk</th>\n      <th>battingteam_sk</th>\n      <th>bowlingteam_sk</th>\n      <th>keeper_catch</th>\n      <th>player_out_sk</th>\n      <th>matchdatesk</th>\n      <th>High_impact_balls</th>\n    </tr>\n  </thead>\n  <tbody>\n    <tr>\n      <th>0</th>\n      <td>598028</td>\n      <td>15</td>\n      <td>6</td>\n      <td>1</td>\n      <td>5</td>\n      <td>2</td>\n      <td>6.0</td>\n      <td>No Extras</td>\n      <td>4</td>\n      <td>0</td>\n      <td>...</td>\n      <td>-1</td>\n      <td>20343</td>\n      <td>82</td>\n      <td>-1</td>\n      <td>4</td>\n      <td>1</td>\n      <td>False</td>\n      <td>0</td>\n      <td>2013-04-20</td>\n      <td>False</td>\n    </tr>\n    <tr>\n      <th>1</th>\n      <td>598028</td>\n      <td>14</td>\n      <td>1</td>\n      <td>1</td>\n      <td>5</td>\n      <td>2</td>\n      <td>5.0</td>\n      <td>No Extras</td>\n      <td>1</td>\n      <td>0</td>\n      <td>...</td>\n      <td>-1</td>\n      <td>20348</td>\n      <td>345</td>\n      <td>-1</td>\n      <td>4</td>\n      <td>1</td>\n      <td>False</td>\n      <td>0</td>\n      <td>2013-04-20</td>\n      <td>False</td>\n    </tr>\n    <tr>\n      <th>2</th>\n      <td>598028</td>\n      <td>14</td>\n      <td>2</td>\n      <td>1</td>\n      <td>5</td>\n      <td>2</td>\n      <td>3.0</td>\n      <td>No Extras</td>\n      <td>1</td>\n      <td>0</td>\n      <td>...</td>\n      <td>-1</td>\n      <td>20348</td>\n      <td>345</td>\n      <td>-1</td>\n      <td>4</td>\n      <td>1</td>\n      <td>False</td>\n      <td>0</td>\n      <td>2013-04-20</td>\n      <td>False</td>\n    </tr>\n    <tr>\n      <th>3</th>\n      <td>598028</td>\n      <td>14</td>\n      <td>3</td>\n      <td>1</td>\n      <td>5</td>\n      <td>2</td>\n      <td>5.0</td>\n      <td>No Extras</td>\n      <td>1</td>\n      <td>0</td>\n      <td>...</td>\n      <td>-1</td>\n      <td>20348</td>\n      <td>345</td>\n      <td>-1</td>\n      <td>4</td>\n      <td>1</td>\n      <td>False</td>\n      <td>0</td>\n      <td>2013-04-20</td>\n      <td>False</td>\n    </tr>\n    <tr>\n      <th>4</th>\n      <td>598028</td>\n      <td>14</td>\n      <td>4</td>\n      <td>1</td>\n      <td>5</td>\n      <td>2</td>\n      <td>3.0</td>\n      <td>No Extras</td>\n      <td>0</td>\n      <td>0</td>\n      <td>...</td>\n      <td>-1</td>\n      <td>20348</td>\n      <td>345</td>\n      <td>-1</td>\n      <td>4</td>\n      <td>1</td>\n      <td>False</td>\n      <td>0</td>\n      <td>2013-04-20</td>\n      <td>False</td>\n    </tr>\n    <tr>\n      <th>...</th>\n      <td>...</td>\n      <td>...</td>\n      <td>...</td>\n      <td>...</td>\n      <td>...</td>\n      <td>...</td>\n      <td>...</td>\n      <td>...</td>\n      <td>...</td>\n      <td>...</td>\n      <td>...</td>\n      <td>...</td>\n      <td>...</td>\n      <td>...</td>\n      <td>...</td>\n      <td>...</td>\n      <td>...</td>\n      <td>...</td>\n      <td>...</td>\n      <td>...</td>\n      <td>...</td>\n    </tr>\n    <tr>\n      <th>145253</th>\n      <td>598028</td>\n      <td>15</td>\n      <td>1</td>\n      <td>1</td>\n      <td>5</td>\n      <td>2</td>\n      <td>5.0</td>\n      <td>No Extras</td>\n      <td>1</td>\n      <td>0</td>\n      <td>...</td>\n      <td>-1</td>\n      <td>20343</td>\n      <td>82</td>\n      <td>-1</td>\n      <td>4</td>\n      <td>1</td>\n      <td>False</td>\n      <td>0</td>\n      <td>2013-04-20</td>\n      <td>False</td>\n    </tr>\n    <tr>\n      <th>145254</th>\n      <td>598028</td>\n      <td>15</td>\n      <td>2</td>\n      <td>1</td>\n      <td>5</td>\n      <td>2</td>\n      <td>3.0</td>\n      <td>No Extras</td>\n      <td>2</td>\n      <td>0</td>\n      <td>...</td>\n      <td>-1</td>\n      <td>20343</td>\n      <td>82</td>\n      <td>-1</td>\n      <td>4</td>\n      <td>1</td>\n      <td>False</td>\n      <td>0</td>\n      <td>2013-04-20</td>\n      <td>False</td>\n    </tr>\n    <tr>\n      <th>145255</th>\n      <td>598028</td>\n      <td>15</td>\n      <td>3</td>\n      <td>1</td>\n      <td>5</td>\n      <td>2</td>\n      <td>3.0</td>\n      <td>No Extras</td>\n      <td>4</td>\n      <td>0</td>\n      <td>...</td>\n      <td>-1</td>\n      <td>20343</td>\n      <td>82</td>\n      <td>-1</td>\n      <td>4</td>\n      <td>1</td>\n      <td>False</td>\n      <td>0</td>\n      <td>2013-04-20</td>\n      <td>False</td>\n    </tr>\n    <tr>\n      <th>145256</th>\n      <td>598028</td>\n      <td>15</td>\n      <td>4</td>\n      <td>1</td>\n      <td>5</td>\n      <td>2</td>\n      <td>3.0</td>\n      <td>No Extras</td>\n      <td>0</td>\n      <td>0</td>\n      <td>...</td>\n      <td>348</td>\n      <td>20343</td>\n      <td>82</td>\n      <td>20328</td>\n      <td>4</td>\n      <td>1</td>\n      <td>False</td>\n      <td>0</td>\n      <td>2013-04-20</td>\n      <td>True</td>\n    </tr>\n    <tr>\n      <th>145257</th>\n      <td>598028</td>\n      <td>15</td>\n      <td>5</td>\n      <td>1</td>\n      <td>5</td>\n      <td>2</td>\n      <td>6.0</td>\n      <td>No Extras</td>\n      <td>0</td>\n      <td>0</td>\n      <td>...</td>\n      <td>-1</td>\n      <td>20343</td>\n      <td>82</td>\n      <td>-1</td>\n      <td>4</td>\n      <td>1</td>\n      <td>False</td>\n      <td>0</td>\n      <td>2013-04-20</td>\n      <td>False</td>\n    </tr>\n  </tbody>\n</table>\n<p>145258 rows × 49 columns</p>\n</div>",
       "datasetInfos": [],
       "metadata": {},
       "removedWidgets": [],
       "textData": null,
       "type": "htmlSandbox"
      }
     },
     "output_type": "display_data"
    }
   ],
   "source": [
    "#conditional column: Flag high impact balls(either a wicket or more than 6 runs including extras)\n",
    "\n",
    "High_impact_balls =  ball_by_ball_df.withColumn(\n",
    "    'High_impact_balls',\n",
    "    when(((col('runs_scored')+col('extra_runs')) > 6) | (col('out_type') != 'Not Applicable'), True).otherwise(False)\n",
    ")\n",
    "High_impact_balls.toPandas()"
   ]
  },
  {
   "cell_type": "code",
   "execution_count": 0,
   "metadata": {
    "application/vnd.databricks.v1+cell": {
     "cellMetadata": {
      "byteLimit": 2048000,
      "rowLimit": 10000
     },
     "inputWidgets": {},
     "nuid": "d3d434e1-1e1a-4beb-bf97-7dc1c41d2f5f",
     "showTitle": false,
     "title": ""
    }
   },
   "outputs": [
    {
     "output_type": "stream",
     "name": "stdout",
     "output_type": "stream",
     "text": [
      "+--------+--------+--------------------+--------------------+----------+-----------+--------------------+----------+------------+--------------------+--------------------+---------+--------+------------+-----------+----------+----------+----+-----+---+-------------------+-----------------+\n|match_sk|match_id|               team1|               team2|match_date|season_year|          venue_name| city_name|country_name|         toss_winner|        match_winner|toss_name|win_type|outcome_type|  manofmach|win_margin|country_id|year|month|day|win_margin_category|toss_match_winner|\n+--------+--------+--------------------+--------------------+----------+-----------+--------------------+----------+------------+--------------------+--------------------+---------+--------+------------+-----------+----------+----------+----+-----+---+-------------------+-----------------+\n|       0|  335987|Royal Challengers...|Kolkata Knight Ri...|2008-04-18|       2008|M Chinnaswamy Sta...| Bangalore|       India|Royal Challengers...|Kolkata Knight Ri...|    field|    runs|      Result|BB McCullum|       140|         1|2008|    4| 18|               High|               No|\n|       1|  335988|     Kings XI Punjab| Chennai Super Kings|2008-04-19|       2008|Punjab Cricket As...|Chandigarh|       India| Chennai Super Kings| Chennai Super Kings|      bat|    runs|      Result| MEK Hussey|        33|         1|2008|    4| 19|                Low|              Yes|\n+--------+--------+--------------------+--------------------+----------+-----------+--------------------+----------+------------+--------------------+--------------------+---------+--------+------------+-----------+----------+----------+----+-----+---+-------------------+-----------------+\nonly showing top 2 rows\n\n"
     ]
    }
   ],
   "source": [
    "from pyspark.sql.functions import year, month, dayofmonth, when\n",
    "\n",
    "# Extracting year, month, and day from the match date for more detailed time-based analysis\n",
    "match_df = match_df.withColumn(\"year\", year(\"match_date\"))\n",
    "match_df = match_df.withColumn(\"month\", month(\"match_date\"))\n",
    "match_df = match_df.withColumn(\"day\", dayofmonth(\"match_date\"))\n",
    "\n",
    "# High margin win: categorizing win margins into 'high', 'medium', and 'low'\n",
    "match_df = match_df.withColumn(\n",
    "    \"win_margin_category\",\n",
    "    when(col(\"win_margin\") >= 100, \"High\")\n",
    "    .when((col(\"win_margin\") >= 50) & (col(\"win_margin\") < 100), \"Medium\")\n",
    "    .otherwise(\"Low\")\n",
    ")\n",
    "\n",
    "# Analyze the impact of the toss: who wins the toss and the match\n",
    "match_df = match_df.withColumn(\n",
    "    \"toss_match_winner\",\n",
    "    when(col(\"toss_winner\") == col(\"match_winner\"), \"Yes\").otherwise(\"No\")\n",
    ")\n",
    "\n",
    "# Show the enhanced match DataFrame\n",
    "match_df.show(2)\n",
    "\n"
   ]
  },
  {
   "cell_type": "code",
   "execution_count": 0,
   "metadata": {
    "application/vnd.databricks.v1+cell": {
     "cellMetadata": {
      "byteLimit": 2048000,
      "rowLimit": 10000
     },
     "inputWidgets": {},
     "nuid": "c68c4b8f-54a2-4334-acca-78b066d6cb19",
     "showTitle": false,
     "title": ""
    }
   },
   "outputs": [
    {
     "output_type": "stream",
     "name": "stdout",
     "output_type": "stream",
     "text": [
      "Out[25]: ['match_id',\n 'over_id',\n 'ball_id',\n 'innings_no',\n 'team_batting',\n 'team_bowling',\n 'striker_batting_position',\n 'extra_type',\n 'runs_scored',\n 'extra_runs',\n 'wides',\n 'legbyes',\n 'byes',\n 'noballs',\n 'penalty',\n 'bowler_extras',\n 'out_type',\n 'caught',\n 'bowled',\n 'run_out',\n 'lbw',\n 'retired_hurt',\n 'stumped',\n 'caught_and_bowled',\n 'hit_wicket',\n 'obstructingfeild',\n 'bowler_wicket',\n 'match_date',\n 'season',\n 'striker',\n 'non_striker',\n 'bowler',\n 'player_out',\n 'fielders',\n 'striker_match_sk',\n 'strikersk',\n 'nonstriker_match_sk',\n 'nonstriker_sk',\n 'fielder_match_sk',\n 'fielder_sk',\n 'bowler_match_sk',\n 'bowler_sk',\n 'playerout_match_sk',\n 'battingteam_sk',\n 'bowlingteam_sk',\n 'keeper_catch',\n 'player_out_sk',\n 'matchdatesk']"
     ]
    }
   ],
   "source": [
    "ball_by_ball_df.columns"
   ]
  },
  {
   "cell_type": "code",
   "execution_count": 0,
   "metadata": {
    "application/vnd.databricks.v1+cell": {
     "cellMetadata": {
      "byteLimit": 2048000,
      "rowLimit": 10000
     },
     "inputWidgets": {},
     "nuid": "608751db-9746-4f95-90e5-0a07be5d15a4",
     "showTitle": false,
     "title": ""
    }
   },
   "outputs": [],
   "source": [
    "from  pyspark.sql.functions import *\n",
    "\n",
    "#Normalize and clean player names- removing the dummy or garbage values in player name\n",
    "player_df = player_df.withColumn('player_name',lower(regexp_replace('player_name', '[^a-zA-Z0-9 ]','')))\n",
    "\n",
    "#handling missing values in 'batting_hand' and  'bowling_skill' with a default 'unknown'\n",
    "player_df= player_df.na.fill({'batting_hand':'unknown','bowling_skill':'unknown'})\n",
    "\n",
    "# Categorize the player based on the batting hand\n",
    "player_df = player_df.withColumn(\n",
    "    'batting_style',\n",
    "    when(col('batting_hand')== 'Left-hand bat','Left_handed').otherwise('Right_handed')\n",
    ")"
   ]
  },
  {
   "cell_type": "code",
   "execution_count": 0,
   "metadata": {
    "application/vnd.databricks.v1+cell": {
     "cellMetadata": {
      "byteLimit": 2048000,
      "rowLimit": 10000
     },
     "inputWidgets": {},
     "nuid": "6c04a44e-6eb5-40e9-b7de-76409c594d01",
     "showTitle": false,
     "title": ""
    }
   },
   "outputs": [
    {
     "output_type": "stream",
     "name": "stdout",
     "output_type": "stream",
     "text": [
      "+---------+---------+-----------+----------+--------------+----------------+------------+-------------+\n|player_sk|player_id|player_name|       dob|  batting_hand|   bowling_skill|country_name|batting_style|\n+---------+---------+-----------+----------+--------------+----------------+------------+-------------+\n|        0|        1| sc ganguly|1972-07-08| Left-hand bat|Right-arm medium|       India|  Left_handed|\n|        1|        2|bb mccullum|1981-09-27|Right-hand bat|Right-arm medium| New Zealand| Right_handed|\n+---------+---------+-----------+----------+--------------+----------------+------------+-------------+\nonly showing top 2 rows\n\n"
     ]
    }
   ],
   "source": [
    "player_df.show(2)"
   ]
  },
  {
   "cell_type": "code",
   "execution_count": 0,
   "metadata": {
    "application/vnd.databricks.v1+cell": {
     "cellMetadata": {
      "byteLimit": 2048000,
      "rowLimit": 10000
     },
     "inputWidgets": {},
     "nuid": "66d59227-7572-4be9-bc94-8cec6378ce6d",
     "showTitle": false,
     "title": ""
    }
   },
   "outputs": [
    {
     "output_type": "stream",
     "name": "stdout",
     "output_type": "stream",
     "text": [
      "+---------------+---------------+--------+---------+---------------+----------+--------------+--------------------+------------+---------+--------------------+--------------------+-----------+----------------+---------------+------------------+--------------+--------------+--------------+---------------+-------------+--------------+--------------+\n|player_match_sk|playermatch_key|match_id|player_id|    player_name|       dob|  batting_hand|       bowling_skill|country_name|role_desc|         player_team|        opposit_team|season_year|is_manofthematch|age_as_on_match|isplayers_team_won|batting_status|bowling_status|player_captain|opposit_captain|player_keeper|opposit_keeper|veteran_status|\n+---------------+---------------+--------+---------+---------------+----------+--------------+--------------------+------------+---------+--------------------+--------------------+-----------+----------------+---------------+------------------+--------------+--------------+--------------+---------------+-------------+--------------+--------------+\n|             -1|             -1|      -1|       -1|            N/A|      null|          null|                null|        null|     null|                null|                null|       null|            null|           null|              null|          null|          null|          null|           null|         null|          null|   Non-Veteran|\n|          12694|           null|  335987|        6|       R Dravid|1973-01-11|Right-hand bat|  Right-arm offbreak|       India|  Captain|Royal Challengers...|Kolkata Knight Ri...|       2008|           false|             35|             false|          null|          null|      R Dravid|     SC Ganguly|   MV Boucher|       WP Saha|       Veteran|\n|          12695|           null|  335987|        7|       W Jaffer|1978-02-16|Right-hand bat|  Right-arm offbreak|       India|   Player|Royal Challengers...|Kolkata Knight Ri...|       2008|           false|             30|             false|          null|          null|      R Dravid|     SC Ganguly|   MV Boucher|       WP Saha|   Non-Veteran|\n|          12696|           null|  335987|        8|        V Kohli|1988-11-05|Right-hand bat|    Right-arm medium|       India|   Player|Royal Challengers...|Kolkata Knight Ri...|       2008|           false|             20|             false|          null|          null|      R Dravid|     SC Ganguly|   MV Boucher|       WP Saha|   Non-Veteran|\n|          12697|           null|  335987|        9|      JH Kallis|1975-10-16|Right-hand bat|Right-arm fast-me...|South Africa|   Player|Royal Challengers...|Kolkata Knight Ri...|       2008|           false|             33|             false|          null|          null|      R Dravid|     SC Ganguly|   MV Boucher|       WP Saha|   Non-Veteran|\n|          12698|           null|  335987|       10|       CL White|1983-08-18|Right-hand bat|     Legbreak googly|   Australia|   Player|Royal Challengers...|Kolkata Knight Ri...|       2008|           false|             25|             false|          null|          null|      R Dravid|     SC Ganguly|   MV Boucher|       WP Saha|   Non-Veteran|\n|          12699|           null|  335987|       11|     MV Boucher|1976-12-03|Right-hand bat|    Right-arm medium|South Africa|   Keeper|Royal Challengers...|Kolkata Knight Ri...|       2008|           false|             32|             false|          null|          null|      R Dravid|     SC Ganguly|   MV Boucher|       WP Saha|   Non-Veteran|\n|          12700|           null|  335987|       12|        B Akhil|1977-10-07|Right-hand bat|Right-arm medium-...|       India|   Player|Royal Challengers...|Kolkata Knight Ri...|       2008|           false|             31|             false|          null|          null|      R Dravid|     SC Ganguly|   MV Boucher|       WP Saha|   Non-Veteran|\n|          12701|           null|  335987|       13|      AA Noffke|1977-04-30|Right-hand bat|Right-arm fast-me...|   Australia|   Player|Royal Challengers...|Kolkata Knight Ri...|       2008|           false|             31|             false|          null|          null|      R Dravid|     SC Ganguly|   MV Boucher|       WP Saha|   Non-Veteran|\n|          12702|           null|  335987|       14|        P Kumar|1986-10-02|Right-hand bat|    Right-arm medium|       India|   Player|Royal Challengers...|Kolkata Knight Ri...|       2008|           false|             22|             false|          null|          null|      R Dravid|     SC Ganguly|   MV Boucher|       WP Saha|   Non-Veteran|\n|          12703|           null|  335987|       15|         Z Khan|1978-10-07|Right-hand bat|Left-arm fast-medium|       India|   Player|Royal Challengers...|Kolkata Knight Ri...|       2008|           false|             30|             false|          null|          null|      R Dravid|     SC Ganguly|   MV Boucher|       WP Saha|   Non-Veteran|\n|          12704|           null|  335987|       16|       SB Joshi|1970-06-06| Left-hand bat|Slow left-arm ort...|       India|   Player|Royal Challengers...|Kolkata Knight Ri...|       2008|           false|             38|             false|          null|          null|      R Dravid|     SC Ganguly|   MV Boucher|       WP Saha|       Veteran|\n|          12705|           null|  335987|        1|     SC Ganguly|1972-07-08| Left-hand bat|    Right-arm medium|       India|  Captain|Kolkata Knight Ri...|Royal Challengers...|       2008|           false|             36|              true|          null|          null|    SC Ganguly|       R Dravid|      WP Saha|    MV Boucher|       Veteran|\n|          12706|           null|  335987|        2|    BB McCullum|1981-09-27|Right-hand bat|    Right-arm medium| New Zealand|   Player|Kolkata Knight Ri...|Royal Challengers...|       2008|            true|             27|              true|          null|          null|    SC Ganguly|       R Dravid|      WP Saha|    MV Boucher|   Non-Veteran|\n|          12707|           null|  335987|        3|     RT Ponting|1974-12-19|Right-hand bat|    Right-arm medium|   Australia|   Player|Kolkata Knight Ri...|Royal Challengers...|       2008|           false|             34|              true|          null|          null|    SC Ganguly|       R Dravid|      WP Saha|    MV Boucher|   Non-Veteran|\n|          12708|           null|  335987|        4|      DJ Hussey|1977-07-15|Right-hand bat|  Right-arm offbreak|   Australia|   Player|Kolkata Knight Ri...|Royal Challengers...|       2008|           false|             31|              true|          null|          null|    SC Ganguly|       R Dravid|      WP Saha|    MV Boucher|   Non-Veteran|\n|          12709|           null|  335987|        5|Mohammad Hafeez|1980-10-17|Right-hand bat|  Right-arm offbreak|    Pakistan|   Player|Kolkata Knight Ri...|Royal Challengers...|       2008|           false|             28|              true|          null|          null|    SC Ganguly|       R Dravid|      WP Saha|    MV Boucher|   Non-Veteran|\n|          12710|           null|  335987|       62|        WP Saha|1984-10-24|Right-hand bat|                 N/A|       India|   Keeper|Kolkata Knight Ri...|Royal Challengers...|       2008|           false|             24|              true|          null|          null|    SC Ganguly|       R Dravid|      WP Saha|    MV Boucher|   Non-Veteran|\n|          12711|           null|  335987|       63|      LR Shukla|1981-05-06|Right-hand bat|    Right-arm medium|       India|   Player|Kolkata Knight Ri...|Royal Challengers...|       2008|           false|             27|              true|          null|          null|    SC Ganguly|       R Dravid|      WP Saha|    MV Boucher|   Non-Veteran|\n|          12712|           null|  335987|       82|     AB Agarkar|1977-12-04|Right-hand bat|      Right-arm fast|       India|   Player|Kolkata Knight Ri...|Royal Challengers...|       2008|           false|             31|              true|          null|          null|    SC Ganguly|       R Dravid|      WP Saha|    MV Boucher|   Non-Veteran|\n+---------------+---------------+--------+---------+---------------+----------+--------------+--------------------+------------+---------+--------------------+--------------------+-----------+----------------+---------------+------------------+--------------+--------------+--------------+---------------+-------------+--------------+--------------+\nonly showing top 20 rows\n\n"
     ]
    }
   ],
   "source": [
    "#add a 'veteran_status' column based on player age\n",
    "# Add a 'veteran_status' column based on player age\n",
    "player_match_df = player_match_df.withColumn(\n",
    "    \"veteran_status\",\n",
    "    when(col(\"age_as_on_match\") >= 35, \"Veteran\").otherwise(\"Non-Veteran\")\n",
    ")\n",
    "\n",
    "\n",
    "# Show the enriched DataFrame\n",
    "player_match_df.show()\n",
    "\n"
   ]
  },
  {
   "cell_type": "code",
   "execution_count": 0,
   "metadata": {
    "application/vnd.databricks.v1+cell": {
     "cellMetadata": {
      "byteLimit": 2048000,
      "rowLimit": 10000
     },
     "inputWidgets": {},
     "nuid": "8ae5a614-ec3c-4206-96fd-23bf7a198da1",
     "showTitle": false,
     "title": ""
    }
   },
   "outputs": [
    {
     "output_type": "stream",
     "name": "stdout",
     "output_type": "stream",
     "text": [
      "Out[29]: ['player_match_sk',\n 'playermatch_key',\n 'match_id',\n 'player_id',\n 'player_name',\n 'dob',\n 'batting_hand',\n 'bowling_skill',\n 'country_name',\n 'role_desc',\n 'player_team',\n 'opposit_team',\n 'season_year',\n 'is_manofthematch',\n 'age_as_on_match',\n 'isplayers_team_won',\n 'batting_status',\n 'bowling_status',\n 'player_captain',\n 'opposit_captain',\n 'player_keeper',\n 'opposit_keeper',\n 'veteran_status']"
     ]
    }
   ],
   "source": [
    "player_match_df.columns"
   ]
  },
  {
   "cell_type": "code",
   "execution_count": 0,
   "metadata": {
    "application/vnd.databricks.v1+cell": {
     "cellMetadata": {
      "byteLimit": 2048000,
      "rowLimit": 10000
     },
     "inputWidgets": {},
     "nuid": "65ce4e83-e143-464c-95ca-d4a2e70d98bd",
     "showTitle": false,
     "title": ""
    }
   },
   "outputs": [
    {
     "output_type": "stream",
     "name": "stdout",
     "output_type": "stream",
     "text": [
      "Out[30]: <bound method DataFrame.describe of DataFrame[player_match_sk: int, playermatch_key: decimal(10,0), match_id: int, player_id: int, player_name: string, dob: date, batting_hand: string, bowling_skill: string, country_name: string, role_desc: string, player_team: string, opposit_team: string, season_year: int, is_manofthematch: boolean, age_as_on_match: int, isplayers_team_won: boolean, batting_status: string, bowling_status: string, player_captain: string, opposit_captain: string, player_keeper: string, opposit_keeper: string, veteran_status: string]>"
     ]
    }
   ],
   "source": [
    "player_match_df.describe\n"
   ]
  },
  {
   "cell_type": "code",
   "execution_count": 0,
   "metadata": {
    "application/vnd.databricks.v1+cell": {
     "cellMetadata": {
      "byteLimit": 2048000,
      "rowLimit": 10000
     },
     "inputWidgets": {},
     "nuid": "3d007b82-9e64-48c8-8f87-2dec367f3d2b",
     "showTitle": false,
     "title": ""
    }
   },
   "outputs": [
    {
     "output_type": "display_data",
     "data": {
      "text/html": [
       "<div>\n",
       "<style scoped>\n",
       "    .dataframe tbody tr th:only-of-type {\n",
       "        vertical-align: middle;\n",
       "    }\n",
       "\n",
       "    .dataframe tbody tr th {\n",
       "        vertical-align: top;\n",
       "    }\n",
       "\n",
       "    .dataframe thead th {\n",
       "        text-align: right;\n",
       "    }\n",
       "</style>\n",
       "<table border=\"1\" class=\"dataframe\">\n",
       "  <thead>\n",
       "    <tr style=\"text-align: right;\">\n",
       "      <th></th>\n",
       "      <th>match_id</th>\n",
       "      <th>over_id</th>\n",
       "      <th>ball_id</th>\n",
       "      <th>innings_no</th>\n",
       "      <th>team_batting</th>\n",
       "      <th>team_bowling</th>\n",
       "      <th>striker_batting_position</th>\n",
       "      <th>extra_type</th>\n",
       "      <th>runs_scored</th>\n",
       "      <th>extra_runs</th>\n",
       "      <th>...</th>\n",
       "      <th>fielder_match_sk</th>\n",
       "      <th>fielder_sk</th>\n",
       "      <th>bowler_match_sk</th>\n",
       "      <th>bowler_sk</th>\n",
       "      <th>playerout_match_sk</th>\n",
       "      <th>battingteam_sk</th>\n",
       "      <th>bowlingteam_sk</th>\n",
       "      <th>keeper_catch</th>\n",
       "      <th>player_out_sk</th>\n",
       "      <th>matchdatesk</th>\n",
       "    </tr>\n",
       "  </thead>\n",
       "  <tbody>\n",
       "    <tr>\n",
       "      <th>0</th>\n",
       "      <td>598028</td>\n",
       "      <td>15</td>\n",
       "      <td>6</td>\n",
       "      <td>1</td>\n",
       "      <td>5</td>\n",
       "      <td>2</td>\n",
       "      <td>6.0</td>\n",
       "      <td>No Extras</td>\n",
       "      <td>4</td>\n",
       "      <td>0</td>\n",
       "      <td>...</td>\n",
       "      <td>-1</td>\n",
       "      <td>-1</td>\n",
       "      <td>20343</td>\n",
       "      <td>82</td>\n",
       "      <td>-1</td>\n",
       "      <td>4</td>\n",
       "      <td>1</td>\n",
       "      <td>False</td>\n",
       "      <td>0</td>\n",
       "      <td>2013-04-20</td>\n",
       "    </tr>\n",
       "    <tr>\n",
       "      <th>1</th>\n",
       "      <td>598028</td>\n",
       "      <td>14</td>\n",
       "      <td>1</td>\n",
       "      <td>1</td>\n",
       "      <td>5</td>\n",
       "      <td>2</td>\n",
       "      <td>5.0</td>\n",
       "      <td>No Extras</td>\n",
       "      <td>1</td>\n",
       "      <td>0</td>\n",
       "      <td>...</td>\n",
       "      <td>-1</td>\n",
       "      <td>-1</td>\n",
       "      <td>20348</td>\n",
       "      <td>345</td>\n",
       "      <td>-1</td>\n",
       "      <td>4</td>\n",
       "      <td>1</td>\n",
       "      <td>False</td>\n",
       "      <td>0</td>\n",
       "      <td>2013-04-20</td>\n",
       "    </tr>\n",
       "    <tr>\n",
       "      <th>2</th>\n",
       "      <td>598028</td>\n",
       "      <td>14</td>\n",
       "      <td>2</td>\n",
       "      <td>1</td>\n",
       "      <td>5</td>\n",
       "      <td>2</td>\n",
       "      <td>3.0</td>\n",
       "      <td>No Extras</td>\n",
       "      <td>1</td>\n",
       "      <td>0</td>\n",
       "      <td>...</td>\n",
       "      <td>-1</td>\n",
       "      <td>-1</td>\n",
       "      <td>20348</td>\n",
       "      <td>345</td>\n",
       "      <td>-1</td>\n",
       "      <td>4</td>\n",
       "      <td>1</td>\n",
       "      <td>False</td>\n",
       "      <td>0</td>\n",
       "      <td>2013-04-20</td>\n",
       "    </tr>\n",
       "    <tr>\n",
       "      <th>3</th>\n",
       "      <td>598028</td>\n",
       "      <td>14</td>\n",
       "      <td>3</td>\n",
       "      <td>1</td>\n",
       "      <td>5</td>\n",
       "      <td>2</td>\n",
       "      <td>5.0</td>\n",
       "      <td>No Extras</td>\n",
       "      <td>1</td>\n",
       "      <td>0</td>\n",
       "      <td>...</td>\n",
       "      <td>-1</td>\n",
       "      <td>-1</td>\n",
       "      <td>20348</td>\n",
       "      <td>345</td>\n",
       "      <td>-1</td>\n",
       "      <td>4</td>\n",
       "      <td>1</td>\n",
       "      <td>False</td>\n",
       "      <td>0</td>\n",
       "      <td>2013-04-20</td>\n",
       "    </tr>\n",
       "    <tr>\n",
       "      <th>4</th>\n",
       "      <td>598028</td>\n",
       "      <td>14</td>\n",
       "      <td>4</td>\n",
       "      <td>1</td>\n",
       "      <td>5</td>\n",
       "      <td>2</td>\n",
       "      <td>3.0</td>\n",
       "      <td>No Extras</td>\n",
       "      <td>0</td>\n",
       "      <td>0</td>\n",
       "      <td>...</td>\n",
       "      <td>-1</td>\n",
       "      <td>-1</td>\n",
       "      <td>20348</td>\n",
       "      <td>345</td>\n",
       "      <td>-1</td>\n",
       "      <td>4</td>\n",
       "      <td>1</td>\n",
       "      <td>False</td>\n",
       "      <td>0</td>\n",
       "      <td>2013-04-20</td>\n",
       "    </tr>\n",
       "  </tbody>\n",
       "</table>\n",
       "<p>5 rows × 48 columns</p>\n",
       "</div>"
      ]
     },
     "metadata": {
      "application/vnd.databricks.v1+output": {
       "addedWidgets": {},
       "arguments": {},
       "data": "<div>\n<style scoped>\n    .dataframe tbody tr th:only-of-type {\n        vertical-align: middle;\n    }\n\n    .dataframe tbody tr th {\n        vertical-align: top;\n    }\n\n    .dataframe thead th {\n        text-align: right;\n    }\n</style>\n<table border=\"1\" class=\"dataframe\">\n  <thead>\n    <tr style=\"text-align: right;\">\n      <th></th>\n      <th>match_id</th>\n      <th>over_id</th>\n      <th>ball_id</th>\n      <th>innings_no</th>\n      <th>team_batting</th>\n      <th>team_bowling</th>\n      <th>striker_batting_position</th>\n      <th>extra_type</th>\n      <th>runs_scored</th>\n      <th>extra_runs</th>\n      <th>...</th>\n      <th>fielder_match_sk</th>\n      <th>fielder_sk</th>\n      <th>bowler_match_sk</th>\n      <th>bowler_sk</th>\n      <th>playerout_match_sk</th>\n      <th>battingteam_sk</th>\n      <th>bowlingteam_sk</th>\n      <th>keeper_catch</th>\n      <th>player_out_sk</th>\n      <th>matchdatesk</th>\n    </tr>\n  </thead>\n  <tbody>\n    <tr>\n      <th>0</th>\n      <td>598028</td>\n      <td>15</td>\n      <td>6</td>\n      <td>1</td>\n      <td>5</td>\n      <td>2</td>\n      <td>6.0</td>\n      <td>No Extras</td>\n      <td>4</td>\n      <td>0</td>\n      <td>...</td>\n      <td>-1</td>\n      <td>-1</td>\n      <td>20343</td>\n      <td>82</td>\n      <td>-1</td>\n      <td>4</td>\n      <td>1</td>\n      <td>False</td>\n      <td>0</td>\n      <td>2013-04-20</td>\n    </tr>\n    <tr>\n      <th>1</th>\n      <td>598028</td>\n      <td>14</td>\n      <td>1</td>\n      <td>1</td>\n      <td>5</td>\n      <td>2</td>\n      <td>5.0</td>\n      <td>No Extras</td>\n      <td>1</td>\n      <td>0</td>\n      <td>...</td>\n      <td>-1</td>\n      <td>-1</td>\n      <td>20348</td>\n      <td>345</td>\n      <td>-1</td>\n      <td>4</td>\n      <td>1</td>\n      <td>False</td>\n      <td>0</td>\n      <td>2013-04-20</td>\n    </tr>\n    <tr>\n      <th>2</th>\n      <td>598028</td>\n      <td>14</td>\n      <td>2</td>\n      <td>1</td>\n      <td>5</td>\n      <td>2</td>\n      <td>3.0</td>\n      <td>No Extras</td>\n      <td>1</td>\n      <td>0</td>\n      <td>...</td>\n      <td>-1</td>\n      <td>-1</td>\n      <td>20348</td>\n      <td>345</td>\n      <td>-1</td>\n      <td>4</td>\n      <td>1</td>\n      <td>False</td>\n      <td>0</td>\n      <td>2013-04-20</td>\n    </tr>\n    <tr>\n      <th>3</th>\n      <td>598028</td>\n      <td>14</td>\n      <td>3</td>\n      <td>1</td>\n      <td>5</td>\n      <td>2</td>\n      <td>5.0</td>\n      <td>No Extras</td>\n      <td>1</td>\n      <td>0</td>\n      <td>...</td>\n      <td>-1</td>\n      <td>-1</td>\n      <td>20348</td>\n      <td>345</td>\n      <td>-1</td>\n      <td>4</td>\n      <td>1</td>\n      <td>False</td>\n      <td>0</td>\n      <td>2013-04-20</td>\n    </tr>\n    <tr>\n      <th>4</th>\n      <td>598028</td>\n      <td>14</td>\n      <td>4</td>\n      <td>1</td>\n      <td>5</td>\n      <td>2</td>\n      <td>3.0</td>\n      <td>No Extras</td>\n      <td>0</td>\n      <td>0</td>\n      <td>...</td>\n      <td>-1</td>\n      <td>-1</td>\n      <td>20348</td>\n      <td>345</td>\n      <td>-1</td>\n      <td>4</td>\n      <td>1</td>\n      <td>False</td>\n      <td>0</td>\n      <td>2013-04-20</td>\n    </tr>\n  </tbody>\n</table>\n<p>5 rows × 48 columns</p>\n</div>",
       "datasetInfos": [],
       "metadata": {},
       "removedWidgets": [],
       "textData": null,
       "type": "htmlSandbox"
      }
     },
     "output_type": "display_data"
    }
   ],
   "source": [
    "ball_by_ball_df.toPandas().head()"
   ]
  },
  {
   "cell_type": "code",
   "execution_count": 0,
   "metadata": {
    "application/vnd.databricks.v1+cell": {
     "cellMetadata": {
      "byteLimit": 2048000,
      "rowLimit": 10000
     },
     "inputWidgets": {},
     "nuid": "7a8e90db-02f8-47c1-ac6d-8b8c6075335e",
     "showTitle": false,
     "title": ""
    }
   },
   "outputs": [
    {
     "output_type": "stream",
     "name": "stderr",
     "output_type": "stream",
     "text": [
      "/databricks/spark/python/pyspark/sql/pandas/utils.py:124: UserWarning: The conversion of DecimalType columns is inefficient and may take a long time. Column names: [playermatch_key] If those columns are not necessary, you may consider dropping them or converting to primitive types before the conversion.\n  warnings.warn(\n"
     ]
    },
    {
     "output_type": "display_data",
     "data": {
      "text/html": [
       "<div>\n",
       "<style scoped>\n",
       "    .dataframe tbody tr th:only-of-type {\n",
       "        vertical-align: middle;\n",
       "    }\n",
       "\n",
       "    .dataframe tbody tr th {\n",
       "        vertical-align: top;\n",
       "    }\n",
       "\n",
       "    .dataframe thead th {\n",
       "        text-align: right;\n",
       "    }\n",
       "</style>\n",
       "<table border=\"1\" class=\"dataframe\">\n",
       "  <thead>\n",
       "    <tr style=\"text-align: right;\">\n",
       "      <th></th>\n",
       "      <th>player_match_sk</th>\n",
       "      <th>playermatch_key</th>\n",
       "      <th>match_id</th>\n",
       "      <th>player_id</th>\n",
       "      <th>player_name</th>\n",
       "      <th>dob</th>\n",
       "      <th>batting_hand</th>\n",
       "      <th>bowling_skill</th>\n",
       "      <th>country_name</th>\n",
       "      <th>role_desc</th>\n",
       "      <th>...</th>\n",
       "      <th>is_manofthematch</th>\n",
       "      <th>age_as_on_match</th>\n",
       "      <th>isplayers_team_won</th>\n",
       "      <th>batting_status</th>\n",
       "      <th>bowling_status</th>\n",
       "      <th>player_captain</th>\n",
       "      <th>opposit_captain</th>\n",
       "      <th>player_keeper</th>\n",
       "      <th>opposit_keeper</th>\n",
       "      <th>veteran_status</th>\n",
       "    </tr>\n",
       "  </thead>\n",
       "  <tbody>\n",
       "    <tr>\n",
       "      <th>0</th>\n",
       "      <td>-1</td>\n",
       "      <td>-1</td>\n",
       "      <td>-1</td>\n",
       "      <td>-1</td>\n",
       "      <td>N/A</td>\n",
       "      <td>None</td>\n",
       "      <td>None</td>\n",
       "      <td>None</td>\n",
       "      <td>None</td>\n",
       "      <td>None</td>\n",
       "      <td>...</td>\n",
       "      <td>None</td>\n",
       "      <td>NaN</td>\n",
       "      <td>None</td>\n",
       "      <td>None</td>\n",
       "      <td>None</td>\n",
       "      <td>None</td>\n",
       "      <td>None</td>\n",
       "      <td>None</td>\n",
       "      <td>None</td>\n",
       "      <td>Non-Veteran</td>\n",
       "    </tr>\n",
       "    <tr>\n",
       "      <th>1</th>\n",
       "      <td>12694</td>\n",
       "      <td>None</td>\n",
       "      <td>335987</td>\n",
       "      <td>6</td>\n",
       "      <td>R Dravid</td>\n",
       "      <td>1973-01-11</td>\n",
       "      <td>Right-hand bat</td>\n",
       "      <td>Right-arm offbreak</td>\n",
       "      <td>India</td>\n",
       "      <td>Captain</td>\n",
       "      <td>...</td>\n",
       "      <td>False</td>\n",
       "      <td>35.0</td>\n",
       "      <td>False</td>\n",
       "      <td>None</td>\n",
       "      <td>None</td>\n",
       "      <td>R Dravid</td>\n",
       "      <td>SC Ganguly</td>\n",
       "      <td>MV Boucher</td>\n",
       "      <td>WP Saha</td>\n",
       "      <td>Veteran</td>\n",
       "    </tr>\n",
       "    <tr>\n",
       "      <th>2</th>\n",
       "      <td>12695</td>\n",
       "      <td>None</td>\n",
       "      <td>335987</td>\n",
       "      <td>7</td>\n",
       "      <td>W Jaffer</td>\n",
       "      <td>1978-02-16</td>\n",
       "      <td>Right-hand bat</td>\n",
       "      <td>Right-arm offbreak</td>\n",
       "      <td>India</td>\n",
       "      <td>Player</td>\n",
       "      <td>...</td>\n",
       "      <td>False</td>\n",
       "      <td>30.0</td>\n",
       "      <td>False</td>\n",
       "      <td>None</td>\n",
       "      <td>None</td>\n",
       "      <td>R Dravid</td>\n",
       "      <td>SC Ganguly</td>\n",
       "      <td>MV Boucher</td>\n",
       "      <td>WP Saha</td>\n",
       "      <td>Non-Veteran</td>\n",
       "    </tr>\n",
       "    <tr>\n",
       "      <th>3</th>\n",
       "      <td>12696</td>\n",
       "      <td>None</td>\n",
       "      <td>335987</td>\n",
       "      <td>8</td>\n",
       "      <td>V Kohli</td>\n",
       "      <td>1988-11-05</td>\n",
       "      <td>Right-hand bat</td>\n",
       "      <td>Right-arm medium</td>\n",
       "      <td>India</td>\n",
       "      <td>Player</td>\n",
       "      <td>...</td>\n",
       "      <td>False</td>\n",
       "      <td>20.0</td>\n",
       "      <td>False</td>\n",
       "      <td>None</td>\n",
       "      <td>None</td>\n",
       "      <td>R Dravid</td>\n",
       "      <td>SC Ganguly</td>\n",
       "      <td>MV Boucher</td>\n",
       "      <td>WP Saha</td>\n",
       "      <td>Non-Veteran</td>\n",
       "    </tr>\n",
       "    <tr>\n",
       "      <th>4</th>\n",
       "      <td>12697</td>\n",
       "      <td>None</td>\n",
       "      <td>335987</td>\n",
       "      <td>9</td>\n",
       "      <td>JH Kallis</td>\n",
       "      <td>1975-10-16</td>\n",
       "      <td>Right-hand bat</td>\n",
       "      <td>Right-arm fast-medium</td>\n",
       "      <td>South Africa</td>\n",
       "      <td>Player</td>\n",
       "      <td>...</td>\n",
       "      <td>False</td>\n",
       "      <td>33.0</td>\n",
       "      <td>False</td>\n",
       "      <td>None</td>\n",
       "      <td>None</td>\n",
       "      <td>R Dravid</td>\n",
       "      <td>SC Ganguly</td>\n",
       "      <td>MV Boucher</td>\n",
       "      <td>WP Saha</td>\n",
       "      <td>Non-Veteran</td>\n",
       "    </tr>\n",
       "  </tbody>\n",
       "</table>\n",
       "<p>5 rows × 23 columns</p>\n",
       "</div>"
      ]
     },
     "metadata": {
      "application/vnd.databricks.v1+output": {
       "addedWidgets": {},
       "arguments": {},
       "data": "<div>\n<style scoped>\n    .dataframe tbody tr th:only-of-type {\n        vertical-align: middle;\n    }\n\n    .dataframe tbody tr th {\n        vertical-align: top;\n    }\n\n    .dataframe thead th {\n        text-align: right;\n    }\n</style>\n<table border=\"1\" class=\"dataframe\">\n  <thead>\n    <tr style=\"text-align: right;\">\n      <th></th>\n      <th>player_match_sk</th>\n      <th>playermatch_key</th>\n      <th>match_id</th>\n      <th>player_id</th>\n      <th>player_name</th>\n      <th>dob</th>\n      <th>batting_hand</th>\n      <th>bowling_skill</th>\n      <th>country_name</th>\n      <th>role_desc</th>\n      <th>...</th>\n      <th>is_manofthematch</th>\n      <th>age_as_on_match</th>\n      <th>isplayers_team_won</th>\n      <th>batting_status</th>\n      <th>bowling_status</th>\n      <th>player_captain</th>\n      <th>opposit_captain</th>\n      <th>player_keeper</th>\n      <th>opposit_keeper</th>\n      <th>veteran_status</th>\n    </tr>\n  </thead>\n  <tbody>\n    <tr>\n      <th>0</th>\n      <td>-1</td>\n      <td>-1</td>\n      <td>-1</td>\n      <td>-1</td>\n      <td>N/A</td>\n      <td>None</td>\n      <td>None</td>\n      <td>None</td>\n      <td>None</td>\n      <td>None</td>\n      <td>...</td>\n      <td>None</td>\n      <td>NaN</td>\n      <td>None</td>\n      <td>None</td>\n      <td>None</td>\n      <td>None</td>\n      <td>None</td>\n      <td>None</td>\n      <td>None</td>\n      <td>Non-Veteran</td>\n    </tr>\n    <tr>\n      <th>1</th>\n      <td>12694</td>\n      <td>None</td>\n      <td>335987</td>\n      <td>6</td>\n      <td>R Dravid</td>\n      <td>1973-01-11</td>\n      <td>Right-hand bat</td>\n      <td>Right-arm offbreak</td>\n      <td>India</td>\n      <td>Captain</td>\n      <td>...</td>\n      <td>False</td>\n      <td>35.0</td>\n      <td>False</td>\n      <td>None</td>\n      <td>None</td>\n      <td>R Dravid</td>\n      <td>SC Ganguly</td>\n      <td>MV Boucher</td>\n      <td>WP Saha</td>\n      <td>Veteran</td>\n    </tr>\n    <tr>\n      <th>2</th>\n      <td>12695</td>\n      <td>None</td>\n      <td>335987</td>\n      <td>7</td>\n      <td>W Jaffer</td>\n      <td>1978-02-16</td>\n      <td>Right-hand bat</td>\n      <td>Right-arm offbreak</td>\n      <td>India</td>\n      <td>Player</td>\n      <td>...</td>\n      <td>False</td>\n      <td>30.0</td>\n      <td>False</td>\n      <td>None</td>\n      <td>None</td>\n      <td>R Dravid</td>\n      <td>SC Ganguly</td>\n      <td>MV Boucher</td>\n      <td>WP Saha</td>\n      <td>Non-Veteran</td>\n    </tr>\n    <tr>\n      <th>3</th>\n      <td>12696</td>\n      <td>None</td>\n      <td>335987</td>\n      <td>8</td>\n      <td>V Kohli</td>\n      <td>1988-11-05</td>\n      <td>Right-hand bat</td>\n      <td>Right-arm medium</td>\n      <td>India</td>\n      <td>Player</td>\n      <td>...</td>\n      <td>False</td>\n      <td>20.0</td>\n      <td>False</td>\n      <td>None</td>\n      <td>None</td>\n      <td>R Dravid</td>\n      <td>SC Ganguly</td>\n      <td>MV Boucher</td>\n      <td>WP Saha</td>\n      <td>Non-Veteran</td>\n    </tr>\n    <tr>\n      <th>4</th>\n      <td>12697</td>\n      <td>None</td>\n      <td>335987</td>\n      <td>9</td>\n      <td>JH Kallis</td>\n      <td>1975-10-16</td>\n      <td>Right-hand bat</td>\n      <td>Right-arm fast-medium</td>\n      <td>South Africa</td>\n      <td>Player</td>\n      <td>...</td>\n      <td>False</td>\n      <td>33.0</td>\n      <td>False</td>\n      <td>None</td>\n      <td>None</td>\n      <td>R Dravid</td>\n      <td>SC Ganguly</td>\n      <td>MV Boucher</td>\n      <td>WP Saha</td>\n      <td>Non-Veteran</td>\n    </tr>\n  </tbody>\n</table>\n<p>5 rows × 23 columns</p>\n</div>",
       "datasetInfos": [],
       "metadata": {},
       "removedWidgets": [],
       "textData": null,
       "type": "htmlSandbox"
      }
     },
     "output_type": "display_data"
    }
   ],
   "source": [
    "player_match_df.toPandas().head()"
   ]
  },
  {
   "cell_type": "code",
   "execution_count": 0,
   "metadata": {
    "application/vnd.databricks.v1+cell": {
     "cellMetadata": {
      "byteLimit": 2048000,
      "rowLimit": 10000
     },
     "inputWidgets": {},
     "nuid": "e1788c8f-2944-415d-b612-d162e7a7c42a",
     "showTitle": false,
     "title": ""
    }
   },
   "outputs": [],
   "source": [
    "ball_by_ball_df.createOrReplaceTempView(\"ball_by_ball\")\n",
    "match_df.createOrReplaceTempView(\"match\")\n",
    "player_df.createOrReplaceTempView(\"player\")\n",
    "player_match_df.createOrReplaceTempView(\"player_match\")\n",
    "team_df.createOrReplaceTempView(\"team\")"
   ]
  },
  {
   "cell_type": "markdown",
   "metadata": {
    "application/vnd.databricks.v1+cell": {
     "cellMetadata": {
      "byteLimit": 2048000,
      "rowLimit": 10000
     },
     "inputWidgets": {},
     "nuid": "a3e9d345-1453-4645-b0fe-2e3b7033839e",
     "showTitle": false,
     "title": ""
    }
   },
   "source": [
    "By creating these global temporary views, you're essentially registering these dataframes as tables that can be queried using SQL-like syntax within your Spark session\n"
   ]
  },
  {
   "cell_type": "code",
   "execution_count": 0,
   "metadata": {
    "application/vnd.databricks.v1+cell": {
     "cellMetadata": {
      "byteLimit": 2048000,
      "rowLimit": 10000
     },
     "inputWidgets": {},
     "nuid": "6498637a-ff5a-40ec-b691-3ff5cc1f4391",
     "showTitle": false,
     "title": ""
    }
   },
   "outputs": [],
   "source": [
    "top_scoring_batsmen_per_season = spark.sql(\"\"\"\n",
    "select * from (\n",
    "SELECT \n",
    "p.player_name,\n",
    "m.season_year,\n",
    "SUM(b.runs_scored) AS total_runs,\n",
    "row_number() over (partition by m.season_year order by SUM(b.runs_scored) desc) as rank\n",
    "FROM ball_by_ball b\n",
    "JOIN match m ON b.match_id = m.match_id   \n",
    "JOIN player_match pm ON m.match_id = pm.match_id AND b.striker = pm.player_id     \n",
    "JOIN player p ON p.player_id = pm.player_id\n",
    "GROUP BY p.player_name, m.season_year\n",
    "ORDER BY m.season_year, total_runs DESC)\n",
    "where rank = 1\n",
    "order by season_year \n",
    "\"\"\")"
   ]
  },
  {
   "cell_type": "code",
   "execution_count": 0,
   "metadata": {
    "application/vnd.databricks.v1+cell": {
     "cellMetadata": {
      "byteLimit": 2048000,
      "rowLimit": 10000
     },
     "inputWidgets": {},
     "nuid": "2d21865e-28a4-4319-bdaa-c994f4a27255",
     "showTitle": false,
     "title": ""
    }
   },
   "outputs": [
    {
     "output_type": "stream",
     "name": "stdout",
     "output_type": "stream",
     "text": [
      "+------------+-----------+----------+----+\n| player_name|season_year|total_runs|rank|\n+------------+-----------+----------+----+\n|    se marsh|       2008|       614|   1|\n|   ml hayden|       2009|       571|   1|\n|sr tendulkar|       2010|       615|   1|\n|    ch gayle|       2011|       598|   1|\n|    ch gayle|       2012|       720|   1|\n|  mek hussey|       2013|       732|   1|\n|  rv uthappa|       2014|       659|   1|\n|   da warner|       2015|       554|   1|\n|     v kohli|       2016|       962|   1|\n|   da warner|       2017|       634|   1|\n+------------+-----------+----------+----+\n\n"
     ]
    }
   ],
   "source": [
    "top_scoring_batsmen_per_season.show(20)\n"
   ]
  },
  {
   "cell_type": "code",
   "execution_count": 0,
   "metadata": {
    "application/vnd.databricks.v1+cell": {
     "cellMetadata": {
      "byteLimit": 2048000,
      "rowLimit": 10000
     },
     "inputWidgets": {},
     "nuid": "b6031e31-e233-4225-b884-0040c2570446",
     "showTitle": false,
     "title": ""
    }
   },
   "outputs": [
    {
     "output_type": "stream",
     "name": "stdout",
     "output_type": "stream",
     "text": [
      "+---------------+------------------+-------------+\n|    player_name| avg_runs_per_ball|total_wickets|\n+---------------+------------------+-------------+\n|     sm harwood|0.3333333333333333|           18|\n|     avesh khan|               0.5|           12|\n|       aj finch|               0.5|            6|\n|     ankit soni|               0.5|            6|\n|      gr napier|               0.5|            6|\n|        a zampa|               0.5|            6|\n|       nb singh|0.5833333333333334|           24|\n|     ag murtaza|0.6538461538461539|           78|\n|      sb bangar|0.6666666666666666|           18|\n|     d du preez|0.6666666666666666|           18|\n|        s gopal|0.6666666666666666|            6|\n|     fh edwards|0.6923076923076923|           78|\n|       a kumble|0.7685185185185185|          108|\n|       umar gul|0.7777777777777778|           36|\n|   kp pietersen|0.7777777777777778|           18|\n|j syed mohammad|0.7777777777777778|           18|\n|    rj peterson|0.8333333333333334|           12|\n|  la carseldine|0.8333333333333334|            6|\n|       tl suman|0.8333333333333334|            6|\n|      ss mundhe|0.8333333333333334|            6|\n+---------------+------------------+-------------+\nonly showing top 20 rows\n\n"
     ]
    }
   ],
   "source": [
    "\n",
    "economical_bowlers_powerplay = spark.sql(\"\"\"\n",
    "SELECT \n",
    "p.player_name, \n",
    "AVG(b.runs_scored) AS avg_runs_per_ball, \n",
    "COUNT(b.bowler_wicket) AS total_wickets\n",
    "FROM ball_by_ball b\n",
    "JOIN player_match pm ON b.match_id = pm.match_id AND b.bowler = pm.player_id\n",
    "JOIN player p ON pm.player_id = p.player_id\n",
    "WHERE b.over_id <= 6\n",
    "GROUP BY p.player_name\n",
    "HAVING COUNT(*) >= 1\n",
    "ORDER BY avg_runs_per_ball, total_wickets DESC\n",
    "\"\"\")\n",
    "economical_bowlers_powerplay.show()"
   ]
  },
  {
   "cell_type": "code",
   "execution_count": 0,
   "metadata": {
    "application/vnd.databricks.v1+cell": {
     "cellMetadata": {
      "byteLimit": 2048000,
      "rowLimit": 10000
     },
     "inputWidgets": {},
     "nuid": "6036bb47-df38-4ad2-9442-369bd1a6fa79",
     "showTitle": false,
     "title": ""
    }
   },
   "outputs": [
    {
     "output_type": "stream",
     "name": "stdout",
     "output_type": "stream",
     "text": [
      "+--------+--------------------+---------+--------------------+-------------+\n|match_id|         toss_winner|toss_name|        match_winner|match_outcome|\n+--------+--------------------+---------+--------------------+-------------+\n|  335987|Royal Challengers...|    field|Kolkata Knight Ri...|         Lost|\n|  335988| Chennai Super Kings|      bat| Chennai Super Kings|          Won|\n|  335989|    Rajasthan Royals|      bat|    Delhi Daredevils|         Lost|\n|  335990|      Mumbai Indians|      bat|Royal Challengers...|         Lost|\n|  335991|     Deccan Chargers|      bat|Kolkata Knight Ri...|         Lost|\n|  335992|     Kings XI Punjab|      bat|    Rajasthan Royals|         Lost|\n|  335993|     Deccan Chargers|      bat|    Delhi Daredevils|         Lost|\n|  335994|      Mumbai Indians|    field| Chennai Super Kings|         Lost|\n|  335995|    Rajasthan Royals|    field|    Rajasthan Royals|          Won|\n|  335996|      Mumbai Indians|    field|     Kings XI Punjab|         Lost|\n|  335997|    Rajasthan Royals|    field|    Rajasthan Royals|          Won|\n|  335998|Kolkata Knight Ri...|      bat| Chennai Super Kings|         Lost|\n|  335999|     Deccan Chargers|    field|     Deccan Chargers|          Won|\n|  336000|    Delhi Daredevils|      bat|     Kings XI Punjab|         Lost|\n|  336001| Chennai Super Kings|      bat| Chennai Super Kings|          Won|\n|  336002|Kolkata Knight Ri...|      bat|      Mumbai Indians|         Lost|\n|  336003|Royal Challengers...|    field|    Delhi Daredevils|         Lost|\n|  336004|     Kings XI Punjab|    field|     Kings XI Punjab|          Won|\n|  336005|    Rajasthan Royals|      bat|    Rajasthan Royals|          Won|\n|  336006| Chennai Super Kings|      bat|    Delhi Daredevils|         Lost|\n+--------+--------------------+---------+--------------------+-------------+\nonly showing top 20 rows\n\n"
     ]
    }
   ],
   "source": [
    "toss_impact_on_individual_matches = spark.sql(\"\"\"\n",
    " select m.match_id, m.toss_winner, m.toss_name, m.match_winner, \n",
    " case when  m.toss_winner = m.match_winner then 'Won' else 'Lost' end as match_outcome\n",
    " from match m \n",
    " where m.toss_name is not null\n",
    " order by m.match_id\n",
    "                               \n",
    "\"\"\")\n",
    "toss_impact_on_individual_matches.show()\n"
   ]
  },
  {
   "cell_type": "code",
   "execution_count": 0,
   "metadata": {
    "application/vnd.databricks.v1+cell": {
     "cellMetadata": {
      "byteLimit": 2048000,
      "rowLimit": 10000
     },
     "inputWidgets": {},
     "nuid": "bca25fe0-bf57-442a-b1bd-71edb005430f",
     "showTitle": false,
     "title": ""
    }
   },
   "outputs": [],
   "source": [
    "import matplotlib.pyplot as plt"
   ]
  },
  {
   "cell_type": "code",
   "execution_count": 0,
   "metadata": {
    "application/vnd.databricks.v1+cell": {
     "cellMetadata": {
      "byteLimit": 2048000,
      "rowLimit": 10000
     },
     "inputWidgets": {},
     "nuid": "ad4cec70-ae0b-4ea3-b62d-f99f2cac391b",
     "showTitle": false,
     "title": ""
    }
   },
   "outputs": [
    {
     "output_type": "display_data",
     "data": {
      "image/png": "[encoded data removed]"
     },
     "metadata": {
      "application/vnd.databricks.v1+output": {
       "addedWidgets": {},
       "arguments": {},
       "data": "data:image/png;base64,iVBORw0KGgoAAAANSUhEUgAAA1gAAAI4CAYAAAB3HEhGAAAAOXRFWHRTb2Z0d2FyZQBNYXRwbG90bGliIHZlcnNpb24zLjUuMSwgaHR0cHM6Ly9tYXRwbG90bGliLm9yZy/YYfK9AAAACXBIWXMAAAsTAAALEwEAmpwYAABQxElEQVR4nO3dd5gkVdmG8ftxiYKKypoAEQEDBgwrhk8lKAqSFEFBwSyIohhQMSFizhEDKmZEwISCYsaMgKAIiAKKBBWQIDm+3x+nBpphdpmR6u2Z7ft3XXvtdHVNz5maDvXUOec9qSokSZIkSbfcrUbdAEmSJElaUhiwJEmSJKknBixJkiRJ6okBS5IkSZJ6YsCSJEmSpJ4YsCRJkiSpJwYsSdKcluSSJPe8hY/x+SRvW8h9z0nyy1vy+Lfk5/f8cz6Z5E3D/jmzRZJKstao2yFpvBiwJC0xuhPtiX/XJbl84PYze/oZT0vy6ySXJfnZFPc/KMkx3f3HJHlQHz/3f7U4wsGoVdWKVXXaqNsxF1TVi6rqraNuhyQtyQxYkpYY3Yn2ilW1IvAPYIuBbV/p6cecD3wIeNfkO5IsA3wb+DJwe+ALwLe77VLvkiw16jaMSpJ5o26DJE3FgCVpiZdk2SQfSnJ29+9DSZbt7tsgyZlJXp/kvCR/X1RvV1X9qKoOBM6e4u4NgKWAD1XVlVX1ESDARgtp18+SvK3rEbskyXeS3DHJV5L8N8lRSe4xsP+jum0Xdf8/auC+5yQ5LcnFSf6W5JlJ7gt8Enhk9/gXLqQdt0vy2ST/THJW16Z5A/e/MMlJ3WOfmOQh3fb7dr/DhUlOSLLlwPd8Psk+SQ7tvu/IJGtO83eZ6XG5fhhYkuWTvD/J6d1j/zLJ8t19ByX5V7f950nuN9XxWIgk+Vj3vX9O8riBO+6W5JAk5yc5JckLu+3Ldb2oK3e335DkmiS37W6/NcmHFvLDNk9yXHdsf53kgQP3/T3Ja5P8Ebg0yVLd7bO6Y33yYPsmPe71QxEHnvuvSnJO9/d/7iIOwM+SvDPJ77q/w7eT3GHg/i2758GF3b737bY/N8l3Bvb7a5KDBm6fka6nN8l9kvywO5YnJ3napLZ/IslhSS4FNuy2fbL7nouTHJFk9YW0f7Mkx3ZtPyPJXgP3HZrkpZP2/2OSpyzseEjSwhiwJI2DNwCPAB4ErAusB7xx4P67ACsDqwDPBvZNcu//4efcD/hjVdXAtj922xdmO2DH7mevCfwG+BxwB+Ak4M0A3YnsocBHgDsCHwAO7YLHCt32TavqNsCjgOOq6iTgRcBvul68lRbShs8D1wBrAQ8GngC8oPu52wJ7Ac8CbgtsCfwnydLAd4AfAHcCXgp8ZdJx2w54C6037xTg7Tf3u8z0uEzhfcBDu2NwB+A1wHXdfd8D1u7a+3tgJr2aDwdOpT1P3gx8YyBcHACcCdwN2AZ4R5KNquoK4Chg/W6/9YHTgf8buH3E5B+U5MHAfsDOtOPzKeCQdBcFOtsDmwEr0Y7PrsDDur//E4G/T/P3ugtwO9pxfj6wT5LbL2L/ZwHPA+5Ke858pGvzvYCvAi8H5gOHAd9J6709AnhMklsluRuwDPDI7vvuCawI/LF7Hv8Q2J/2N9oO+HiSdQZ+/jNoz6PbABNDX58JvJX2tzmOhf9dL+3avxLt2O2S5MndfV8AdpjYMcm63TE5dBHHQpKmZMCSNA6eCexdVedU1bm0k/4dJ+3zpq7X6QjaSdXTJj/INKwIXDRp20W0k8GF+VxVnVpVF9ECwKldL9k1wEG0wAPthPCvVfWlqrqmqr4K/BnYorv/OuD+SZavqn9W1QnTaXCSOwNPAl5eVZdW1TnAB2knt9CC1nuq6qhqTqmq02mBdUXgXVV1VVX9BPgu7cR/wjer6nfd7/IVWsCdzu8yk+My+Lvcinbyv1tVnVVV11bVr6vqSoCq2q+qLu5u7wWsm+R20zlOwDm0nsmrq+prwMnAZklWowWm11bVFVV1HPAZ2ok8tHCxftpQvgfSAsn6SZYDHgb8fIqftRPwqao6svsdvgBcSTvmEz5SVWdU1eXAtcCywDpJlq6qv1fVqdP8va6mvTaurqrDgEuARV1c+FJV/amqLgXeBDwtrbfz6cChVfXDqrqaFnSXBx7VzY+7mPb3fyxwOHB2kvvQQuYvquo6YHPg71X1ue55cSzwdWDbgZ//7ar6VVVd1wVYup/78+7v+gZaj+1qkxteVT+rquO77/0jLRBOhN9DgHslWbu7vSPwtaq6aprHUZKuZ8CSNA7uRus5mHB6t23CBd0J48Lun65LaL08g25LO7lcmH8PfH35FLdX7L6e/DvQ3V6la/vTab1V/+yGO91nmm1eHVi6+74L04YRforWgwCwGq3nZrK7AWd0J8Y3as/A7X8NfH3ZdH6XgdvTPS6DVgaWm6q9SeYleVeSU5P8lxt6eFae4nGmctaknsmJ58jdgPOr6uJJ9038LkfQho4+BDie1kOzPi0snVJV/5niZ60OvGri79H9TVbjxs/JMya+qKpTaD1HewHnJDmg6ymajv90oXXC4N9pKmcMfH067bmzMpP+pt3z4gxuehwe2339M9pxGOzFWx14+KTf+5m0Xrapfv5NtlXVJbR5kjf5/ZM8PMlPk5yb5CLa62Xl7vuuAL4G7NAF9e2BLy3iOEjSQhmwJI2Ds2knbxPuzo3nUN2+G560sPun6wTggUkysO2B3fZbavLvAK2dZwFU1eFVtTFt6NafgU93+xSLdgatd2Tlqlqp+3fbqrrfwP1rTvF9ZwOrdSejN2nPLfldboHzgCuYur3PALYCHk8bEnePbnum2Hcqq0z6u048R84G7pDkNpPum/hdfk3rEXoKcERVndjd/ySmGB7YOQN4+8DfY6WqunXX0zfhRn/Xqtq/qh5NO64FvHuav9dMDfYM3Z3WA3Yek/6m3bFajRuOw0TAekz39RHcNGCdQTtGg7/3ilW1y8DPnOr5fH2bkqxIGxo61et3f1pP1WpVdTva/MTBv+kXaIHuccBlVfWbhRwDSVokA5akcfBV4I1J5qcVHNiTVulv0FuSLJPkMbShSgdNfhC4vidkOVoxi1ulFTJYurv7Z7ThWi9LK6yxa7f9Jz38DofRhjA9I62owdOBdYDvJrlzkq26kHglrSdtomfp38CqWUglw6r6J20e1fuT3LabJ7NmkomhU58Bdk/y0DRrdUUEjqT1drwmydJJNqAN8TvglvwuMz4qN/5drqPNXfpAWuGJeUke2c1dug3t2PwHuDXwjhk+/J1of9elu3lp9wUOq6ozaCHqnd1z4YG0uUxf7tp0GXAM8BJuCBK/pvWeLCxgfRp4UdfjkiQrdAUaphxqmuTeSTbqfs8raD181021bw92SLJOklsDewMHV9W1wIG0IZOP614Pr6Id719333cEsCGwfFWdCfwC2IQ2x+zYbp/v0p4XO3bHeekkD0tXLGMRnpTk0d1z/K3Ab7u/y2S3ofU2XpFkPVrovl4XqK4D3o+9V5JuAQOWpHHwNuBoWsGJ42kFDgYXdf0XcAHtqvdXgBdV1Z8X8lg70k5gP0G7Gn85XW9RN1/jybT5NxfS5gM9uY95HN1Qss1pJ67/oRVv2LyqzqO9l7+ya//5tF6Biav+P6H1oP0ryXkLefhn0QoPnEg7DgfTesKoqoNoRQX2pw11/BZwh+532gLYlNaD8XHgWYs4btP9XW6p3Wl/46Nox+LdtOPzRdoQtrO63/O3M3zcI2kFMs6jHY9tBob3bU/rETsb+Cbw5qr60cD3HkEbSve7gdu3Yer5V1TV0cALgY/R/h6nAM9ZRNuWpS0bcB7tuXwn4HUz+eVm4Eu0oij/og3HfFnX5pNpRSI+2rVjC9oyCVd19/+FFvx/0d3+L3Aa8KsuoNENs3wCbf7f2d3PeHf3+y3K/rTCI+fTCpzssJD9XgzsneRi2kWWA6fY54vAA7jpBRhJmrbceEi5JI2Xrufly1W16oibIs1qaQtrf7mqPjPqtkxI8nngzKp6483tO83HexawUzfcUpL+J/ZgSZKksdcNe3wxsO+o2yJpbht6wEqySdpigack2WOK+z+YtpjicUn+koUshClJkjQMSZ4InEubs7j/iJsjaY4b6hDBbm2MvwAb0xZhPArYvquiNNX+LwUeXFXPG1qjJEmSJGlIht2DtR5tnY/TuomuB9DK5C7M9rRqX5IkSZI05yw15MdfhRsvCngm8PCpduzK/q7BQsoZJ9mJtro9K6ywwkPvc5/prqEpSZIkSf065phjzquq+ZO3DztgzcR23LCexk1U1b50E08XLFhQRx999OJsmyRJkiRdL8npU20f9hDBs7jxqu+rcsOq7pNth8MDJUmSJM1hww5YRwFrJ1mjW2F9O+CQyTsluQ9we+A3Q26PJEmSJA3NUANWVV0D7AocDpwEHFhVJyTZO8mWA7tuBxxQrnosSZIkaQ4b+hysqjoMOGzStj0n3d5r2O2QJEmSpGEb+kLDkiRJkjQuDFiSJEmS1BMDliRJkiT1xIAlSZIkST0xYEmSJElSTwxYkiRJktQTA5YkSZIk9cSAJUmSJEk9MWBJkiRJUk8MWJIkSZLUEwOWJEmSJPXEgCVJkiRJPTFgSZIkSVJPDFiSJEmS1BMDliRJkiT1xIAlSZIkST0xYEmSJElST5YadQMkSZKkCe869rxRN2Gx2ePBK//P3ztOxwlu2bFa3OzBkiRJkqSeGLAkSZIkqScGLEmSJEnqiQFLkiRJknpiwJIkSZKknhiwJEmSJKknBixJkiRJ6onrYEmSJA2ZaxZJ48MeLEmSJEnqiQFLkiRJknpiwJIkSZKknhiwJEmSJKknBixJkiRJ6okBS5IkSZJ6YsCSJEmSpJ4YsCRJkiSpJwYsSZIkSeqJAUuSJEmSemLAkiRJkqSeGLAkSZIkqScGLEmSJEnqiQFLkiRJknpiwJIkSZKknhiwJEmSJKknBixJkiRJ6okBS5IkSZJ6YsCSJEmSpJ4YsCRJkiSpJwYsSZIkSeqJAUuSJEmSemLAkiRJkqSeGLAkSZIkqScGLEmSJEnqiQFLkiRJknpiwJIkSZKknhiwJEmSJKknBixJkiRJ6okBS5IkSZJ6YsCSJEmSpJ4YsCRJkiSpJ0MPWEk2SXJyklOS7LGQfZ6W5MQkJyTZf9htkiRJkqRhWGqYD55kHrAPsDFwJnBUkkOq6sSBfdYGXgf8X1VdkOROw2yTJEmSJA3LsHuw1gNOqarTquoq4ABgq0n7vBDYp6ouAKiqc4bcJkmSJEkaimEHrFWAMwZun9ltG3Qv4F5JfpXkt0k2meqBkuyU5OgkR5977rlDaq4kSZIk/e9mQ5GLpYC1gQ2A7YFPJ1lp8k5VtW9VLaiqBfPnz1+8LZQkSZKkaRh2wDoLWG3g9qrdtkFnAodU1dVV9TfgL7TAJUmSJElzyrAD1lHA2knWSLIMsB1wyKR9vkXrvSLJyrQhg6cNuV2SJEmS1LuhBqyqugbYFTgcOAk4sKpOSLJ3ki273Q4H/pPkROCnwKur6j/DbJckSZIkDcNQy7QDVNVhwGGTtu058HUBr+z+SZIkSdKcNRuKXEiSJEnSEsGAJUmSJEk9MWBJkiRJUk8MWJIkSZLUEwOWJEmSJPVk6FUEJUnSkuldx5436iYsVns8eOVRN0HSHGAPliRJkiT1xIAlSZIkST0xYEmSJElSTwxYkiRJktQTA5YkSZIk9cSAJUmSJEk9MWBJkiRJUk8MWJIkSZLUEwOWJEmSJPXEgCVJkiRJPTFgSZIkSVJPDFiSJEmS1BMDliRJkiT1xIAlSZIkST0xYEmSJElSTwxYkiRJktQTA5YkSZIk9cSAJUmSJEk9MWBJkiRJUk8MWJIkSZLUEwOWJEmSJPXEgCVJkiRJPTFgSZIkSVJPDFiSJEmS1BMDliRJkiT1xIAlSZIkST0xYEmSJElSTwxYkiRJktQTA5YkSZIk9cSAJUmSJEk9MWBJkiRJUk8MWJIkSZLUEwOWJEmSJPXEgCVJkiRJPTFgSZIkSVJPDFiSJEmS1BMDliRJkiT1xIAlSZIkST0xYEmSJElSTwxYkiRJktQTA5YkSZIk9cSAJUmSJEk9MWBJkiRJUk8MWJIkSZLUEwOWJEmSJPXEgCVJkiRJPTFgSZIkSVJPDFiSJEmS1BMDliRJkiT1xIAlSZIkST0xYEmSJElST4YesJJskuTkJKck2WOK+5+T5Nwkx3X/XjDsNkmSJEnSMCw1zAdPMg/YB9gYOBM4KskhVXXipF2/VlW7DrMtkiRJkjRsw+7BWg84papOq6qrgAOArYb8MyVJkiRpJIYdsFYBzhi4fWa3bbKnJvljkoOTrDbkNkmSJEnSUAx1iOA0fQf4alVdmWRn4AvARpN3SrITsBPA3e9+98XbQvXmXceeN+omLFZ7PHjl//l7PVbT43GaPo/V9I3Tsbolx0mSdFPD7sE6CxjskVq123a9qvpPVV3Z3fwM8NCpHqiq9q2qBVW1YP78+UNprCRJkiTdEsMOWEcBaydZI8kywHbAIYM7JLnrwM0tgZOG3CZJkiRJGoqhDhGsqmuS7AocDswD9quqE5LsDRxdVYcAL0uyJXANcD7wnGG2SZIkSZKGZehzsKrqMOCwSdv2HPj6dcDrht0OSZIkSRq2oS80LEmSJEnjwoAlSZIkST0xYEmSJElSTwxYkiRJktQTA5YkSZIk9cSAJUmSJEk9MWBJkiRJUk8MWJIkSZLUEwOWJEmSJPXEgCVJkiRJPTFgSZIkSVJPDFiSJEmS1BMDliRJkiT1xIAlSZIkST0xYEmSJElSTwxYkiRJktQTA5YkSZIk9cSAJUmSJEk9MWBJkiRJUk8MWJIkSZLUEwOWJEmSJPXEgCVJkiRJPTFgSZIkSVJPDFiSJEmS1BMDliRJkiT1xIAlSZIkST0xYEmSJElSTwxYkiRJktQTA5YkSZIk9cSAJUmSJEk9MWBJkiRJUk8MWJIkSZLUEwOWJEmSJPXEgCVJkiRJPTFgSZIkSVJPDFiSJEmS1BMDliRJkiT1xIAlSZIkST0xYEmSJElSTwxYkiRJktQTA5YkSZIk9cSAJUmSJEk9MWBJkiRJUk8MWJIkSZLUEwOWJEmSJPXEgCVJkiRJPTFgSZIkSVJPDFiSJEmS1BMDliRJkiT1xIAlSZIkST0xYEmSJElSTwxYkiRJktSTpW5uhyQPWdT9VfX7/pojSZIkSXPXzQYs4P2LuK+AjXpqiyRJkiTNaTcbsKpqw8XREEmSJEma66YzRHDrRd1fVd/orzmSJEmSNHdNZ4jgFou4rwADliRJkiQxvSGCz10cDZEkSZKkuW46PVjXS7IZcD9guYltVbX3zXzPJsCHgXnAZ6rqXQvZ76nAwcDDqurombRLkiRJkmaDaa+DleSTwNOBlwIBtgVWv5nvmQfsA2wKrANsn2SdKfa7DbAbcOS0Wy5JkiRJs8xMFhp+VFU9C7igqt4CPBK41818z3rAKVV1WlVdBRwAbDXFfm8F3g1cMYP2SJIkSdKsMpOAdXn3/2VJ7gZcDdz1Zr5nFeCMgdtndtuu1y1kvFpVHbqoB0qyU5Kjkxx97rnnzqDZkiRJkrR4zCRgfTfJSsB7gd8Dfwf2vyU/PMmtgA8Ar7q5fatq36paUFUL5s+ff0t+rCRJkiQNxbSLXFTVW7svv57ku8ByVXXRzXzbWcBqA7dX7bZNuA1wf+BnSQDuAhySZEsLXUiSJEmaa6YdsJIsB7wYeDRt/atfJvlEVS1q3tRRwNpJ1qAFq+2AZ0zc2QW0lQd+xs+A3Q1XkiRJkuaimQwR/CKtRPtHgY/RqgJ+aVHfUFXXALsChwMnAQdW1QlJ9k6y5f/WZEmSJEmanWayDtb9q2qwxPpPk5x4c99UVYcBh03atudC9t1gBu2RJEmSpFllJj1Yv0/yiIkbSR4OOJRPkiRJkjo324OV5HjanKulgV8n+Ud3e3Xgz8NtniRJkiTNHdMZIrj5dB4oye2r6oJb2B5JkiRJmrNuNmBV1enTfKwfAw+5Zc2RJEmSpLlrJnOwbk56fCxJkiRJmnP6DFjV42NJkiRJ0pzTZ8CSJEmSpLHmEEFJkiRJ6sm0AlaSeUluriT743pojyRJkiTNWdMKWFV1LXBykrsvYp/ze2uVJEmSJM1B01kHa8LtgROS/A64dGJjVW3Ze6skSZIkaQ6aScB609BaIUmSJElLgGkHrKo6IsnqwNpV9aMktwbmDa9pkiRJkjS3TLuKYJIXAgcDn+o2rQJ8awhtkiRJkqQ5aSZl2l8C/B/wX4Cq+itwp2E0SpIkSZLmopkErCur6qqJG0mWAqr/JkmSJEnS3DSTgHVEktcDyyfZGDgI+M5wmiVJkiRJc89MAtYewLnA8cDOwGHAG4fRKEmSJEmai2ZSRfC6JF8AjqQNDTy5qhwiKEmSJEmdaQesJJsBnwROBQKskWTnqvresBonSZIkSXPJTBYafj+wYVWdApBkTeBQwIAlSZIkScxsDtbFE+Gqcxpwcc/tkSRJkqQ5ayY9WEcnOQw4kDYHa1vgqCRbA1TVN4bQPkmSJEmaM2YSsJYD/g2s390+F1ge2IIWuAxYkiRJksbaTKoIPndR9yd5XVW985Y3SZIkSZLmppnMwbo52/b4WJIkSZI05/QZsNLjY0mSJEnSnNNnwHLRYUmSJEljzR4sSZIkSepJnwHroB4fS5IkSZLmnGkHrCTvSXLbJEsn+XGSc5PsMHF/Vb1jOE2UJEmSpLlhJj1YT6iq/wKbA38H1gJePYxGSZIkSdJcNJOANbFm1mbAQVV10RDaI0mSJElz1rQXGga+m+TPwOXALknmA1cMp1mSJEmSNPdMuwerqvYAHgUsqKqrgUuBrYbVMEmSJEmaa2bSgwVwH+AeSQa/74s9tkeSJEmS5qxpB6wkXwLWBI4Dru02FwYsSZIkSQJm1oO1AFinqmpYjZEkSZKkuWwmVQT/BNxlWA2RJEmSpLluJj1YKwMnJvkdcOXExqrasvdWzUHvOva8UTdhsdnjwSuPugmSJEnSrDSTgLXXsBohSZIkSUuCaQesqjpimA2RJEmSpLluJlUEL6ZVDQRYBlgauLSqbjuMhkmSJEnSXDOTHqzbTHydJLRFhh8xjEZJkiRJ0lw0kyqC16vmW8AT+22OJEmSJM1dMxkiuPXAzVvR1sW6ovcWSZIkSdIcNZMqglsMfH0N8HfaMEFJkiRJEtMMWEnmAX+sqg8OuT2SJEmSNGdNaw5WVV0LbD/ktkiSJEnSnDaTIYK/SvIx4GvApRMbq+r3vbdKkiRJkuagmQSsB3X/7z2wrYCNemuNJEmSJM1hM1kHa8NF3Z/k2VX1hVveJEmSJEmam/6ndbAWYrceH0uSJEmS5pw+A1Z6fCxJkiRJmnP6DFjV42NJkiRJ0pxjD5YkSZIk9aTPgPWrHh9LkiRJkuacaVcRTPLKKTZfBBxTVcdV1a79NUuSJEmS5p6Z9GAtAF4ErNL92xnYBPh0ktcs7JuSbJLk5CSnJNljivtflOT4JMcl+WWSdWb4O0iSJEnSrDCTgLUq8JCqelVVvQp4KHAn4LHAc6b6hiTzgH2ATYF1gO2nCFD7V9UDqupBwHuAD8zoN5AkSZKkWWImAetOwJUDt68G7lxVl0/aPmg94JSqOq2qrgIOALYa3KGq/jtwcwWsRihJkiRpjpr2HCzgK8CRSb7d3d4C2D/JCsCJC/meVYAzBm6fCTx88k5JXgK8ElgG2GiqB0qyE7ATwN3vfvcZNFuSJEmSFo9p92BV1VtpAefC7t+Lqmrvqrq0qp55SxpRVftU1ZrAa4E3LmSffatqQVUtmD9//i35cZIkSZI0FDOpIvgR4ICq+vAMHv8sYLWB26t22xbmAOATM3h8SZIkSZo1ZjIH6xjgjUlOTfK+JAum8T1HAWsnWSPJMsB2wCGDOyRZe+DmZsBfZ9AmSZIkSZo1pt2DVVVfAL6Q5A7AU4F3J7l7Va29iO+5JsmuwOHAPGC/qjohyd7A0VV1CLBrksfTimZcADz7Fvw+kiRJkjQyMylyMWEt4D7A6sBJN7dzVR0GHDZp254DX+/2P7RBkiRJkmadaQ8RTPKeJH8F9gaOBxZU1RZDa5kkSZIkzTEz6cE6FXgUcE9gWeCBSaiqnw+lZZIkSZI0x8wkYF0H/IRWCfA44BHAb1jIulWSJEmSNG5mUkXwZcDDgNOrakPgwbT1sCRJkiRJzCxgXVFVVwAkWbaq/gzcezjNkiRJkqS5ZyZDBM9MshLwLeCHSS4ATh9GoyRJkiRpLprJOlhP6b7cK8lPgdsB3x9KqyRJkiRpDvpf1sGiqo7ouyGSJEmSNNfNZA6WJEmSJGkRDFiSJEmS1BMDliRJkiT1xIAlSZIkST0xYEmSJElSTwxYkiRJktQTA5YkSZIk9cSAJUmSJEk9MWBJkiRJUk8MWJIkSZLUEwOWJEmSJPXEgCVJkiRJPTFgSZIkSVJPDFiSJEmS1BMDliRJkiT1xIAlSZIkST0xYEmSJElSTwxYkiRJktQTA5YkSZIk9cSAJUmSJEk9MWBJkiRJUk8MWJIkSZLUEwOWJEmSJPXEgCVJkiRJPTFgSZIkSVJPDFiSJEmS1BMDliRJkiT1xIAlSZIkST0xYEmSJElSTwxYkiRJktQTA5YkSZIk9cSAJUmSJEk9MWBJkiRJUk8MWJIkSZLUEwOWJEmSJPXEgCVJkiRJPTFgSZIkSVJPDFiSJEmS1BMDliRJkiT1xIAlSZIkST0xYEmSJElSTwxYkiRJktQTA5YkSZIk9cSAJUmSJEk9MWBJkiRJUk8MWJIkSZLUEwOWJEmSJPXEgCVJkiRJPTFgSZIkSVJPhh6wkmyS5OQkpyTZY4r7X5nkxCR/TPLjJKsPu02SJEmSNAxDDVhJ5gH7AJsC6wDbJ1ln0m7HAguq6oHAwcB7htkmSZIkSRqWYfdgrQecUlWnVdVVwAHAVoM7VNVPq+qy7uZvgVWH3CZJkiRJGophB6xVgDMGbp/ZbVuY5wPfm+qOJDslOTrJ0eeee26PTZQkSZKkfsyaIhdJdgAWAO+d6v6q2reqFlTVgvnz5y/exkmSJEnSNCw15Mc/C1ht4Paq3bYbSfJ44A3A+lV15ZDbJEmSJElDMewerKOAtZOskWQZYDvgkMEdkjwY+BSwZVWdM+T2SJIkSdLQDDVgVdU1wK7A4cBJwIFVdUKSvZNs2e32XmBF4KAkxyU5ZCEPJ0mSJEmz2rCHCFJVhwGHTdq258DXjx92GyRJkiRpcZg1RS4kSZIkaa4zYEmSJElSTwxYkiRJktQTA5YkSZIk9cSAJUmSJEk9MWBJkiRJUk8MWJIkSZLUEwOWJEmSJPXEgCVJkiRJPTFgSZIkSVJPDFiSJEmS1BMDliRJkiT1xIAlSZIkST0xYEmSJElSTwxYkiRJktQTA5YkSZIk9cSAJUmSJEk9MWBJkiRJUk8MWJIkSZLUEwOWJEmSJPXEgCVJkiRJPTFgSZIkSVJPDFiSJEmS1BMDliRJkiT1xIAlSZIkST0xYEmSJElSTwxYkiRJktQTA5YkSZIk9cSAJUmSJEk9MWBJkiRJUk8MWJIkSZLUEwOWJEmSJPXEgCVJkiRJPTFgSZIkSVJPDFiSJEmS1BMDliRJkiT1xIAlSZIkST0xYEmSJElSTwxYkiRJktQTA5YkSZIk9cSAJUmSJEk9MWBJkiRJUk8MWJIkSZLUEwOWJEmSJPXEgCVJkiRJPTFgSZIkSVJPDFiSJEmS1BMDliRJkiT1xIAlSZIkST0xYEmSJElSTwxYkiRJktQTA5YkSZIk9cSAJUmSJEk9MWBJkiRJUk8MWJIkSZLUEwOWJEmSJPXEgCVJkiRJPTFgSZIkSVJPhh6wkmyS5OQkpyTZY4r7H5vk90muSbLNsNsjSZIkScMy1ICVZB6wD7ApsA6wfZJ1Ju32D+A5wP7DbIskSZIkDdtSQ3789YBTquo0gCQHAFsBJ07sUFV/7+67bshtkSRJkqShGvYQwVWAMwZun9ltm7EkOyU5OsnR5557bi+NkyRJkqQ+zZkiF1W1b1UtqKoF8+fPH3VzJEmSJOkmhh2wzgJWG7i9ardNkiRJkpY4ww5YRwFrJ1kjyTLAdsAhQ/6ZkiRJkjQSQw1YVXUNsCtwOHAScGBVnZBk7yRbAiR5WJIzgW2BTyU5YZhtkiRJkqRhGXYVQarqMOCwSdv2HPj6KNrQQUmSJEma0+ZMkQtJkiRJmu0MWJIkSZLUEwOWJEmSJPXEgCVJkiRJPTFgSZIkSVJPDFiSJEmS1BMDliRJkiT1xIAlSZIkST0xYEmSJElSTwxYkiRJktQTA5YkSZIk9cSAJUmSJEk9MWBJkiRJUk8MWJIkSZLUEwOWJEmSJPXEgCVJkiRJPTFgSZIkSVJPDFiSJEmS1BMDliRJkiT1xIAlSZIkST0xYEmSJElSTwxYkiRJktQTA5YkSZIk9cSAJUmSJEk9MWBJkiRJUk8MWJIkSZLUEwOWJEmSJPXEgCVJkiRJPTFgSZIkSVJPDFiSJEmS1BMDliRJkiT1xIAlSZIkST0xYEmSJElSTwxYkiRJktQTA5YkSZIk9cSAJUmSJEk9MWBJkiRJUk8MWJIkSZLUEwOWJEmSJPXEgCVJkiRJPTFgSZIkSVJPDFiSJEmS1BMDliRJkiT1xIAlSZIkST0xYEmSJElSTwxYkiRJktQTA5YkSZIk9cSAJUmSJEk9MWBJkiRJUk8MWJIkSZLUEwOWJEmSJPXEgCVJkiRJPTFgSZIkSVJPDFiSJEmS1BMDliRJkiT1xIAlSZIkST0xYEmSJElST4YesJJskuTkJKck2WOK+5dN8rXu/iOT3GPYbZIkSZKkYRhqwEoyD9gH2BRYB9g+yTqTdns+cEFVrQV8EHj3MNskSZIkScMy7B6s9YBTquq0qroKOADYatI+WwFf6L4+GHhckgy5XZIkSZLUu2EHrFWAMwZun9ltm3KfqroGuAi445DbJUmSJEm9S1UN78GTbYBNquoF3e0dgYdX1a4D+/yp2+fM7vap3T7nTXqsnYCdupv3Bk4eWsPnjpWB8252L4HHaiY8VtPjcZo+j9X0eaymx+M0fR6r6fNYTY/H6QarV9X8yRuXGvIPPQtYbeD2qt22qfY5M8lSwO2A/0x+oKraF9h3SO2ck5IcXVULRt2OucBjNX0eq+nxOE2fx2r6PFbT43GaPo/V9HmspsfjdPOGPUTwKGDtJGskWQbYDjhk0j6HAM/uvt4G+EkNs1tNkiRJkoZkqD1YVXVNkl2Bw4F5wH5VdUKSvYGjq+oQ4LPAl5KcApxPC2GSJEmSNOcMe4ggVXUYcNikbXsOfH0FsO2w27GEcsjk9Hmsps9jNT0ep+nzWE2fx2p6PE7T57GaPo/V9HicbsZQi1xIkiRJ0jgZ9hwsSZIkSRobBqwx11VulP5nSe406jZIkiTNFgasMZbkocDrktxh1G3R3JTkbsAbktx61G2RJGlxSpKpvpYMWOPtAuDxwHOS3HHUjZmNkvgaWbSLgDcA6yZ52qgbM9slWS/JQ0bdDs19nsxNz+T3cN/T/3c+526qqirJlkke5RJDizbx/EmybpIHjro9w+YbzRhKp6pOA74CPBd4Y5IVR9y0WaeqrgNI8vAkd02y0oibNCtMvFFW1aXAFcB9gZ2SbDnShs1iSdYFPgb8d9RtmQ0GT3STzB8cauqJ3LTcEQwMCzPRq15V1yV5aJInJ1lx4j1dizZwMrxGkntDCxOjbdXsk2Q94DXA0qNuy2zWnXNWkicA3wceNuo2DZtvzGOoOkleCjwZ+HT3/6sMEM2kbv+dga8D7wL2TLL6yBo2C0y8UXZf35r2lNoP+Bywc5KtRtrAWWhiOC5wSFWdMur2jFqSuwBP7L7eFPghcFCS18P1V4UNWQvRHbODkryZdmHDk7sB3bD31yR5TJINaO/fzwGOTXLfETZtzuheg5sD3wHenOSwJLcbdbtmkyR3Bt4BnFZVR0xcvB51u2aj7vn0ROBtwLdpF2WX6ItpBqwx1L0HrARsCby9qj4CbEgbLriXb6I3XKlLsjWwKrAe8BHakLjXj2vImhSuXgUcRFso/MFV9RXgAOB5Dhe8iYuBOwMPcDguAE+iPU92BF4E7ATsDLwsyRvAkLUwSdYH3gO8FFgD2JF2ArzMSBs2uywHLAtsRntubVNVTwb2Bz6dZJ0Rtm1OSPJw2kXFTWgnxI8DvuL7141cSgvvj03ylIGL175vTZJkNeBVwKtp51J3h+vf55cfZduGxYA1JgZf8N17wIXAScA9k6xQVX8HXk/70H5mknkjaegs0YXQW9MW09ukqs6uqmNoHzRnA+/o3jDGykC4+j/aB+9bgSOBryV5aFV9Cfgu8NRxHnI6MLxmve5E5Tpga+B2wPPH9SLGwNDS/YDDga2Aq4ETq+rPwKOBXZLs3e3nkKRO9560DHBP4BnA3YAH0E5W1gXelGTZETZxVkhyq6o6G/gQcAmwFvBQgKp6M/ADYP8k9x9ZI2epgfetOwCnAc8E1gFeQXu+LQ8cmjGtHDtwfB6SZAFw56r6BPBm4AUTQ+R932oGjte8qjoD2KqqjgAupH0mTpxL7L4kni8YsMbApF6HBUke1V0xOB7YALhft+sKtKsxh1bVtSNp7AhNuuo0r6ouAx4E3C3JOwCq6jjgUOBPtBPDsdONoX4bcHhV/baqPgx8APhykkdU1aeBF1bVJSNt6IgMjDXfHPgk8AhaMF8L2I32mtttnIfjJlkL+CzwTVpvw+OT3L4bPrkR8JIka8b5RYNuVVVXVdXngFOBFwLbVdXXgGuAtYGx7Fkf1M25WgDcH3g37bV3ryQbd/fvDRwC3GZ0rZx9Bt63NqBdWLyiqv5AG9nytar6D/Al2kWisQxY3fHZlNYTugHw8270xheArwKvTPKUUbZxNpkoAELrNd6fNoIjwDzgVkm2oX1GHrUkni+4BtIYGAhXLwNeAJwCrAy8ktZNu1uS2wOr0YZSnD6qto7KpBC6Ay1UnVxV307yMOC3Saiq11fV0UmOr6orR9vqxWPw2HSOBM4EHpHkLlX1r6r6ZJLlgI8neWRVjV0hh67H88qqurYbRvMKYNPu30XAmVX1zyS7AZ+gFZi5cFTtHYXuA/dJtCu+L6yqrwwMV74uyS+q6i9JVusucAjojtmzkvwZ+FNVHZxkVWC9rtfqDsCLquovI23oCA0EhAW08Pkw4OW0iz+vAjZOsnRVHVZVe46wqbNSd+w2ofWIrkLrKf0D8GdggySvBLYAdqyqP42upaOTNn/vnbShpw/oNv86yUZV9eVu5M+ZI2vgLJPkMbQqw1sDX+i+fjrwb2A+7Vi+tKq+P7JGDlHsyRwP3RvDp4EnV9V5afNnHgm8hHb18x7AOV037thK8mJgB9ochy8Ab6uq96ZNyj8VeE9VvWWUbVycJgXPzWlXnv4JHEMranEh8K5uSA5JVuqGn46VJCvTLl58sqou7HqIPwgcRZtc//wuOGwJ/Ay4uqouH1V7RyXJ2sC3aMfjtwPbd6FdET6ANqn+urLaG3D9e/eHgW90m3YC9qa9Dj8JXA58sKoOGk0LZ4+ud+EjtNfeA2kXED8I/JI2BH5F2rzj80bWyFkqyaNpx25HWtGr71fVMd1rdiNgY+CLVXXI6Fq5+E36DJwH3ItWwfMjVfWQtEIzbwYeXlVHjbCps073vn4WbTjg64HtJy7gJ3ktcNKS/HyyB2sJNUWvw7+6f3cDzquq9yf5LPDqqtod+M8o2jlbdN3W9wI2p03A3x44Gdg0yW2qas8k9wRuO8JmLnaTej93AH4N3Ac4mlbe/7PA3kne2PVkXTiqto7Yf4CvAbfuhoz8tHtOfQRYp6pO705g9gJ2qKoTR9jWUbojcMpEuEqybFVdWVWfSHIFrRrXNaNt4uyRtlbMT2ih4JPdtuNolcu2pg3foqr+M8V7/jhaALyxqr7WzRPamHbV/PW0i2Z3Mlwt1FK0XtATkrycdgH2GOBaWkDdt+vlGqvnWfc7PwJ4WlW9EjipCw7f63Y5hlYFdSzn1Q6a4rlxAa140W1on3unpxU2emhVvXwh37PEcHz7EmjSFZc7JrlrVV1A621YkORu3a5H0V4AY2lwzlU1J9N6GxbQ3kzXo43hf22SF1TVv6vqr6Np7WikWYk2NGSb7k3xGbRjtAOtKMrSwBL5BjkdaZPqq6r+RquI94K0ibvvBr4I7Je2JMI+wF7jFK4mXmNJJi7m/QVYLskWAFV1ZZKNk+xRVZ/r5nyoU1V/pL1Pv2xg229phXZWqar/dHNjxnJi/eB7eOfWtPdwquoc2nDmK4HdgbWr6tTF2sBZbOC1+YAk9wBOrqrfdXefCVyY5F7AwcByE8+vcXmeDRyfRwNPpRX/ek9391nAGkn2or3Pv6aqfjTF83FsDAzR3TDJ05M8lTYa4ba0AHpp97n42u42sGQ/nwxYS6CBcPUq4EDgh90J3jdoPTRvTfIp4MW0CcBjJ8ntBo7TBukmpnYfyssDE/M/lqa9SSyRY4SnMulDYuJYLEt3ha6qzqcNn1y7qi4GnltV/17sDZ0Fug+V63JDwYo3065oPotWcOAVtNfdBcBuVXXIOH0Idx+4T6D1cu7aPXe+Qytr/LYkj6NVezt2lO2cbdIWxt0KoKo2BU5MclSStdLWVHssMPZl2bvn18PSFhFentazd0aSD3e7rECrJHgubYSCOt2xexJtWO4zgYOTTMwrOpIW6r8KvKVaBd2x0h2fR9NGJvyYNo/vQUne1w1r+zbtNbjHxIWhJTks3JzueE3M4buYtoTLE4FdaAVnPkgbwbFHVR06Dp+DDhFcQiV5PLAt7Ql+V9pVlmtoV9gfCKxJm080dlf0ujHlz0nyZeBRtKub53TDIrYBfg+cm+RHtGP3lKoai4mrk3o/nw2sUFUfT/JjWpXAzavN05sPrJm2wOnYVZyc0H2obA68MckfgLOqau/u4sbTacfmkzVQlXMcPoTTyvJem+SRtA/WjwJ7pJXi/SJtkcnn0Ia57VFVh4+ssbNMFzo/CpzfXfh5f1VtluTbwHHAp2g97GMbSgeulm9Am4d2Dq1QytdoJ3h7JTmC9v69VXff/aZ+tPGU5H6084ItaHOs7gR8I20Nw9Nox2uriZ6ZcXjfmsJKtKGR30+bf/Ur4DtJLqqqt9Keb0v0MLfp6o7Pc2mfe3elnUcdXVX/SPJM2jys+VX173E5Xha5WEKlVW95UVU9s7t9D+AI2uTyH42ybaOWNq/hubRFAu8DPLuqLk2yH3B72hWXa2mLC/95TEPoS4Dn0Sal/qXb9nJaj8w3aXMbtqmqk0bWyFmgey69kra8wX9pRWMuqKqdk7yF9kGzR9dzs8Trhh9fXFUXJ7k3sAfwq6r6TFrVuwOB73UnJ6RVdbt6XD5wb053weLFwM+r6tgk76YVZvhkVR2f5AvAfbvhy2N3YjfxfOm+fhBtuYjdqurUJHvSetm/U1U/S1un8EpamP8UrcDTn0fU9JHregxuX1Xnd6/T29E+5+5K60XegNbDsA3wf7RCPP8cp+fY5N+16+H7BPCoqjqr2/ZB2tIbB1RbomTsdReFrqU9b5amBfYXVtXJSZ4FnD2OQd0hgkuYbvzrFsB5wNLd+Orlqy0k/NXRtm60Jrqku3kN+9F6cO9JW9yUqnoecD5tjYuqqkPHNFzdBXgKrXfhrCTPSPJR2pCILWhX7TYf53CV5FbdScpRtDXTvgP8Ang+cOdurPlbgPeNUbhakVZ04e7dpjvQejo3SnKPrhf4qbRFqN8LMHGyPE4fuguT5Mm04ZPPop3AQVvI+7/AK9KKpzwbuDrJ92C8jlva0geHdUMBoRVh2IA2IgPg/bT37x2SPKHraV+BNpJjm3EOV50HA89Nsiut5+qC7uLZw4BPV9VFwAm0Ic5rVNU/R9fU0eh6RR/XDV9ev6oOo/WIfr87l1qfdlH2QFrv1tjrhiy/jVZE7TrgdcCzunD1YODVdFMuxun9ChwiOOdNcUVgNdowwMcCv6VdQT4+yVW0k5tPL/5Wjt6kK58vpK3D8Dla2fFHJrmwqo6squcn+Rht7tFYqqp/Jfkd8APaWPz/0uYxvAV4XlnljWolxM9O8grgQ0k+XFVHAxcn+SewarfPWKxLlOT+tPkvzwOWSvJ5Wk/Mnt22Jyf5Rjdc5Em4IO6NpJVifwntZO7uwK5Jzurm7L2N9tq7DqCq/q/rnRkr1SolvgC4R5KrqlWevA3wwiTnV9URXe/Cq+nWIqqqvyV5bVVdOsq2zxJn0MLUhrRe9X+lLeQ9D3hYkhfRnoPbV9WfJs4txuGkeGDI6QJatcljgOd3Q5w/SZte8T5aEZVdaGtgPTrJMrSeviX+GE0lyZq0Qld/6i5gvLN7L/tikhNpz7c3VtWvR9nOUXGI4BIiyTNoK69/I8nrgbWq6nlpK2WvCawBfGgcr+Klzbl6C/CKbvzvW4AfV9XPk6wLbAdcBfywqn45yraOWpKlquqaJCvQerB+1A0TeSqtV+s54xqwBj6E16UNqzmyqi5IWzvtA8CuwInAl2hB9IgRNnexSVvo9vO0QP5d4N60ZQ6Woi30+mDauPx/AvtX1T9G0tBZKm35h3cBV1XVDt22p9Eujr29qr6eVqnyuonX5yjbOwrp5vR1X7+BFtzvW1WndT0yG9PWJfrxwLG6VbmW2uD71iOA99Iu+pxHey3+oXv9voHW2/fLqvrmCJs7Ml1vy8eA3avqN92FoI1oBVI+UlWXd72nj6CFrq2r6oTRtXj00qaevAR4CPDO6qafpBU2uhi4sqp+P25DAyfYgzVHDbxpTnyI7EIrG7otbVHKW3dd3Ad3+1//ATWGrqVNgn5v1+Mwjzahl+4D5ira8XtMkqNpbwpL/JtBNxTwqm5M/obAERMnb90V3y91++1CW0R3bMMVXD98ZDPaUKTvAe9L8tJqRUCuBvalDcN9YlWdMmYfKmcADweeTetBfw9tvt5HacFzHi10zRtVA2erLiQcDayfVpzoF1V1YNp8rLcl+QXdOoXj+PrrXkfXdgHhnKp6e5JrgF8n+b+q+lgXEl6d5FjaciQTvcxjr3vfWo8W4l9Im3v8XFrP3zuAK2ijXQ7vjvM4vW8NuoZWafI5wG+q6rAk19IKpLw6rUT78rQLSE8exyHyA+edj6TNDb2AFs7fCDw+ydVVdURV/WDw+8b0+WQP1lw0+AaY5P5dd/7qtB6G+cCDaE/+C6tqq8nfM466Ky27AHemvZEeCfycNvTttrQJv6dW1bmjauPiljZP6BPAt2gFPXac/PunLda5M/DNqvrTYm/kLNINg9uPNtT2frRqeMfSqrz9oOtF/jCw4eAQm9G1ePHpLuzsCxxcVS/stq1JGyZ4Z9qJ3bI1vgtR30QXGO5Ae985OcnutBO8A2g9CVcluUtV/WukDZ0FkmwKfJw2t+MX3bbXALvRXm9/SbJ6VZ0+ynbORknWovX4XTnw2nwwbT7tI2jnC0+fOK7jYiAs3JZ2LnxRWuGUTwOH1A2FeDYF/jYx+meMe5Enjtf6tAuJ+9PWxHwjbe7oi2nvZ1+vqp+PrqWzhwFrjpkUrjanndB9iVZWdTXalfXzaMPeXkZbMXss1yiarBuK80JgJ9ox+hGtyMV8YNNxCVdpk1Iv6U7q9qdNAt+4WuWtZavqykn7j3Pv542kVQ28Ha30+Aa0q3fPpZ34/SDJK2lj0u/LmPSEAnRzF+5KC+O/BPapVklwLdpJ8L5Vdfwo2zibJNmSVrHte7Sw/o2q+mKS3WjzFr5AG547Fs+fRekujn2X1oN+dNpaTUt3Q49eC7yGNufx8lG2czZKcnvgatpz7cHA26rqp919d6UF+mvHbWj8QFjYihYMbgV8saq+1L3H70Or5PmGyd8zoibPCt25w7OA71fV97qLjt+kPb8Oo60V9qWqOnl0rZw9DFhzVJIdaZNV30erprQq7UT5YmDnqvpjkltX1WWLeJixMCmUrkFbVPH+tPLsVyZZrqquGGkjF6NuyN93aM+VJ9KOxU7A48Z9TPmggQ/hVYDlq+qUbvvOwLpV9eK0dXjeCuxa3WKTSVZakntqut7yi6b6HbsP3A8Ch9NKi1+SVsXUk99OFzo/AewIPIEWEP4A/LRaOfvdacO1DKRAkpWB19KG/s2nBYUraSfEX06y1sRrUzfohoAfRKvw9jPaxaBlgEPHrbdqKt08oXfSevJeSRvh8pqq2qfr4duXNqz51HEPVhOSvI82UurdtCB1eZKNaPPWnpRkhbKgzPUs0z4Hpa05sCltHYYTga/Q1rH4Gq26za5p1W3G7qQmuenq4N1J8rzu67/RurbPBz6aZClagYslXlrFKKrqE8CytFKzp1bVnrQiDT9NsnKSzbsrw2Ote95sAXwf+G6SN3V3HQvcK63a5IeAN1Sbyzcxv+iixd/axeoZtEWm58ENr7m0+aB/ovWcP4X2PnQrw9UNkty5CwOvpBUfegVt3aFjgd2S7FpV7zNc3ciFtDl+d6EVUtkIOJQ2sR7gb6Np1qx3ES0kvAZ4FK3AxeXAtkkeO8qGzRK3o4WqBbRe4x2BtyTZvdoi3htV1SmGqxtU1e6088wNgbW6zdcBy6YVABn7C/qD7MGaAwaupE/8/1JaL8z3gA8PXklOsjXwu2przoyVJCvRrqxXkufS5qGdX1Vf6e4frES1OnB5VZ0zsgaPSJLHVau29U7aULa3VFvU9HW0D5nLaL17Y92bleQ+tB7iV9FC+IHAwbS5IA8BngT8pKoOH1kjR6Tr1TuINtn7nIH3pokKbvcDVqiq3424qbNGd8X8+8Bjq+qXSbYH7lZV70+r9vo44BPV1ukTU893SfIwWnB4bU2aTK/r51ed0M3hW55WpOHFtPWJTgR2B75cY1hRGFrV04lh8EluTbvg+sFqZf4/Sxv6/ZiqOnuEzZx1cuOlbj5M+ww8gXah6OM1ptUnF8WANctNGt52z6o6rfv66bQTvG/QSo5fMsJmjlw3Tv8TwJuAewBvp50I7wgc1vXSjOUE1bRiA8tXK7ywKvCpqtqsu+8ttDfKN1XVcUnuRVuAcizmoy1MkjsDb6YNR9qqCxH3ohW2OLS6CdDdvmM5Nj/Jl2jzPretqnMnh6xRt282Sas++TpaBbcPVNXh3bZv0yaJv5h2UeOnI2zmrJC2ttW1E8PbB59P3RyQNwBfqKpvj7CZs87EBcQk36FVu9usGwK/Am2OzCa059mva4zm1HZDTNeoqqO619y2wHK0qop/ob0urwF+D+xAWxz+qFG1dzbpzh1WHBj+fv35U5K306anvKO68uy6MYcIznID4WpX4LNJ3p3kRVX1NVqRhicDm3ZvomOrqv5OKzW7N22R5R2q6sO09Xe2TLJXt9+4havlaOvp7NDN/bgUuLT70KGq3kwbnvSRJA+sqr+Me7gCqFYY5nBa8Zjt0qq5/YVWwnfrtLXVJvZd4sPVwDDANZM8BKCqdqRdwfxWkpUHetkNVwOS3Js2POultOHcmwJU1aG0i2TXAc8f13CVZJWu14VuSO4PgK93J3B0PaITQ7+PBV5WVd+eajj4OBo4DrcDqKotgH8DB3W9NZfS5vj9FrhmzMLV0rTCVs9MsgNtvuyXgLNp6zdtQjs2K9EC11cMV+2iRpIVaUOZn5ZWWIZqa2Qu1X39Btrr8aXdxUdNYg/WHJDkmbS1ZZ5MW9BzJVqv1V5JdqJdZX/1OPZiTXy4DATRnWjjqvehTYK+qrsK82Pg01X19pE1dkTSqifuTvvQ/S1tUu9raqAASpKX0ErTnjGaVs4Ok3s40xZYfgzwV1qlt39mTIvHdCe/bwVOpa0t98qqOjPJPsADgadU1Xmx6uSNdBczVqq2Ntr2wKOr6iVJHkPrqfn1iJs4UkleBWxOG467Cy2Mngt8mbb4+2u7/ewZXYi0UuJ705YeObCqjkzyFdoSJD+hnT88s6qOHmEzR6IbrrwtsDqteu5Lu+07AVvTeuAvTpsf+e9xHZEANwwDnPgcTLIurUru+cC3F9KT9U7gY1V11uhaPjsZsGahgaE2oXVlbwP8kPYmsRXtA+i1tHLIbwZuU1X/HVV7R2XS8MkdaYvmfq37wN6IVj3pqO6NYg3a8/20ETZ5sZl8MtL9/q8Dbk8rC30hbeL4PFo1weeP+8lLWjWke9BKZNfAsKSn0K50nkgbhnrNuB2rtDWbPgpsBmxMG377LdrQ0n+kFfx4LPCgcTs2M9GdsGxLm8t3IPCqqvrOaFs1ekleT+vZO5O25MHVSe5AW6/wDVV14EgbOIsluRvtguJ+tIINt6cNi/9+WsXTuwDHVNV3R9jMkep6WJ5HK/axZ1X9rNv+PeA9VfXTMQ9Wq1Y3bz+tEuwewG5V9Z/u9i60Ain7VSus5vIt02DAmoVyw0TxwUmFtwU+Qxv6dlWSbwP/BN5YVeeNsr2jluRlwLNpV+gmFgPchdZT8y7amPOxGho4IW2dj4toY80vpYXOlWiB/VhgaeBce65yL1poeNnAB8hggN8GOHHivnGTNnfvrrSTt7fRyhfvA6wAPK+q/prkF8B7q+qQ0bV0dpl80tYNhfs5bYjSbt1J8Fie2E1xbHalvY/vBvyhqi5N8kbgz1V18KjaOZsleThtiZZHVdWr0ta92pFWeOBnwLcG3sPG8nk2obvI+HzaZ94fgONpcyC3rFb9dGwl+QZwj6p6SNr847fSjtPuXchaD/g67Rz0g+N4Qf9/4RysWSRtFfGJMecvpY1D3zlt4bvLaCXYn5FkW+A2wJsNV7kn8FTaVfW/J3lq2nyr/WkVu14KLDW6Fi5eg/MSkmwHfITWxf9O2lDSNwD/BdYBLquq3xuucnfa0Nt/A9dX1hroRaaqDh7XcAVQVWd2cxPWp81TOJX2GluaVqI3tLlEY32iAtfPU5uYszD5hPZ44BC6cLWQfcZC9/paP8muSdapqo/RnlNvAHZOW4x5Z+A/I23oLJVkfdoirxsCr0iyWVVdQHsvO5NWlfIuE/uP6/MsNyxP8jfa/KuJhZffRrugNrbvWQOfb1sDlyT5erX5xxPnCe/v9vkX8Efgm4ar6bMHa5ZIW1PmK7QhgZ+kBYNvAA+idc1+hHal6u20E5lXV9Vxo2jrKE11FS6tZOhjgWOAiYBxWVW9NMkdq2rsPqDTytTfl7Yg4LW0+XtPoA1xOxF4PfDuGsMy9YOS3LWbV7Ub8DRaSfbfOcxtal1o35m2DtHWtPehX3X3Xd/jPq4mzVO7kjaE+0Zr6Uy8J41rj8LAEPiH04a1nUi7gPiLagst70wbAv9d4OCq+vkImzsrpRVO2ZNWbv17XQ/7frRRHN/pRrzcoVrxp7GTVtDpEuDq7rU2OGdoTVpP1hdrTEvVT5a29MEWwK601+FWaXNH3wE8grZA9auqFebRNBmwZpG0dZzeTbtK/OKq+kk3pGRL2ppOn66qvyRZvsZw8c5JQ7a2Am4N/IM2l2gz2rjz05M8jTYHa5dxPIEBSPI12mKv96xWiGAVWi/fU2m9Wb8Z42MzcYL3QNpwpB9V1Ve7uXsb0q5uHjOux2dRuhO3p9Dek/ab+MAduBI6tsdsIfPUDqZdyPjLKNs223RDjvamFdv5YxfcHwX8sQtZuwJHV9VvR9rQWSrJC4BnAb+jrWN4cTdX9Ou0YjNjVcI+bZmWbarqfUk2oa2T9lNa8Z0dquqESSFrhWrVFcdeWlXY79IuMF4GvJ82n/2J3f3rA+fVmK+L+b8wYM0yXcg6ALhtVT2q2/ZA2voMVwJvq26RvHGVZHfaScxPgcfT1mH4fnffLrSrU8+tquNH18rFZ1LwvL7CXZKv0oYCPqgLFKvRevp+VmNe8afradidNnz0CuAzXch6Be1K3mvLcr0LlRuqTI1lL8xUFjFPbVnaUKSxeD+ajrRFlw+jvc7en1b6eWtaMP19VX1ipA2c5boRL9sDD6Ot33RQVV3W9WRdXGO2+HmS1WkVcr9Ie0//VlX9Im1+9utoi3v/dZRtnK26qSk7V9UuA9v+BJxdVU8YWcOWAM7BmmWq6kJalanTkxzcbfsj7Y3jw+MYribNK7orsKCqNgSuog0D+GGSFbq5NGsyvuFqV+DdSd6XZLmq2p425+Oobr8zgAMMV7kzbQjSzlX1f8BBwPpJtq2qD9LWv9KiXQvj3WM12SLmqS1PC/HqVNUPaIHqeUm273oWDqaVFHdI4CJ0FzeupV2IPR5Yl7bO4QrdXNHDBz8zl3Td8TgdeDht3tkGwFlpVe4+AnyOdoFanUnPj3nABknWGdj2eeB+SRYs1oYtYQxYIzLVG+DAMJuLaetWXJbkh922P9WYFrQYCBCrA+cA1yTZH3g08OTuw2ZT2hvF68YlXMGNjs2LacH8XbQqUvslWaOqdqBVLJs4aXFuUQvmtwLu2N3+bPf/y7uJ4u+292rRDFaLdDzw5K6n/UW0uQtePZ+kWrXJVwO7J3l2VV1XVV91KNJNJVknycZw/WKv87pQ+jngFNpQuNtP7D8ur8/uwuE1aUVlzqcNXZ5HK/U/UUL8LNoUi7GW5E5JntGNchks4HQMbd7/T5I8OcnTaSODNqwxXDetTwasEZjU67BmN374Rm+KVXUR8DJaZbxVR9LQWSStjPZbgPnAScDatPVRrkor6LAXcGWN4ST7bl7MQ4DtaHOsjgWuAT7dhawtgafD+HzwLkq1SltfBzZKcv/uOfNN4ALaqvXLj7SBmusOo10BfiTw9uqKgOimquow2vv6a5PcLV3FN91wwTWtGMgrgd2SPBagqq7NDesQ7Uub53fm6Fo7Gl1Q2IJWHXCdqjqbNkd06yQHJnk+8AJayfqx1T2XNqYFp227efzVDTWlqj5MW/tqY9q5wqecN3rLOQdrhJK8htbrcAfaYnefmmIf5zhwfdWkd9LmNvwLeAltOMCxtHlFTxvnK59JlgXuA3yoqjbs3lDPpX34vnkcg+eidBctdqYtzPl72mLeOwJvpC2e+4cRNk9LAOepTV+S+VV17qjbMdsk2RT4AC2wP4x2EejgiTlWGfPFXrv5Q58Htq22Ft9qtLnqVwG/pJ0rvLyq/uTrENIKOa1NG9Hy9aq6crD4R7eP71s9GZv1gWaDST1XywD3BB5DK0RwQNoCwzea3DvuT/Aka1XVKVV1cjdc8uO0qyxvo1W+WQ54Z1X9Y5TtHLXujfIyYKluuMTqwI+BTxqubqpaZcX30iqXrUsLWLcG7kH7UJZuKeepTZPh6qa6wh+PA15fVd9MKz2+OfDcJJdV1S/GOVx1rgSOo41GmKgefCtar+imwOrVrXM17q/DJE+kDaEsWshaNskBVXX5YFCfCFvjfrz6YA/WYjJFMYL70gLWs6vqnG4YwOdppdg/MLqWzh5J7ge8htbDtxOthOhLaSXGfzzKts1GXS/Wy2nDAO5Gu6o3tovjzkSSDWk9pDvbeyVpNkjyAdr6l9tV1XVpJbU/BhwN7FNVJ4+0gSOWZEXgOcAzgPcBJ9BC1uVV9fnRtWx2SXIn2rqqO1XViUleBNwf+BVt8WCL8AyB450Xk4FwtT6tvOpfaYHhFWmLnR5JGyv8zLRS7WNnsPBHd/XuJNpQwFOA99JWF9+QtmiuJqlWYfIDwPOAJxiuZuTPwNMNV5JGYWDO1ZpJ1u02f4BWpOi13e3LacUcVqFdoB1rVXVJVX0M2KCqvgHcFngxbW1M3eBq2oi1lbvbn6Wd/+8OPMO5j8NhD9Zi1HVhvxzYu6q+301Y3YxW2W2fbtjScuN4NWEhPXz/pR2ry7srd2vQFsGbBzwUONdubEnSkqAr2PBW4FRamHoXLUw9F7g77QR5M1pBoyuq6r0jauqs0hVreBBtCsE7aswWWp6OJK+kVVP8Rjcn7Ym0Kqd7jHtP6LAYsIZoijlXdwK+B/y6qnbutj+a1qN1Lu2NtapqbEtpd+XGn07r8v898CNayDq5u38t4LKuWpAkSXNekkcAH6UFqI2BTwBfAT5YVX9J8kDaecK9gE8Dm1vp7QZJVgDuVFV/s0DDTXWFnV4ErAccRZt3/JKq+tFIG7YEM2ANyaRw9RJgpap6e1eS/VDayut7dfc/Eji1qs4ZVXtng67c+AeAN9GqKz6Jtu7VnWjrpZw0WO1GkqQlQXcCfFfaelZvo11k3IdWyOnFVXVCd4Fxb1ovzZ9G1ljNSUluQ1s+4v7AMVV1xIibtEQzYA1Zkp1pc2K2qaozum13BQ4BflZVrx5l+2abRZQb/zhtTZkrR9pASZKGJMnbgXOq6sNJnkWbU/Ssid6qJLetqv+OtJGSbpZl2oeoW7B0U2BP4LIku9DW3TkU2Ao4OMnKVXXeCJs5qyyi3PhnDFeSpCXc8cDOSZYGtgZe1Q0RvFVVXWe4kuYGe7CGLMlOwC60qjYndP+vW1U7J1naNYpuynLjkqRx1A2VfwptzaL9qurQETdJ0v/AgDVkSZYDHkCbY3V+ku1oEw03oxVr8A8whe7q3V2A66rqrFG3R5KkxSXJUlV1jQUbpLnJgLWYdOsMPJfWM7O9E1QlSdJUDFbS3OYcrMVnOdp6V0+rqpNG3RhJkjQ7Ga6kuc0erMXIK1KSJEnSks2AJUmSJEk9udWoGyBJkiRJSwoDliRJkiT1xIAlSZIkST0xYEmSJElSTwxYkiRJktQTA5YkabFLcm2S45L8Icnvkzyqh8e8pI+2SZJ0S7jQsCRpFC6vqgcBJHki8E5g/cX1w5OEtlTJdYvrZ0qSxoM9WJKkUbstcAG04JPkvUn+lOT4JE/vtu+TZMvu628m2a/7+nlJ3j75AZO8OslRSf6Y5C3dtnskOTnJF4E/AatN1ZgklyR5e9e79tskd+62b5HkyCTHJvnRwPa9knwhyS+SnJ5k6yTv6dr//SRLd/s9NMkRSY5JcniSu/Z8HCVJs4ABS5I0Cst3QwT/DHwGeGu3fWvgQcC6wOOB93ZB5BfAY7p9VgHW6b5+DPDzwQdO8gRgbWC97rEemuSx3d1rAx+vqvtV1ekLadsKwG+rat3usV/Ybf8l8IiqejBwAPCage9ZE9gI2BL4MvDTqnoAcDmwWReyPgpsU1UPBfYDbhIMJUlzn0MEJUmjMDhE8JHAF5PcH3g08NWquhb4d5IjgIfRAtbLk6wDnAjcvgtejwReNumxn9D9O7a7vSItWP0DOL2qfnszbbsK+G739THAxt3XqwJf637uMsDfBr7ne1V1dZLjgXnA97vtxwP3AO4N3B/4YRudyDzgnzfTDknSHGTAkiSNVFX9JsnKwPxF7HNWkpWATWi9SncAngZcUlUXT9o9wDur6lM32pjcA7h0Gk26uqqq+/pabvis/Cjwgao6JMkGwF4D33Nl187rkgx+/3Xd9wc4oaoeOY2fL0mawxwiKEkaqST3ofXo/IfWU/X0JPOSzAceC/yu2/W3wMtpAesXwO7d/5MdDjwvyYrd46+S5E49NPV2wFnd18+e4feeDMzveutIsnSS+/XQJknSLGMPliRpFJZPclz3dYBnV9W1Sb5JG/b3B6CA11TVv7r9fgE8oapOSXI6rRfrJgGrqn6Q5L7Ab7rheJcAO9B6o26JvYCDklwA/ARYY7rfWFVXJdkG+EiS29E+fz8EnHAL2yRJmmVywygGSZIkSdIt4RBBSZIkSeqJQwQlSWMpyZHAspM271hVx4+iPZKkJYNDBCVJkiSpJw4RlCRJkqSeGLAkSZIkqScGLEmSJEnqiQFLkiRJknry/28c9w8XAj1AAAAAAElFTkSuQmCC\n",
       "datasetInfos": [],
       "metadata": {},
       "removedWidgets": [],
       "type": "image"
      }
     },
     "output_type": "display_data"
    }
   ],
   "source": [
    "#Assuming that the economical_in_powerplay dataframe is available\n",
    "economical_bowlers_powerplay_pd = economical_bowlers_powerplay.toPandas()\n",
    "\n",
    "#visualizing using the matplotlib\n",
    "plt.figure(figsize = (12,8))\n",
    "#visualizing only top 10 players\n",
    "top_10_economical_bowlers = economical_bowlers_powerplay_pd.nsmallest(10,'avg_runs_per_ball')\n",
    "plt.bar(top_10_economical_bowlers['player_name'],top_10_economical_bowlers['avg_runs_per_ball'], color = 'Skyblue')\n",
    "plt.xlabel('Bowler_name')\n",
    "plt.ylabel('avg_runs_per_ball')\n",
    "plt.title('Top 10 most economical bowlers in powerplay')\n",
    "plt.xticks(rotation = 45)\n",
    "plt.tight_layout()\n",
    "plt.show()\n",
    "\n"
   ]
  },
  {
   "cell_type": "code",
   "execution_count": 0,
   "metadata": {
    "application/vnd.databricks.v1+cell": {
     "cellMetadata": {
      "byteLimit": 2048000,
      "rowLimit": 10000
     },
     "inputWidgets": {},
     "nuid": "e95efd2f-45de-43a4-b6d7-2b594553d6f4",
     "showTitle": false,
     "title": ""
    }
   },
   "outputs": [],
   "source": [
    "import seaborn as sns"
   ]
  },
  {
   "cell_type": "code",
   "execution_count": 0,
   "metadata": {
    "application/vnd.databricks.v1+cell": {
     "cellMetadata": {
      "byteLimit": 2048000,
      "rowLimit": 10000
     },
     "inputWidgets": {},
     "nuid": "336fdca9-bb38-4eff-a78f-c3515808785d",
     "showTitle": false,
     "title": ""
    }
   },
   "outputs": [
    {
     "output_type": "display_data",
     "data": {
      "image/png": "[encoded data removed]"
     },
     "metadata": {
      "application/vnd.databricks.v1+output": {
       "addedWidgets": {},
       "arguments": {},
       "data": "data:image/png;base64,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\n",
       "datasetInfos": [],
       "metadata": {},
       "removedWidgets": [],
       "type": "image"
      }
     },
     "output_type": "display_data"
    }
   ],
   "source": [
    "#Assuming that the economical_in_powerplay dataframe is available\n",
    "toss_impact_pd = toss_impact_on_individual_matches.toPandas()\n",
    "\n",
    "#visualizing using the matplotlib\n",
    "plt.figure(figsize = (12,8))\n",
    "#visualizing only top 10 players\n",
    "sns.countplot(x = 'toss_winner', hue = 'match_outcome', data = toss_impact_pd)\n",
    "plt.xlabel('toss_winner')\n",
    "plt.ylabel('number_of_matches')\n",
    "plt.title('Impact of winning toss on match outcome')\n",
    "plt.xticks(rotation = 45)\n",
    "plt.tight_layout()\n",
    "plt.show()"
   ]
  },
  {
   "cell_type": "code",
   "execution_count": 0,
   "metadata": {
    "application/vnd.databricks.v1+cell": {
     "cellMetadata": {
      "byteLimit": 2048000,
      "rowLimit": 10000
     },
     "inputWidgets": {},
     "nuid": "9367cd3b-4899-4bab-9109-2938968e1b9a",
     "showTitle": false,
     "title": ""
    }
   },
   "outputs": [
    {
     "output_type": "stream",
     "name": "stdout",
     "output_type": "stream",
     "text": [
      "+--------------------+-----+\n|            out_type|count|\n+--------------------+-----+\n|              caught| 3678|\n|              bowled| 1382|\n|             run out|  744|\n|        Keeper Catch|  695|\n|                 lbw|  455|\n|             stumped|  222|\n|   caught and bowled|  211|\n|        retired hurt|    9|\n|          hit wicket|    9|\n|obstructing the f...|    1|\n+--------------------+-----+\n\n"
     ]
    }
   ],
   "source": [
    "#analysing the dismissal types\n",
    "\n",
    "dismissal_types = spark.sql(\"\"\"\n",
    "select b.out_type, count(b.out_type) as count \n",
    "from ball_by_ball b\n",
    "where out_type != 'Not Applicable'\n",
    "group by b.out_type    \n",
    "order by count desc                \n",
    "\"\"\")\n",
    "\n",
    "dismissal_types.show()"
   ]
  },
  {
   "cell_type": "code",
   "execution_count": 0,
   "metadata": {
    "application/vnd.databricks.v1+cell": {
     "cellMetadata": {
      "byteLimit": 2048000,
      "rowLimit": 10000
     },
     "inputWidgets": {},
     "nuid": "7bffbf01-2e96-40cd-a03f-6f53cfc82960",
     "showTitle": false,
     "title": ""
    }
   },
   "outputs": [
    {
     "output_type": "display_data",
     "data": {
      "image/png": "[encoded data removed]"
     },
     "metadata": {
      "application/vnd.databricks.v1+output": {
       "addedWidgets": {},
       "arguments": {},
       "data": "data:image/png;base64,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\n",
       "datasetInfos": [],
       "metadata": {},
       "removedWidgets": [],
       "type": "image"
      }
     },
     "output_type": "display_data"
    }
   ],
   "source": [
    "dismissal_types_pd = dismissal_types.toPandas()\n",
    "\n",
    "plt.figure(figsize=(12,8))\n",
    "plt.bar(dismissal_types_pd['out_type'],dismissal_types_pd['count'],color = 'red')\n",
    "plt.xlabel('Dismissal_type')\n",
    "plt.ylabel('count')\n",
    "plt.title('Dismissal type count analysis')\n",
    "plt.xticks(rotation = 45)\n",
    "plt.tight_layout()\n",
    "plt.show()"
   ]
  },
  {
   "cell_type": "code",
   "execution_count": 0,
   "metadata": {
    "application/vnd.databricks.v1+cell": {
     "cellMetadata": {
      "byteLimit": 2048000,
      "rowLimit": 10000
     },
     "inputWidgets": {},
     "nuid": "ccac4368-2cd6-4504-bfd6-fb303298227b",
     "showTitle": false,
     "title": ""
    }
   },
   "outputs": [
    {
     "output_type": "display_data",
     "data": {
      "image/png": "[encoded data removed]"
     },
     "metadata": {
      "application/vnd.databricks.v1+output": {
       "addedWidgets": {},
       "arguments": {},
       "data": "data:image/png;base64,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\n",
       "datasetInfos": [],
       "metadata": {},
       "removedWidgets": [],
       "type": "image"
      }
     },
     "output_type": "display_data"
    }
   ],
   "source": [
    "#creating the same visual using the seaborn package\n",
    "plt.figure(figsize = (12,8))\n",
    "sns.barplot(x= 'out_type',y ='count', data = dismissal_types_pd, palette = 'pastel' )\n",
    "plt.xlabel('Dismissal_type')\n",
    "plt.ylabel('count')\n",
    "plt.title('Dismissal type count analysis')\n",
    "plt.xticks(rotation = 45)\n",
    "plt.tight_layout()\n",
    "plt.show()"
   ]
  },
  {
   "cell_type": "code",
   "execution_count": 0,
   "metadata": {
    "application/vnd.databricks.v1+cell": {
     "cellMetadata": {},
     "inputWidgets": {},
     "nuid": "0866673d-2b38-45c6-808f-add6e4fd702d",
     "showTitle": false,
     "title": ""
    }
   },
   "outputs": [],
   "source": []
  }
 ],
 "metadata": {
  "application/vnd.databricks.v1+notebook": {
   "dashboards": [],
   "environmentMetadata": null,
   "language": "python",
   "notebookMetadata": {
    "pythonIndentUnit": 4
   },
   "notebookName": "Sugun_ipl_spark (1)",
   "widgets": {}
  }
 },
 "nbformat": 4,
 "nbformat_minor": 0
}
